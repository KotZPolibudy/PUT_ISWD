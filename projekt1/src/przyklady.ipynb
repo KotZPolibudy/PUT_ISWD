{
 "cells": [
  {
   "cell_type": "code",
   "execution_count": 6,
   "metadata": {
    "collapsed": true
   },
   "outputs": [],
   "source": [
    "import numpy as np\n",
    "from pulp import LpProblem, LpVariable, LpMaximize, lpSum, value, LpStatus\n",
    "import random\n",
    "import matplotlib.pyplot as plt"
   ]
  },
  {
   "cell_type": "code",
   "execution_count": 7,
   "outputs": [],
   "source": [
    "# Create a problem variable:\n",
    "prob = LpProblem(\"Maximize_the_profit_Z\", LpMaximize)\n",
    "\n",
    "# Create problem variables:\n",
    "x = LpVariable(\"x\", lowBound=0, upBound=None) # x>=0\n",
    "y = LpVariable(\"y\", lowBound=0, upBound=None) # y>=0\n",
    "\n",
    "\n",
    "# The objective function and constraints are added using the += operator to our model.\n",
    "# Objective function Z\n",
    "prob += 4*x + 3*y, \"Profit\"\n",
    "\n",
    "# Constraints\n",
    "prob += 2*x + y <= 20\n",
    "prob += x + y <= 12"
   ],
   "metadata": {
    "collapsed": false
   }
  },
  {
   "cell_type": "code",
   "execution_count": 8,
   "outputs": [
    {
     "data": {
      "text/plain": "Maximize_the_profit_Z:\nMAXIMIZE\n4*x + 3*y + 0\nSUBJECT TO\n_C1: 2 x + y <= 20\n\n_C2: x + y <= 12\n\nVARIABLES\nx Continuous\ny Continuous"
     },
     "execution_count": 8,
     "metadata": {},
     "output_type": "execute_result"
    }
   ],
   "source": [
    "prob"
   ],
   "metadata": {
    "collapsed": false
   }
  },
  {
   "cell_type": "code",
   "execution_count": 9,
   "outputs": [
    {
     "name": "stdout",
     "output_type": "stream",
     "text": [
      "Status: Optimal\n",
      "x = 8.0\n",
      "y = 4.0\n",
      "Total profit is:  44.0\n"
     ]
    }
   ],
   "source": [
    "# Solve the problem\n",
    "prob.solve()\n",
    "print(\"Status:\", LpStatus[prob.status])\n",
    "\n",
    "# Print the optimal production amount of x and y\n",
    "for v in prob.variables():\n",
    "    print(v.name, \"=\", v.varValue)\n",
    "\n",
    "# Print the optimal profit\n",
    "print(\"Total profit is: \", value(prob.objective))"
   ],
   "metadata": {
    "collapsed": false
   }
  },
  {
   "cell_type": "markdown",
   "source": [
    "Plecakowy"
   ],
   "metadata": {
    "collapsed": false
   }
  },
  {
   "cell_type": "code",
   "execution_count": 10,
   "outputs": [
    {
     "name": "stdout",
     "output_type": "stream",
     "text": [
      "Status: Optimal\n",
      "Item1 = 0.0\n",
      "Item2 = 1.0\n",
      "Item3 = 1.0\n",
      "Total value of items in knapsack is:  220.0\n"
     ]
    }
   ],
   "source": [
    "# Create the 'prob' variable to contain the problem data\n",
    "prob = LpProblem(name=\"Knapsack_Problem\", sense=LpMaximize)\n",
    "\n",
    "# The 3 binary variables that can only take values of 0 or 1\n",
    "x1 = LpVariable(name=\"Item1\", cat='Binary')\n",
    "x2 = LpVariable(name=\"Item2\", cat='Binary')\n",
    "x3 = LpVariable(name=\"Item3\", cat='Binary')\n",
    "\n",
    "# The objective function is added to 'prob'\n",
    "prob += lpSum([50*x1, 100*x2, 120*x3]), \"Total Value of Items in Knapsack\"\n",
    "\n",
    "# Constraint\n",
    "prob += lpSum([10*x1, 20*x2, 30*x3]) <= 50, \"Total Weight of Items in Knapsack\"\n",
    "\n",
    "# Solve the problem\n",
    "prob.solve()\n",
    "print(\"Status:\", LpStatus[prob.status])\n",
    "\n",
    "# Print the optimal solution\n",
    "for v in prob.variables():\n",
    "    print(v.name, \"=\", v.varValue)\n",
    "\n",
    "# Print the optimal total value\n",
    "print(\"Total value of items in knapsack is: \", value(prob.objective))"
   ],
   "metadata": {
    "collapsed": false
   }
  },
  {
   "cell_type": "markdown",
   "source": [
    "Binary Variables as switches:\n"
   ],
   "metadata": {
    "collapsed": false
   }
  },
  {
   "cell_type": "code",
   "execution_count": 11,
   "outputs": [
    {
     "name": "stdout",
     "output_type": "stream",
     "text": [
      "Status: Optimal\n",
      "b1 = 0.0\n",
      "b2 = 1.0\n",
      "b3 = 1.0\n",
      "x = 8.0\n",
      "y = 13.0\n",
      "Total value is:  2.0\n"
     ]
    }
   ],
   "source": [
    "prob = LpProblem(name=\"Switch_Problem\", sense=LpMaximize)\n",
    "\n",
    "# The variables are created\n",
    "x = LpVariable(name=\"x\", lowBound=0,upBound=8)\n",
    "y = LpVariable(name=\"y\", lowBound=0)\n",
    "b1 = LpVariable(name=\"b1\", cat='Binary')\n",
    "b2 = LpVariable(name=\"b2\", cat='Binary')\n",
    "b3 = LpVariable(name=\"b3\", cat='Binary')\n",
    "\n",
    "# The objective function is added to 'prob' first\n",
    "prob += lpSum([b1,b2,b3]), \"Total Value\"\n",
    "\n",
    "\n",
    "M = 1000  # A very large number\n",
    "eps = 0.00001# A very small number\n",
    "prob += lpSum([x, y]) + M*(1-b1)>= 50 , \"Weight constraint when b1 is 1\"\n",
    "prob += lpSum([x, 2*y]) + M*b1 <= 100 , \"Weight constraint when b1 is 0\"\n",
    "prob += lpSum([3*x, 2*y]) + M*(1-b2)>= 50 , \"Weight constraint when b2 is 1\"\n",
    "# It is not possible to model sharp inequalities `>` or `<` in solver,\n",
    "# in order to model them a small epsilon value is added artificially to the non-sharp equations.\n",
    "prob += lpSum([-x, 5*y]) + M*b3 >= 75+eps , \"Weight constraint when b3 is 0\"\n",
    "\n",
    "# Solve the problem\n",
    "prob.solve()\n",
    "print(\"Status:\", LpStatus[prob.status])\n",
    "\n",
    "# Print the optimal solution\n",
    "for v in prob.variables():\n",
    "    print(v.name, \"=\", v.varValue)\n",
    "\n",
    "# Print the optimal total value\n",
    "print(\"Total value is: \", value(prob.objective))\n"
   ],
   "metadata": {
    "collapsed": false
   }
  },
  {
   "cell_type": "markdown",
   "source": [
    "Uta - basic:\n"
   ],
   "metadata": {
    "collapsed": false
   }
  },
  {
   "cell_type": "code",
   "execution_count": 12,
   "outputs": [
    {
     "name": "stdout",
     "output_type": "stream",
     "text": [
      "Status: Infeasible\n",
      "\n",
      "Optimal Solution:\n",
      "Alternative1_Utility = 1.01\n",
      "Alternative2_Utility = 1.0\n",
      "Alternative3_Utility = 1.0\n",
      "Alternative4_Utility = 0.76\n",
      "__dummy = None\n",
      "criterion1_0 = 0.0\n",
      "criterion1_100 = 0.25\n",
      "criterion1_25 = 0.25\n",
      "criterion1_50 = 0.25\n",
      "criterion1_75 = 0.25\n",
      "criterion2_Bad = 0.0\n",
      "criterion2_Excellent = 0.75\n",
      "criterion2_Good = 0.75\n",
      "criterion2_Neutral = 0.75\n",
      "criterion2_Poor = 0.76\n",
      "\n",
      "Objective value: None\n"
     ]
    }
   ],
   "source": [
    "# Define criteria values\n",
    "criterion1_values = [0, 25, 50, 75, 100]\n",
    "criterion2_values = [\"Bad\", \"Poor\", \"Neutral\", \"Good\", \"Excellent\"]\n",
    "\n",
    "# Create LP problem\n",
    "prob = LpProblem(\"Simplified_UTA_Method\", LpMaximize)\n",
    "\n",
    "# Create decision variables for criteria\n",
    "criterion1_vars = {val: LpVariable(f\"criterion1_{val}\", lowBound=0, upBound=1) for val in criterion1_values}\n",
    "criterion2_vars = {val: LpVariable(f\"criterion2_{val}\", lowBound=0, upBound=1) for val in criterion2_values}\n",
    "\n",
    "# Monotonicity constraints\n",
    "for i in range(len(criterion1_values) - 1):\n",
    "    prob += criterion1_vars[criterion1_values[i]] <= criterion1_vars[criterion1_values[i + 1]], f\"Monotonicity_C1_{i}\"\n",
    "for i in range(len(criterion2_values) - 1):\n",
    "    prob += criterion2_vars[criterion2_values[i]] <= criterion2_vars[criterion2_values[i + 1]], f\"Monotonicity_C2_{i}\"\n",
    "\n",
    "# Normalization constraints\n",
    "prob += criterion1_vars[0] == 0, \"Normalize_C1_Lowest\"\n",
    "prob += criterion2_vars[\"Bad\"] == 0, \"Normalize_C2_Lowest\"\n",
    "prob += criterion1_vars[100] + criterion2_vars[\"Excellent\"] == 1, \"Normalize_Criteria_Sum\"\n",
    "\n",
    "# Weight constraints (not part of UTA but additional constraint)\n",
    "prob += criterion1_vars[100] <= 0.75, \"Weight_C1_Limit\"\n",
    "prob += criterion2_vars[\"Excellent\"] <= 0.75, \"Weight_C2_Limit\"\n",
    "\n",
    "# Define alternatives with random evaluations\n",
    "alternatives = {\n",
    "    f\"Alternative{i+1}\": {\n",
    "        \"C1\": random.choice(criterion1_values),\n",
    "        \"C2\": random.choice(criterion2_values)\n",
    "    }\n",
    "    for i in range(4)\n",
    "}\n",
    "\n",
    "# Create utility variables and constraints\n",
    "alternative_utilities = {}\n",
    "for name, evals in alternatives.items():\n",
    "    utility_var = LpVariable(f\"{name}_Utility\", lowBound=0)\n",
    "    alternative_utilities[name] = utility_var\n",
    "\n",
    "    # Sum of selected criteria variables defines utility\n",
    "    prob += utility_var == lpSum([criterion1_vars[evals[\"C1\"]], criterion2_vars[evals[\"C2\"]]]), f\"Utility_{name}\"\n",
    "\n",
    "# Preference constraints provided by the decision maker\n",
    "epsilon = 0.01 # Small value to ensure strict preference\n",
    "prob += alternative_utilities[\"Alternative1\"] >= alternative_utilities[\"Alternative2\"] + epsilon, \"Pref_A1_A2\"\n",
    "prob += alternative_utilities[\"Alternative1\"] >= alternative_utilities[\"Alternative3\"] + epsilon, \"Pref_A1_A3\"\n",
    "prob += alternative_utilities[\"Alternative2\"] >= alternative_utilities[\"Alternative4\"] + epsilon, \"Pref_A2_A4\"\n",
    "\n",
    "# No specific objective function; checking feasibility\n",
    "# You need to write your own objective function depending on the variant of the UTA method.\n",
    "\n",
    "prob += 0 # Placeholder objective function\n",
    "\n",
    "# Solve the problem\n",
    "prob.solve()\n",
    "\n",
    "# Print results\n",
    "print(f\"Status: {LpStatus[prob.status]}\")\n",
    "print(\"\\nOptimal Solution:\")\n",
    "for var in prob.variables():\n",
    "    print(f\"{var.name} = {value(var)}\")\n",
    "\n",
    "print(\"\\nObjective value:\", value(prob.objective))\n",
    "# In the results below, there is  __dummy = None which is a placeholder for the objective function."
   ],
   "metadata": {
    "collapsed": false
   }
  },
  {
   "cell_type": "code",
   "execution_count": 13,
   "outputs": [
    {
     "data": {
      "text/plain": "<Figure size 800x600 with 1 Axes>",
      "image/png": "[encoded data removed]"
     },
     "metadata": {},
     "output_type": "display_data"
    }
   ],
   "source": [
    "# This example demonstrates how to plot the partial utility function for criterion 1\n",
    "solver_values = [value(criterion1_vars[val]) for val in criterion1_values]\n",
    "\n",
    "plt.figure(figsize=(8, 6))\n",
    "plt.plot(criterion1_values, solver_values, marker='o', linestyle='-', color='b', label='$u(g_{C_1})$')\n",
    "plt.xlabel('$g_{C_1}$')\n",
    "plt.ylabel('$u(g_{C_1})$')\n",
    "plt.title('Plot of the partial utility function for criterion $C_1$')\n",
    "plt.xticks(criterion1_values)\n",
    "plt.grid(True)\n",
    "plt.show()\n"
   ],
   "metadata": {
    "collapsed": false
   }
  },
  {
   "cell_type": "code",
   "execution_count": null,
   "outputs": [],
   "source": [],
   "metadata": {
    "collapsed": false
   }
  }
 ],
 "metadata": {
  "kernelspec": {
   "display_name": "Python 3",
   "language": "python",
   "name": "python3"
  },
  "language_info": {
   "codemirror_mode": {
    "name": "ipython",
    "version": 2
   },
   "file_extension": ".py",
   "mimetype": "text/x-python",
   "name": "python",
   "nbconvert_exporter": "python",
   "pygments_lexer": "ipython2",
   "version": "2.7.6"
  }
 },
 "nbformat": 4,
 "nbformat_minor": 0
}
