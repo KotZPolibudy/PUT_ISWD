{
 "cells": [
  {
   "cell_type": "code",
   "execution_count": 1,
   "metadata": {},
   "outputs": [],
   "source": [
    "%matplotlib inline\n",
    "import numpy as np\n",
    "import random\n",
    "import matplotlib.pyplot as plt\n",
    "import matplotlib.lines as mlines\n",
    "\n",
    "from basegame.game import Game\n",
    "from basegame.player import Player"
   ]
  },
  {
   "cell_type": "code",
   "execution_count": 2,
   "metadata": {},
   "outputs": [],
   "source": [
    "from benchmarks.simplePlayer import SimplePlayer\n",
    "from benchmarks.simpleNoCheck import SimpleNoCheck\n",
    "from benchmarks.simpleAlwaysCheck import SimpleAlwaysCheck\n",
    "from benchmarks.honestPlayer import HonestPlayer\n",
    "\n",
    "from moje_dzieci.MyFirstPlayer import MyFirstPlayer\n",
    "from moje_dzieci.MySecondPlayer import MySecondPlayer\n",
    "from moje_dzieci.MyThirdPlayer import MyThirdPlayer\n",
    "from absolutnie_do_wywalenia.cardCounter import FirstCardCounter\n",
    "from absolutnie_do_wywalenia.cardCounter_base2 import SecondCardCounter\n",
    "from czyje.Kondys_Dabrowski import Kondys_Dabrowski"
   ]
  },
  {
   "cell_type": "code",
   "execution_count": 3,
   "metadata": {},
   "outputs": [
    {
     "name": "stdout",
     "output_type": "stream",
     "text": [
      "[(9, 0), (10, 0), (11, 0), (12, 0), (13, 0), (14, 0), (9, 1), (10, 1), (11, 1), (12, 1), (13, 1), (14, 1), (9, 2), (10, 2), (11, 2), (12, 2), (13, 2), (14, 2), (9, 3), (10, 3), (11, 3), (12, 3), (13, 3), (14, 3)]\n"
     ]
    }
   ],
   "source": [
    "### Generate cards from 9 to 14 (ace) for all colors/symbols (0, 1, 2, 3)\n",
    "def getDeck():\n",
    "    return [(number, color) for color in range(4) for number in range(9, 15)]\n",
    "    \n",
    "print(getDeck())"
   ]
  },
  {
   "cell_type": "code",
   "execution_count": 4,
   "metadata": {},
   "outputs": [
    {
     "name": "stdout",
     "output_type": "stream",
     "text": [
      "[(9, 0), (12, 1), (9, 3), (10, 1), (14, 0), (13, 3), (12, 2), (10, 3)]\n",
      "[(13, 1), (14, 1), (12, 0), (13, 0), (12, 3), (14, 3), (14, 2), (9, 1)]\n"
     ]
    }
   ],
   "source": [
    "### Shuffle the cards randomly. Each player gets 9 cards\n",
    "### (so one player cannot be certain which cards the other player has)\n",
    "\n",
    "def getShuffled(deck):\n",
    "    D = set(deck)\n",
    "    A = set(random.sample(deck, 8))\n",
    "    B = set(random.sample(list(D - A), 8))\n",
    "    C = D - A - B\n",
    "    if len(A.intersection(B)) > 0: print(\"Shuffle error 1\")\n",
    "    if len(A.intersection(B)) > 0: print(\"Shuffle error 2\")\n",
    "    if len(A.intersection(C)) > 0: print(\"Shuffle error 3\") \n",
    "    DS = A | B | C\n",
    "    if not DS == D: print(\"Shuffle error 4\")  \n",
    "    return list(A), list(B), list(C)\n",
    "\n",
    "p1, p2, notUsed, = getShuffled(getDeck())\n",
    "print(p1)\n",
    "print(p2)\n"
   ]
  },
  {
   "cell_type": "code",
   "execution_count": 5,
   "metadata": {},
   "outputs": [],
   "source": [
    "# Some examplary random player\n",
    "\n",
    "class RandomPlayer(Player):\n",
    "    \n",
    "    ### player's random strategy\n",
    "    def putCard(self, declared_card):\n",
    "        \n",
    "        ### check if must draw\n",
    "        if len(self.cards) == 1 and declared_card is not None and self.cards[0][0] < declared_card[0]:\n",
    "            return \"draw\"\n",
    "        \n",
    "        ### player randomly decides which card put on the table\n",
    "        card = random.choice(self.cards)\n",
    "        declaration = card\n",
    "        \n",
    "        ### player randomly decides whether to cheat or not\n",
    "        cheat = np.random.choice([True, False])\n",
    "       \n",
    "        ### if (s)he decides to cheat, (s)he randomly declares the card.\n",
    "        if cheat:\n",
    "            declaration = random.choice(self.cards)             \n",
    "            \n",
    "        ### Yet, declared card should be no worse than a card on the top of the pile . \n",
    "        if declared_card is not None and declaration[0] < declared_card[0]:\n",
    "            declaration = (min(declared_card[0]+1,14), declaration[1])\n",
    "\n",
    "        ### return the decision (true card) and declaration (player's declaration)\n",
    "        return card, declaration\n",
    "    \n",
    "    ### randomly decides whether to check or not\n",
    "    def checkCard(self, opponent_declaration):\n",
    "        return np.random.choice([True, False])\n",
    "    "
   ]
  },
  {
   "cell_type": "markdown",
   "metadata": {},
   "source": [
    "Analyze few moves..."
   ]
  },
  {
   "cell_type": "code",
   "execution_count": 6,
   "metadata": {},
   "outputs": [],
   "source": [
    "### Perform a full game 100 times\n",
    "STAT_NAMES = [\"Wins\", \"Draws\", \"Moves\", \"Cards\", \"Pile Size\", \"Checks\", \"Draw Decisions\", \"Cheats\", \"Errors\", \"Total errors\"]\n",
    "ANALYZE_STATS = [0, 1, 2, 3, 5, 6, 7, 8]\n",
    "\n",
    "def printResults(results):\n",
    "    print(\"Wins:\")\n",
    "    print(results[0])\n",
    "    print(\"Draws:\")\n",
    "    print(results[1])\n",
    "    print(\"Moves:\")\n",
    "    print(results[2])\n",
    "    print(\"Cards:\")\n",
    "    print(results[3])\n",
    "    print(\"Pile size:\")\n",
    "    print(results[4])\n",
    "    print(\"Checks:\")\n",
    "    print(results[5])\n",
    "    print(\"Draw decisions:\")\n",
    "    print(results[6])\n",
    "    print(\"Cheats:\")\n",
    "    print(results[7])\n",
    "    print(\"Errors:\")\n",
    "    print(results[8])\n",
    "    print(\"Total errors:\")\n",
    "    print(results[9])\n",
    "\n",
    "def comparePlayers(player1_class, player2_class):\n",
    "    stats_wins = [0, 0]\n",
    "    stats_draws = [0, 0]\n",
    "    stats_moves = [0, 0]\n",
    "    stats_cards = [0, 0]\n",
    "    stats_pile_size = 0\n",
    "    stats_checks = [0, 0]\n",
    "    stats_draw_decisions = [0, 0]\n",
    "    stats_cheats = [0, 0]\n",
    "    stats_errors = [0, 0]\n",
    "    \n",
    "    repeats = 1000\n",
    "    errors = 0\n",
    "    draws = 0\n",
    "\n",
    "    for t in range(repeats):\n",
    "        player1 = player1_class(\"\")\n",
    "        player2 = player2_class(\"\")\n",
    "        game = Game([player1, player2], log = False)\n",
    "    \n",
    "        error = False\n",
    "        draw = False\n",
    "        \n",
    "        while True:\n",
    "            valid, player = game.takeTurn(log = False)\n",
    "            if game.moves[0] > 100 or game.moves[1] > 100:\n",
    "                draws += 1\n",
    "                stats_draws[0] += 1\n",
    "                stats_draws[1] += 1\n",
    "                if (game.player_cards[0] < game.player_cards[1]):\n",
    "                    stats_wins[0] += 1\n",
    "                if (game.player_cards[0] > game.player_cards[1]):\n",
    "                    stats_wins[1] += 1\n",
    "                    \n",
    "                    \n",
    "                draw=True\n",
    "                # print(\"DRAW\")\n",
    "                break\n",
    "            if not valid:\n",
    "                error = True\n",
    "                stats_errors[player] += 1\n",
    "                errors += 1\n",
    "                break\n",
    "            if game.isFinished(log = False):\n",
    "                stats_wins[player] += 1\n",
    "                break\n",
    "            \n",
    "        stats_pile_size += len(game.pile)\n",
    "        if error: continue\n",
    "        #if draw: continue\n",
    "       \n",
    "        for j in range(2):\n",
    "            stats_moves[j] += game.moves[j]\n",
    "            stats_cheats[j] += game.cheats[j]\n",
    "            stats_checks[j] += game.checks[j]\n",
    "            stats_draw_decisions[j] += game.draw_decisions[j]\n",
    "            stats_cards[j] += len(game.player_cards[j])\n",
    "\n",
    "    div = repeats - errors\n",
    "    if div > 0:\n",
    "            \n",
    "        stats_pile_size /= div          \n",
    "        for j in range(2):\n",
    "            stats_moves[j] /= div\n",
    "            stats_cheats[j] /= div\n",
    "            stats_checks[j] /= div\n",
    "            stats_draw_decisions[j] /= div\n",
    "            stats_cards[j] /= div\n",
    "            \n",
    "    return [stats_wins, stats_draws, stats_moves, stats_cards, stats_pile_size, stats_checks, \n",
    "            stats_draw_decisions, stats_cheats, stats_errors, errors, draws]  \n"
   ]
  },
  {
   "cell_type": "markdown",
   "metadata": {},
   "source": [
    "# COMPARE"
   ]
  },
  {
   "cell_type": "code",
   "execution_count": 7,
   "outputs": [],
   "source": [
    "from moje_dzieci.Kot_4 import Kot4\n",
    "from moje_dzieci.Kot_5 import Kot5\n",
    "from moje_dzieci.Kot_6 import Kot6\n",
    "from moje_dzieci.Kociak import Kociak\n",
    "from moje_dzieci.Kociak_simple import KociakSimple\n",
    "from moje_dzieci.Kociak_proba import KociakProba\n",
    "from moje_dzieci.Kociak_proba2 import KociakProba2\n",
    "from moje_dzieci.Kociak_proba3 import KociakProba3\n",
    "from moje_dzieci.Kociak_adapt import KociakAdapt"
   ],
   "metadata": {
    "collapsed": false
   }
  },
  {
   "cell_type": "code",
   "execution_count": 8,
   "outputs": [
    {
     "name": "stdout",
     "output_type": "stream",
     "text": [
      "RANKING GRACZY (według liczby wygranych):\n",
      "1. kacper - 12359 / 16000 wygranych\n",
      "2. Kot4 - 11244 / 16000 wygranych\n",
      "3. Kot_Second - 10592 / 16000 wygranych\n",
      "4. Kot6 - 10245 / 16000 wygranych\n",
      "5. Kot5 - 10113 / 16000 wygranych\n",
      "6. Kot_Third - 9338 / 16000 wygranych\n",
      "7. Kociak_proba - 8758 / 16000 wygranych\n",
      "8. KociakSimple - 8417 / 16000 wygranych\n",
      "9. Kociak_adapt - 8332 / 16000 wygranych\n",
      "10. Kociak_proba3 - 8091 / 16000 wygranych\n",
      "11. NoCheck - 8073 / 16000 wygranych\n",
      "12. Kot_First - 7786 / 16000 wygranych\n",
      "13. Kociak_proba2 - 6848 / 16000 wygranych\n",
      "14. SimplePlayer - 6738 / 16000 wygranych\n",
      "15. HonestPlayer - 5749 / 16000 wygranych\n",
      "16. RandomPlayer - 2149 / 16000 wygranych\n",
      "17. AlwaysCheck - 1168 / 16000 wygranych\n"
     ]
    }
   ],
   "source": [
    "strategy = [\n",
    "    [\"RandomPlayer\", \"RANDOM\", RandomPlayer],\n",
    "    [\"SimplePlayer\", \"SimplePlayer\", SimplePlayer],\n",
    "    [\"NoCheck\", \"NoCheck\", SimpleNoCheck],\n",
    "    [\"AlwaysCheck\", \"AlwaysCheck\", SimpleAlwaysCheck],\n",
    "    [\"HonestPlayer\", \"HonestPlayer\", HonestPlayer],\n",
    "    [\"Kot_First\", \"Kot_First\", MyFirstPlayer],\n",
    "    [\"Kot_Second\", \"Kot_Second\", MySecondPlayer],\n",
    "    [\"Kot_Third\", \"Kot_Third\", MyThirdPlayer],\n",
    "    [\"kacper\",\"Kacper\",Kondys_Dabrowski],\n",
    "    [\"Kot4\",\"Kot4\", Kot4],\n",
    "    [\"Kot5\",\"Kot5\", Kot5],\n",
    "    [\"Kot6\",\"Kot6\", Kot6],\n",
    "    [\"KociakSimple\",\"KociakSimple\", KociakSimple],\n",
    "    [\"Kociak_proba\",\"Kociak_proba\", KociakProba],\n",
    "    [\"Kociak_proba2\",\"Kociak_proba2\", KociakProba2],\n",
    "    [\"Kociak_proba3\",\"Kociak_proba3\", KociakProba3],\n",
    "    [\"Kociak_adapt\",\"Kociak_adapt\", KociakAdapt],\n",
    "    # [\"Kociak\",\"Kociak\", Kociak],\n",
    "   ]\n",
    "\n",
    "#%pdb on\n",
    "full_results = [[None for i in range(len(strategy))] for i in range(len(strategy))]\n",
    "\n",
    "for A in range(len(strategy)):\n",
    "    # print(\"==== \" + str(A), strategy[A][0])\n",
    "    for B in range(A+1,len(strategy)):\n",
    "        # print(B, strategy[B][0])\n",
    "        results = comparePlayers(strategy[A][2], strategy[B][2])\n",
    "        full_results[A][B] = results\n",
    "\n",
    "\n",
    "def generate_ranking(full_results, strategy):\n",
    "    n = len(strategy)\n",
    "    total_wins = [0 for _ in range(n)]\n",
    "\n",
    "    for i in range(n):\n",
    "        for j in range(n):\n",
    "            if i < j and full_results[i][j] is not None:\n",
    "                wins_i, wins_j = full_results[i][j][0]\n",
    "                total_wins[i] += wins_i\n",
    "                total_wins[j] += wins_j\n",
    "\n",
    "    # Sparuj nazwy z wynikami\n",
    "    ranking = list(zip([s[0] for s in strategy], total_wins))\n",
    "\n",
    "    # Posortuj malejąco\n",
    "    ranking.sort(key=lambda x: x[1], reverse=True)\n",
    "\n",
    "    maxxx = (len(strategy) -1) * 1000\n",
    "\n",
    "    print(\"RANKING GRACZY (według liczby wygranych):\")\n",
    "    for idx, (name, wins) in enumerate(ranking, 1):\n",
    "        print(f\"{idx}. {name} - {wins} / {maxxx} wygranych\")\n",
    "\n",
    "    return ranking\n",
    "\n",
    "ranking = generate_ranking(full_results, strategy)"
   ],
   "metadata": {
    "collapsed": false
   }
  },
  {
   "cell_type": "code",
   "execution_count": 9,
   "outputs": [
    {
     "name": "stdout",
     "output_type": "stream",
     "text": [
      "MACIERZ WYGRANYCH:\n",
      "               RandomPlayer  SimplePlayer  NoCheck  AlwaysCheck  HonestPlayer  Kot_First  Kot_Second  Kot_Third  kacper   Kot4   Kot5   Kot6  KociakSimple  Kociak_proba  Kociak_proba2  Kociak_proba3  Kociak_adapt\n",
      "RandomPlayer            NaN          94.0    554.0          8.0           9.0       52.0       128.0      120.0     1.0  126.0  127.0  123.0         179.0         167.0          171.0          129.0         161.0\n",
      "SimplePlayer          906.0           NaN    638.0        992.0         347.0      295.0       355.0      321.0    80.0  266.0  349.0  354.0         410.0         350.0          457.0          334.0         284.0\n",
      "NoCheck               446.0         362.0      NaN        912.0         729.0      681.0       258.0      416.0   422.0  228.0  471.0  444.0         565.0         528.0          530.0          553.0         528.0\n",
      "AlwaysCheck           992.0           8.0     88.0          NaN           0.0        0.0        11.0        3.0     0.0   10.0    0.0    0.0           4.0          28.0           24.0            0.0           0.0\n",
      "HonestPlayer          991.0         653.0    271.0       1000.0           NaN      268.0       157.0      192.0   170.0  129.0  304.0  308.0         179.0         216.0          429.0          245.0         237.0\n",
      "Kot_First             948.0         705.0    319.0       1000.0         732.0        NaN       241.0      339.0   332.0  228.0  355.0  368.0         402.0         383.0          565.0          423.0         446.0\n",
      "Kot_Second            872.0         645.0    742.0        989.0         843.0      759.0         NaN      644.0   147.0  461.0  448.0  420.0         682.0         667.0          746.0          784.0         743.0\n",
      "Kot_Third             880.0         679.0    584.0        997.0         808.0      661.0       356.0        NaN   266.0  324.0  455.0  455.0         534.0         510.0          627.0          608.0         594.0\n",
      "kacper                999.0         920.0    578.0       1000.0         830.0      668.0       853.0      734.0     NaN  807.0  693.0  689.0         809.0         867.0          786.0          589.0         537.0\n",
      "Kot4                  874.0         734.0    772.0        990.0         871.0      772.0       539.0      676.0   193.0    NaN  485.0  492.0         753.0         692.0          838.0          796.0         767.0\n",
      "Kot5                  873.0         651.0    529.0       1000.0         696.0      645.0       552.0      545.0   307.0  515.0    NaN  483.0         720.0         614.0          745.0          633.0         605.0\n",
      "Kot6                  877.0         646.0    556.0       1000.0         692.0      632.0       580.0      545.0   311.0  508.0  517.0    NaN         715.0         616.0          757.0          650.0         643.0\n",
      "KociakSimple          821.0         590.0    435.0        996.0         821.0      598.0       318.0      466.0   191.0  247.0  280.0  285.0           NaN         486.0          654.0          611.0         618.0\n",
      "Kociak_proba          833.0         650.0    472.0        972.0         784.0      617.0       333.0      490.0   133.0  308.0  386.0  384.0         514.0           NaN          661.0          617.0         604.0\n",
      "Kociak_proba2         829.0         543.0    470.0        976.0         571.0      435.0       254.0      373.0   214.0  162.0  255.0  243.0         346.0         339.0            NaN          412.0         426.0\n",
      "Kociak_proba3         871.0         666.0    447.0       1000.0         755.0      577.0       216.0      392.0   411.0  204.0  367.0  350.0         389.0         383.0          588.0            NaN         475.0\n",
      "Kociak_adapt          839.0         716.0    472.0       1000.0         763.0      554.0       257.0      406.0   463.0  233.0  395.0  357.0         382.0         396.0          574.0          525.0           NaN\n"
     ]
    }
   ],
   "source": [
    "import pandas as pd\n",
    "import numpy as np\n",
    "\n",
    "def create_win_matrix(full_results, strategy):\n",
    "    names = [s[0] for s in strategy]\n",
    "    n = len(names)\n",
    "    matrix = np.zeros((n, n))\n",
    "\n",
    "    for i in range(n):\n",
    "        for j in range(n):\n",
    "            if i == j:\n",
    "                matrix[i][j] = np.nan  # Brak pojedynków z samym sobą\n",
    "            elif i < j and full_results[i][j] is not None:\n",
    "                wins_i, wins_j = full_results[i][j][0]\n",
    "                matrix[i][j] = wins_i\n",
    "                matrix[j][i] = wins_j\n",
    "\n",
    "    df = pd.DataFrame(matrix, index=names, columns=names)\n",
    "    print(\"MACIERZ WYGRANYCH:\")\n",
    "    print(df.round(1))\n",
    "\n",
    "    return df\n",
    "\n",
    "pd.set_option('display.width', 1000)\n",
    "df = create_win_matrix(full_results, strategy)"
   ],
   "metadata": {
    "collapsed": false
   }
  },
  {
   "cell_type": "code",
   "execution_count": 9,
   "outputs": [],
   "source": [
    "\n"
   ],
   "metadata": {
    "collapsed": false
   }
  }
 ],
 "metadata": {
  "kernelspec": {
   "display_name": "Python 3",
   "language": "python",
   "name": "python3"
  },
  "language_info": {
   "codemirror_mode": {
    "name": "ipython",
    "version": 3
   },
   "file_extension": ".py",
   "mimetype": "text/x-python",
   "name": "python",
   "nbconvert_exporter": "python",
   "pygments_lexer": "ipython3",
   "version": "3.8.8"
  },
  "widgets": {
   "state": {},
   "version": "1.1.2"
  }
 },
 "nbformat": 4,
 "nbformat_minor": 4
}
