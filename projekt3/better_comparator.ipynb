{
 "cells": [
  {
   "cell_type": "code",
   "execution_count": 1,
   "metadata": {},
   "outputs": [],
   "source": [
    "%matplotlib inline\n",
    "import numpy as np\n",
    "import random\n",
    "import matplotlib.pyplot as plt\n",
    "import matplotlib.lines as mlines\n",
    "\n",
    "from basegame.game import Game\n",
    "from basegame.player import Player"
   ]
  },
  {
   "cell_type": "code",
   "execution_count": 2,
   "metadata": {},
   "outputs": [],
   "source": [
    "from benchmarks.simplePlayer import SimplePlayer\n",
    "from benchmarks.simpleNoCheck import SimpleNoCheck\n",
    "from benchmarks.simpleAlwaysCheck import SimpleAlwaysCheck\n",
    "from benchmarks.honestPlayer import HonestPlayer\n",
    "\n",
    "from moje_dzieci.MyFirstPlayer import MyFirstPlayer\n",
    "from moje_dzieci.MySecondPlayer import MySecondPlayer\n",
    "from moje_dzieci.MyThirdPlayer import MyThirdPlayer\n",
    "from absolutnie_do_wywalenia.cardCounter import FirstCardCounter\n",
    "from absolutnie_do_wywalenia.cardCounter_base2 import SecondCardCounter\n",
    "from czyje.Kondys_Dabrowski import Kondys_Dabrowski"
   ]
  },
  {
   "cell_type": "code",
   "execution_count": 3,
   "metadata": {},
   "outputs": [
    {
     "name": "stdout",
     "output_type": "stream",
     "text": [
      "[(9, 0), (10, 0), (11, 0), (12, 0), (13, 0), (14, 0), (9, 1), (10, 1), (11, 1), (12, 1), (13, 1), (14, 1), (9, 2), (10, 2), (11, 2), (12, 2), (13, 2), (14, 2), (9, 3), (10, 3), (11, 3), (12, 3), (13, 3), (14, 3)]\n"
     ]
    }
   ],
   "source": [
    "### Generate cards from 9 to 14 (ace) for all colors/symbols (0, 1, 2, 3)\n",
    "def getDeck():\n",
    "    return [(number, color) for color in range(4) for number in range(9, 15)]\n",
    "    \n",
    "print(getDeck())"
   ]
  },
  {
   "cell_type": "code",
   "execution_count": 4,
   "metadata": {},
   "outputs": [
    {
     "name": "stdout",
     "output_type": "stream",
     "text": [
      "[(11, 1), (11, 0), (14, 1), (9, 2), (11, 2), (14, 3), (13, 2), (10, 2)]\n",
      "[(13, 1), (12, 0), (13, 0), (12, 3), (12, 2), (10, 3), (14, 2), (9, 1)]\n"
     ]
    }
   ],
   "source": [
    "### Shuffle the cards randomly. Each player gets 9 cards\n",
    "### (so one player cannot be certain which cards the other player has)\n",
    "\n",
    "def getShuffled(deck):\n",
    "    D = set(deck)\n",
    "    A = set(random.sample(deck, 8))\n",
    "    B = set(random.sample(list(D - A), 8))\n",
    "    C = D - A - B\n",
    "    if len(A.intersection(B)) > 0: print(\"Shuffle error 1\")\n",
    "    if len(A.intersection(B)) > 0: print(\"Shuffle error 2\")\n",
    "    if len(A.intersection(C)) > 0: print(\"Shuffle error 3\") \n",
    "    DS = A | B | C\n",
    "    if not DS == D: print(\"Shuffle error 4\")  \n",
    "    return list(A), list(B), list(C)\n",
    "\n",
    "p1, p2, notUsed, = getShuffled(getDeck())\n",
    "print(p1)\n",
    "print(p2)\n"
   ]
  },
  {
   "cell_type": "code",
   "execution_count": 5,
   "metadata": {},
   "outputs": [],
   "source": [
    "# Some examplary random player\n",
    "\n",
    "class RandomPlayer(Player):\n",
    "    \n",
    "    ### player's random strategy\n",
    "    def putCard(self, declared_card):\n",
    "        \n",
    "        ### check if must draw\n",
    "        if len(self.cards) == 1 and declared_card is not None and self.cards[0][0] < declared_card[0]:\n",
    "            return \"draw\"\n",
    "        \n",
    "        ### player randomly decides which card put on the table\n",
    "        card = random.choice(self.cards)\n",
    "        declaration = card\n",
    "        \n",
    "        ### player randomly decides whether to cheat or not\n",
    "        cheat = np.random.choice([True, False])\n",
    "       \n",
    "        ### if (s)he decides to cheat, (s)he randomly declares the card.\n",
    "        if cheat:\n",
    "            declaration = random.choice(self.cards)             \n",
    "            \n",
    "        ### Yet, declared card should be no worse than a card on the top of the pile . \n",
    "        if declared_card is not None and declaration[0] < declared_card[0]:\n",
    "            declaration = (min(declared_card[0]+1,14), declaration[1])\n",
    "\n",
    "        ### return the decision (true card) and declaration (player's declaration)\n",
    "        return card, declaration\n",
    "    \n",
    "    ### randomly decides whether to check or not\n",
    "    def checkCard(self, opponent_declaration):\n",
    "        return np.random.choice([True, False])\n",
    "    "
   ]
  },
  {
   "cell_type": "markdown",
   "metadata": {},
   "source": [
    "Analyze few moves..."
   ]
  },
  {
   "cell_type": "code",
   "execution_count": 6,
   "metadata": {},
   "outputs": [],
   "source": [
    "### Perform a full game 100 times\n",
    "STAT_NAMES = [\"Wins\", \"Draws\", \"Moves\", \"Cards\", \"Pile Size\", \"Checks\", \"Draw Decisions\", \"Cheats\", \"Errors\", \"Total errors\"]\n",
    "ANALYZE_STATS = [0, 1, 2, 3, 5, 6, 7, 8]\n",
    "\n",
    "def printResults(results):\n",
    "    print(\"Wins:\")\n",
    "    print(results[0])\n",
    "    print(\"Draws:\")\n",
    "    print(results[1])\n",
    "    print(\"Moves:\")\n",
    "    print(results[2])\n",
    "    print(\"Cards:\")\n",
    "    print(results[3])\n",
    "    print(\"Pile size:\")\n",
    "    print(results[4])\n",
    "    print(\"Checks:\")\n",
    "    print(results[5])\n",
    "    print(\"Draw decisions:\")\n",
    "    print(results[6])\n",
    "    print(\"Cheats:\")\n",
    "    print(results[7])\n",
    "    print(\"Errors:\")\n",
    "    print(results[8])\n",
    "    print(\"Total errors:\")\n",
    "    print(results[9])\n",
    "\n",
    "def comparePlayers(player1_class, player2_class):\n",
    "    stats_wins = [0, 0]\n",
    "    stats_draws = [0, 0]\n",
    "    stats_moves = [0, 0]\n",
    "    stats_cards = [0, 0]\n",
    "    stats_pile_size = 0\n",
    "    stats_checks = [0, 0]\n",
    "    stats_draw_decisions = [0, 0]\n",
    "    stats_cheats = [0, 0]\n",
    "    stats_errors = [0, 0]\n",
    "    \n",
    "    repeats = 1000\n",
    "    errors = 0\n",
    "    draws = 0\n",
    "\n",
    "    for t in range(repeats):\n",
    "        player1 = player1_class(\"\")\n",
    "        player2 = player2_class(\"\")\n",
    "        game = Game([player1, player2], log = False)\n",
    "    \n",
    "        error = False\n",
    "        draw = False\n",
    "        \n",
    "        while True:\n",
    "            valid, player = game.takeTurn(log = False)\n",
    "            if game.moves[0] > 100 or game.moves[1] > 100:\n",
    "                draws += 1\n",
    "                stats_draws[0] += 1\n",
    "                stats_draws[1] += 1\n",
    "                if (game.player_cards[0] < game.player_cards[1]):\n",
    "                    stats_wins[0] += 1\n",
    "                if (game.player_cards[0] > game.player_cards[1]):\n",
    "                    stats_wins[1] += 1\n",
    "                    \n",
    "                    \n",
    "                draw=True\n",
    "                # print(\"DRAW\")\n",
    "                break\n",
    "            if not valid:\n",
    "                error = True\n",
    "                stats_errors[player] += 1\n",
    "                errors += 1\n",
    "                break\n",
    "            if game.isFinished(log = False):\n",
    "                stats_wins[player] += 1\n",
    "                break\n",
    "            \n",
    "        stats_pile_size += len(game.pile)\n",
    "        if error: continue\n",
    "        #if draw: continue\n",
    "       \n",
    "        for j in range(2):\n",
    "            stats_moves[j] += game.moves[j]\n",
    "            stats_cheats[j] += game.cheats[j]\n",
    "            stats_checks[j] += game.checks[j]\n",
    "            stats_draw_decisions[j] += game.draw_decisions[j]\n",
    "            stats_cards[j] += len(game.player_cards[j])\n",
    "\n",
    "    div = repeats - errors\n",
    "    if div > 0:\n",
    "            \n",
    "        stats_pile_size /= div          \n",
    "        for j in range(2):\n",
    "            stats_moves[j] /= div\n",
    "            stats_cheats[j] /= div\n",
    "            stats_checks[j] /= div\n",
    "            stats_draw_decisions[j] /= div\n",
    "            stats_cards[j] /= div\n",
    "            \n",
    "    return [stats_wins, stats_draws, stats_moves, stats_cards, stats_pile_size, stats_checks, \n",
    "            stats_draw_decisions, stats_cheats, stats_errors, errors, draws]  \n"
   ]
  },
  {
   "cell_type": "markdown",
   "metadata": {},
   "source": [
    "# COMPARE"
   ]
  },
  {
   "cell_type": "code",
   "execution_count": 7,
   "outputs": [],
   "source": [
    "from moje_dzieci.Kot_4 import Kot4\n",
    "from moje_dzieci.Kot_5 import Kot5\n",
    "from moje_dzieci.Kot_6 import Kot6\n",
    "from moje_dzieci.Kociak import Kociak\n",
    "from moje_dzieci.Kociak_simple import KociakSimple\n",
    "from moje_dzieci.Kociak_proba import KociakProba"
   ],
   "metadata": {
    "collapsed": false
   }
  },
  {
   "cell_type": "code",
   "execution_count": 8,
   "outputs": [
    {
     "name": "stdout",
     "output_type": "stream",
     "text": [
      "RANKING GRACZY (według liczby wygranych):\n",
      "1. kacper - 11182 / 14000 wygranych\n",
      "2. Kot4 - 9598 / 14000 wygranych\n",
      "3. Kot_Second - 9151 / 14000 wygranych\n",
      "4. Kot6 - 8916 / 14000 wygranych\n",
      "5. Kot5 - 8749 / 14000 wygranych\n",
      "6. Kot_Third - 8023 / 14000 wygranych\n",
      "7. Kociak_proba - 7394 / 14000 wygranych\n",
      "8. KociakSimple - 7050 / 14000 wygranych\n",
      "9. NoCheck - 6962 / 14000 wygranych\n",
      "10. Kot_First - 6752 / 14000 wygranych\n",
      "11. Kociak - 6686 / 14000 wygranych\n",
      "12. SimplePlayer - 6077 / 14000 wygranych\n",
      "13. HonestPlayer - 5089 / 14000 wygranych\n",
      "14. RandomPlayer - 2108 / 14000 wygranych\n",
      "15. AlwaysCheck - 1263 / 14000 wygranych\n"
     ]
    }
   ],
   "source": [
    "strategy = [\n",
    "    [\"RandomPlayer\", \"RANDOM\", RandomPlayer],\n",
    "    [\"SimplePlayer\", \"SimplePlayer\", SimplePlayer],\n",
    "    [\"NoCheck\", \"NoCheck\", SimpleNoCheck],\n",
    "    [\"AlwaysCheck\", \"AlwaysCheck\", SimpleAlwaysCheck],\n",
    "    [\"HonestPlayer\", \"HonestPlayer\", HonestPlayer],\n",
    "    [\"Kot_First\", \"Kot_First\", MyFirstPlayer],\n",
    "    [\"Kot_Second\", \"Kot_Second\", MySecondPlayer],\n",
    "    [\"Kot_Third\", \"Kot_Third\", MyThirdPlayer],\n",
    "    [\"kacper\",\"Kacper\",Kondys_Dabrowski],\n",
    "    [\"Kot4\",\"Kot4\", Kot4],\n",
    "    [\"Kot5\",\"Kot5\", Kot5],\n",
    "    [\"Kot6\",\"Kot6\", Kot6],\n",
    "    [\"KociakSimple\",\"KociakSimple\", KociakSimple],\n",
    "    [\"Kociak_proba\",\"Kociak_proba\", KociakProba],\n",
    "    # [\"Kociak\",\"Kociak\", Kociak],\n",
    "   ]\n",
    "\n",
    "#%pdb on\n",
    "full_results = [[None for i in range(len(strategy))] for i in range(len(strategy))]\n",
    "\n",
    "for A in range(len(strategy)):\n",
    "    # print(\"==== \" + str(A), strategy[A][0])\n",
    "    for B in range(A+1,len(strategy)):\n",
    "        # print(B, strategy[B][0])\n",
    "        results = comparePlayers(strategy[A][2], strategy[B][2])\n",
    "        full_results[A][B] = results\n",
    "\n",
    "\n",
    "def generate_ranking(full_results, strategy):\n",
    "    n = len(strategy)\n",
    "    total_wins = [0 for _ in range(n)]\n",
    "\n",
    "    for i in range(n):\n",
    "        for j in range(n):\n",
    "            if i < j and full_results[i][j] is not None:\n",
    "                wins_i, wins_j = full_results[i][j][0]\n",
    "                total_wins[i] += wins_i\n",
    "                total_wins[j] += wins_j\n",
    "\n",
    "    # Sparuj nazwy z wynikami\n",
    "    ranking = list(zip([s[0] for s in strategy], total_wins))\n",
    "\n",
    "    # Posortuj malejąco\n",
    "    ranking.sort(key=lambda x: x[1], reverse=True)\n",
    "\n",
    "    maxxx = (len(strategy) -1) * 1000\n",
    "\n",
    "    print(\"RANKING GRACZY (według liczby wygranych):\")\n",
    "    for idx, (name, wins) in enumerate(ranking, 1):\n",
    "        print(f\"{idx}. {name} - {wins} / {maxxx} wygranych\")\n",
    "\n",
    "    return ranking\n",
    "\n",
    "ranking = generate_ranking(full_results, strategy)"
   ],
   "metadata": {
    "collapsed": false
   }
  },
  {
   "cell_type": "code",
   "execution_count": 9,
   "outputs": [
    {
     "name": "stdout",
     "output_type": "stream",
     "text": [
      "MACIERZ WYGRANYCH:\n",
      "              RandomPlayer  SimplePlayer  NoCheck  AlwaysCheck  HonestPlayer  Kot_First  Kot_Second  Kot_Third  kacper   Kot4   Kot5   Kot6  KociakSimple  Kociak_proba  Kociak\n",
      "RandomPlayer           NaN         100.0    580.0          8.0           9.0       59.0       124.0       95.0     0.0  142.0  142.0  146.0         187.0         148.0   368.0\n",
      "SimplePlayer         900.0           NaN    677.0        991.0         350.0      308.0       333.0      326.0    64.0  260.0  348.0  330.0         366.0         356.0   468.0\n",
      "NoCheck              420.0         323.0      NaN        916.0         734.0      667.0       244.0      420.0   430.0  233.0  451.0  465.0         577.0         516.0   566.0\n",
      "AlwaysCheck          992.0           9.0     84.0          NaN           0.0        0.0        11.0        0.0     0.0   11.0    0.0    0.0           8.0          16.0   132.0\n",
      "HonestPlayer         991.0         650.0    266.0       1000.0           NaN      283.0       154.0      200.0   184.0  153.0  338.0  325.0         175.0         224.0   146.0\n",
      "Kot_First            941.0         692.0    333.0       1000.0         717.0        NaN       207.0      338.0   362.0  191.0  391.0  386.0         416.0         399.0   379.0\n",
      "Kot_Second           876.0         667.0    756.0        989.0         846.0      793.0         NaN      648.0   167.0  442.0  449.0  425.0         678.0         666.0   749.0\n",
      "Kot_Third            905.0         674.0    580.0       1000.0         800.0      662.0       352.0        NaN   285.0  324.0  455.0  452.0         513.0         488.0   533.0\n",
      "kacper              1000.0         936.0    570.0       1000.0         816.0      638.0       833.0      715.0     NaN  793.0  702.0  689.0         817.0         864.0   809.0\n",
      "Kot4                 858.0         740.0    767.0        989.0         847.0      809.0       558.0      676.0   207.0    NaN  477.0  480.0         745.0         704.0   741.0\n",
      "Kot5                 858.0         652.0    549.0       1000.0         662.0      609.0       551.0      545.0   298.0  523.0    NaN  466.0         712.0         616.0   708.0\n",
      "Kot6                 854.0         670.0    535.0       1000.0         675.0      614.0       575.0      548.0   311.0  520.0  534.0    NaN         742.0         623.0   715.0\n",
      "KociakSimple         813.0         634.0    423.0        992.0         825.0      584.0       322.0      487.0   183.0  255.0  288.0  258.0           NaN         501.0   485.0\n",
      "Kociak_proba         852.0         644.0    484.0        984.0         776.0      601.0       334.0      512.0   136.0  296.0  384.0  377.0         499.0           NaN   515.0\n",
      "Kociak               632.0         532.0    434.0        868.0         854.0      621.0       251.0      467.0   191.0  259.0  292.0  285.0         515.0         485.0     NaN\n"
     ]
    }
   ],
   "source": [
    "import pandas as pd\n",
    "import numpy as np\n",
    "\n",
    "def create_win_matrix(full_results, strategy):\n",
    "    names = [s[0] for s in strategy]\n",
    "    n = len(names)\n",
    "    matrix = np.zeros((n, n))\n",
    "\n",
    "    for i in range(n):\n",
    "        for j in range(n):\n",
    "            if i == j:\n",
    "                matrix[i][j] = np.nan  # Brak pojedynków z samym sobą\n",
    "            elif i < j and full_results[i][j] is not None:\n",
    "                wins_i, wins_j = full_results[i][j][0]\n",
    "                matrix[i][j] = wins_i\n",
    "                matrix[j][i] = wins_j\n",
    "\n",
    "    df = pd.DataFrame(matrix, index=names, columns=names)\n",
    "    print(\"MACIERZ WYGRANYCH:\")\n",
    "    print(df.round(1))\n",
    "\n",
    "    return df\n",
    "\n",
    "pd.set_option('display.width', 1000)\n",
    "df = create_win_matrix(full_results, strategy)"
   ],
   "metadata": {
    "collapsed": false
   }
  },
  {
   "cell_type": "code",
   "execution_count": 9,
   "outputs": [],
   "source": [
    "\n"
   ],
   "metadata": {
    "collapsed": false
   }
  }
 ],
 "metadata": {
  "kernelspec": {
   "display_name": "Python 3",
   "language": "python",
   "name": "python3"
  },
  "language_info": {
   "codemirror_mode": {
    "name": "ipython",
    "version": 3
   },
   "file_extension": ".py",
   "mimetype": "text/x-python",
   "name": "python",
   "nbconvert_exporter": "python",
   "pygments_lexer": "ipython3",
   "version": "3.8.8"
  },
  "widgets": {
   "state": {},
   "version": "1.1.2"
  }
 },
 "nbformat": 4,
 "nbformat_minor": 4
}
