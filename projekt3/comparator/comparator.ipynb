{
 "cells": [
  {
   "cell_type": "code",
   "execution_count": 1,
   "metadata": {},
   "outputs": [],
   "source": [
    "%matplotlib inline\n",
    "import numpy as np\n",
    "import random\n",
    "import matplotlib.pyplot as plt\n",
    "import matplotlib.lines as mlines\n",
    "\n",
    "from game import Game\n",
    "from player import Player"
   ]
  },
  {
   "cell_type": "code",
   "execution_count": 2,
   "metadata": {},
   "outputs": [],
   "source": [
    "from nazwisko import Nazwisko\n",
    "from simplePlayer import SimplePlayer\n",
    "from simpleNoCheck import SimpleNoCheck\n",
    "from simpleAlwaysCheck import SimpleAlwaysCheck\n",
    "from drawPlayer import DrawPlayer\n",
    "from honestPlayer import HonestPlayer\n",
    "from MyFirstPlayer import MyFirstPlayer\n",
    "from MySecondPlayer import MySecondPlayer\n",
    "from MyThirdPlayer import MyThirdPlayer\n",
    "from cardCounter import FirstCardCounter\n",
    "from cardCounter_base2 import SecondCardCounter"
   ]
  },
  {
   "cell_type": "code",
   "execution_count": 3,
   "metadata": {},
   "outputs": [
    {
     "name": "stdout",
     "output_type": "stream",
     "text": [
      "[(9, 0), (10, 0), (11, 0), (12, 0), (13, 0), (14, 0), (9, 1), (10, 1), (11, 1), (12, 1), (13, 1), (14, 1), (9, 2), (10, 2), (11, 2), (12, 2), (13, 2), (14, 2), (9, 3), (10, 3), (11, 3), (12, 3), (13, 3), (14, 3)]\n"
     ]
    }
   ],
   "source": [
    "### Generate cards from 9 to 14 (ace) for all colors/symbols (0, 1, 2, 3)\n",
    "def getDeck():\n",
    "    return [(number, color) for color in range(4) for number in range(9, 15)]\n",
    "    \n",
    "print(getDeck())"
   ]
  },
  {
   "cell_type": "code",
   "execution_count": 4,
   "metadata": {},
   "outputs": [
    {
     "name": "stdout",
     "output_type": "stream",
     "text": [
      "[(9, 0), (9, 3), (11, 0), (10, 1), (9, 2), (13, 3), (14, 3), (9, 1)]\n",
      "[(11, 1), (12, 1), (13, 1), (12, 0), (11, 3), (13, 0), (12, 3), (12, 2)]\n"
     ]
    }
   ],
   "source": [
    "### Shuffle the cards randomly. Each player gets 9 cards\n",
    "### (so one player cannot be certain which cards the other player has)\n",
    "\n",
    "def getShuffled(deck):\n",
    "    D = set(deck)\n",
    "    A = set(random.sample(deck, 8))\n",
    "    B = set(random.sample(list(D - A), 8))\n",
    "    C = D - A - B\n",
    "    if len(A.intersection(B)) > 0: print(\"Shuffle error 1\")\n",
    "    if len(A.intersection(B)) > 0: print(\"Shuffle error 2\")\n",
    "    if len(A.intersection(C)) > 0: print(\"Shuffle error 3\") \n",
    "    DS = A | B | C\n",
    "    if not DS == D: print(\"Shuffle error 4\")  \n",
    "    return list(A), list(B), list(C)\n",
    "\n",
    "p1, p2, notUsed, = getShuffled(getDeck())\n",
    "print(p1)\n",
    "print(p2)\n"
   ]
  },
  {
   "cell_type": "code",
   "execution_count": 5,
   "metadata": {},
   "outputs": [],
   "source": [
    "# Some examplary random player\n",
    "\n",
    "class RandomPlayer(Player):\n",
    "    \n",
    "    ### player's random strategy\n",
    "    def putCard(self, declared_card):\n",
    "        \n",
    "        ### check if must draw\n",
    "        if len(self.cards) == 1 and declared_card is not None and self.cards[0][0] < declared_card[0]:\n",
    "            return \"draw\"\n",
    "        \n",
    "        ### player randomly decides which card put on the table\n",
    "        card = random.choice(self.cards)\n",
    "        declaration = card\n",
    "        \n",
    "        ### player randomly decides whether to cheat or not\n",
    "        cheat = np.random.choice([True, False])\n",
    "       \n",
    "        ### if (s)he decides to cheat, (s)he randomly declares the card.\n",
    "        if cheat:\n",
    "            declaration = random.choice(self.cards)             \n",
    "            \n",
    "        ### Yet, declared card should be no worse than a card on the top of the pile . \n",
    "        if declared_card is not None and declaration[0] < declared_card[0]:\n",
    "            declaration = (min(declared_card[0]+1,14), declaration[1])\n",
    "\n",
    "        ### return the decision (true card) and declaration (player's declaration)\n",
    "        return card, declaration\n",
    "    \n",
    "    ### randomly decides whether to check or not\n",
    "    def checkCard(self, opponent_declaration):\n",
    "        return np.random.choice([True, False])\n",
    "    "
   ]
  },
  {
   "cell_type": "markdown",
   "metadata": {},
   "source": [
    "Analyze few moves..."
   ]
  },
  {
   "cell_type": "code",
   "execution_count": 6,
   "metadata": {},
   "outputs": [],
   "source": [
    "### Perform a full game 100 times\n",
    "STAT_NAMES = [\"Wins\", \"Draws\", \"Moves\", \"Cards\", \"Pile Size\", \"Checks\", \"Draw Decisions\", \"Cheats\", \"Errors\", \"Total errors\"]\n",
    "ANALYZE_STATS = [0, 1, 2, 3, 5, 6, 7, 8]\n",
    "\n",
    "def printResults(results):\n",
    "    print(\"Wins:\")\n",
    "    print(results[0])\n",
    "    print(\"Draws:\")\n",
    "    print(results[1])\n",
    "    print(\"Moves:\")\n",
    "    print(results[2])\n",
    "    print(\"Cards:\")\n",
    "    print(results[3])\n",
    "    print(\"Pile size:\")\n",
    "    print(results[4])\n",
    "    print(\"Checks:\")\n",
    "    print(results[5])\n",
    "    print(\"Draw decisions:\")\n",
    "    print(results[6])\n",
    "    print(\"Cheats:\")\n",
    "    print(results[7])\n",
    "    print(\"Errors:\")\n",
    "    print(results[8])\n",
    "    print(\"Total errors:\")\n",
    "    print(results[9])\n",
    "\n",
    "def comparePlayers(player1_class, player2_class):\n",
    "    stats_wins = [0, 0]\n",
    "    stats_draws = [0, 0]\n",
    "    stats_moves = [0, 0]\n",
    "    stats_cards = [0, 0]\n",
    "    stats_pile_size = 0\n",
    "    stats_checks = [0, 0]\n",
    "    stats_draw_decisions = [0, 0]\n",
    "    stats_cheats = [0, 0]\n",
    "    stats_errors = [0, 0]\n",
    "    \n",
    "    repeats = 1000\n",
    "    errors = 0\n",
    "    draws = 0\n",
    "\n",
    "    for t in range(repeats):\n",
    "        player1 = player1_class(\"\")\n",
    "        player2 = player2_class(\"\")\n",
    "        game = Game([player1, player2], log = False)\n",
    "    \n",
    "        error = False\n",
    "        draw = False\n",
    "        \n",
    "        while True:\n",
    "            valid, player = game.takeTurn(log = False)\n",
    "            if game.moves[0] > 100 or game.moves[1] > 100:\n",
    "                draws += 1\n",
    "                stats_draws[0] += 1\n",
    "                stats_draws[1] += 1\n",
    "                if (game.player_cards[0] < game.player_cards[1]):\n",
    "                    stats_wins[0] += 1\n",
    "                if (game.player_cards[0] > game.player_cards[1]):\n",
    "                    stats_wins[1] += 1\n",
    "                    \n",
    "                    \n",
    "                draw=True\n",
    "                # print(\"DRAW\")\n",
    "                break\n",
    "            if not valid:\n",
    "                error = True\n",
    "                stats_errors[player] += 1\n",
    "                errors += 1\n",
    "                break\n",
    "            if game.isFinished(log = False):\n",
    "                stats_wins[player] += 1\n",
    "                break\n",
    "            \n",
    "        stats_pile_size += len(game.pile)\n",
    "        if error: continue\n",
    "        #if draw: continue\n",
    "       \n",
    "        for j in range(2):\n",
    "            stats_moves[j] += game.moves[j]\n",
    "            stats_cheats[j] += game.cheats[j]\n",
    "            stats_checks[j] += game.checks[j]\n",
    "            stats_draw_decisions[j] += game.draw_decisions[j]\n",
    "            stats_cards[j] += len(game.player_cards[j])\n",
    "\n",
    "    div = repeats - errors\n",
    "    if div > 0:\n",
    "            \n",
    "        stats_pile_size /= div          \n",
    "        for j in range(2):\n",
    "            stats_moves[j] /= div\n",
    "            stats_cheats[j] /= div\n",
    "            stats_checks[j] /= div\n",
    "            stats_draw_decisions[j] /= div\n",
    "            stats_cards[j] /= div\n",
    "            \n",
    "    return [stats_wins, stats_draws, stats_moves, stats_cards, stats_pile_size, stats_checks, \n",
    "            stats_draw_decisions, stats_cheats, stats_errors, errors, draws]  \n"
   ]
  },
  {
   "cell_type": "markdown",
   "metadata": {},
   "source": [
    "# COMPARE"
   ]
  },
  {
   "cell_type": "code",
   "execution_count": 7,
   "metadata": {},
   "outputs": [],
   "source": [
    "strategy = [[\"RandomPlayer\", \"RANDOM\", RandomPlayer],\n",
    "            [\"Nazwisko\", \"Nazwisko\", Nazwisko],\n",
    "            [\"Kot1\", \"Kot1\", MyFirstPlayer]\n",
    "           ]"
   ]
  },
  {
   "cell_type": "code",
   "execution_count": 8,
   "metadata": {
    "scrolled": true
   },
   "outputs": [
    {
     "name": "stdout",
     "output_type": "stream",
     "text": [
      "==== 0 RandomPlayer\n",
      "1 Nazwisko\n",
      "2 Kot1\n",
      "==== 1 Nazwisko\n",
      "2 Kot1\n",
      "==== 2 Kot1\n"
     ]
    }
   ],
   "source": [
    "#%pdb on\n",
    "full_results = [[None for i in range(len(strategy))] for i in range(len(strategy))]\n",
    "\n",
    "for A in range(len(strategy)):\n",
    "    print(\"==== \" + str(A), strategy[A][0])\n",
    "    for B in range(A+1,len(strategy)):\n",
    "        print(B, strategy[B][0])\n",
    "        results = comparePlayers(strategy[A][2], strategy[B][2])\n",
    "        full_results[A][B] = results\n",
    "        \n"
   ]
  },
  {
   "cell_type": "code",
   "execution_count": 9,
   "metadata": {
    "scrolled": true,
    "tags": []
   },
   "outputs": [
    {
     "data": {
      "text/plain": "[[None,\n  [[1000, 0],\n   [0, 0],\n   [8.0, 7.505],\n   [0.0, 15.0],\n   1.0,\n   [0.0, 0.0],\n   [0.0, 7.505],\n   [2.623, 0.0],\n   [0, 0],\n   0,\n   0],\n  [[70, 930],\n   [0, 0],\n   [16.084, 16.51],\n   [12.707, 0.475],\n   2.818,\n   [7.9, 3.773],\n   [0.037, 0.591],\n   [9.229, 2.751],\n   [0, 0],\n   0,\n   0]],\n [None,\n  None,\n  [[0, 1000],\n   [0, 0],\n   [7.519, 8.0],\n   [15.0, 0.0],\n   1.0,\n   [0.0, 0.0],\n   [7.519, 0.0],\n   [0.0, 0.0],\n   [0, 0],\n   0,\n   0]],\n [None, None, None]]"
     },
     "execution_count": 9,
     "metadata": {},
     "output_type": "execute_result"
    }
   ],
   "source": [
    "full_results"
   ]
  },
  {
   "cell_type": "markdown",
   "metadata": {},
   "source": [
    "Simple stats"
   ]
  },
  {
   "cell_type": "code",
   "execution_count": 10,
   "metadata": {
    "scrolled": true,
    "tags": []
   },
   "outputs": [
    {
     "name": "stdout",
     "output_type": "stream",
     "text": [
      "Wins\n",
      " RANDOM Nazwisko Kot1 \n",
      "0\n",
      "RANDOM - 1000 70 \n",
      "1\n",
      "Nazwisko 0 - 0 \n",
      "2\n",
      "Kot1 930 1000 - \n",
      "Draws\n",
      " RANDOM Nazwisko Kot1 \n",
      "0\n",
      "RANDOM - 0 0 \n",
      "1\n",
      "Nazwisko 0 - 0 \n",
      "2\n",
      "Kot1 0 0 - \n",
      "Moves\n",
      " RANDOM Nazwisko Kot1 \n",
      "0\n",
      "RANDOM - 8.0 16.084 \n",
      "1\n",
      "Nazwisko 7.505 - 7.519 \n",
      "2\n",
      "Kot1 16.51 8.0 - \n",
      "Cards\n",
      " RANDOM Nazwisko Kot1 \n",
      "0\n",
      "RANDOM - 0.0 12.707 \n",
      "1\n",
      "Nazwisko 15.0 - 15.0 \n",
      "2\n",
      "Kot1 0.475 0.0 - \n",
      "Checks\n",
      " RANDOM Nazwisko Kot1 \n",
      "0\n",
      "RANDOM - 0.0 7.9 \n",
      "1\n",
      "Nazwisko 0.0 - 0.0 \n",
      "2\n",
      "Kot1 3.773 0.0 - \n",
      "Draw Decisions\n",
      " RANDOM Nazwisko Kot1 \n",
      "0\n",
      "RANDOM - 0.0 0.037 \n",
      "1\n",
      "Nazwisko 7.505 - 7.519 \n",
      "2\n",
      "Kot1 0.591 0.0 - \n",
      "Cheats\n",
      " RANDOM Nazwisko Kot1 \n",
      "0\n",
      "RANDOM - 2.623 9.229 \n",
      "1\n",
      "Nazwisko 0.0 - 0.0 \n",
      "2\n",
      "Kot1 2.751 0.0 - \n",
      "Errors\n",
      " RANDOM Nazwisko Kot1 \n",
      "0\n",
      "RANDOM - 0 0 \n",
      "1\n",
      "Nazwisko 0 - 0 \n",
      "2\n",
      "Kot1 0 0 - \n"
     ]
    }
   ],
   "source": [
    "def printMatrix(full_results, stat):\n",
    "    print(STAT_NAMES[stat])\n",
    "    S = \" \"\n",
    "    for s in strategy: S += (str(s[1]) + \" \" )\n",
    "    print(S)\n",
    "    for A in range(len(strategy)):\n",
    "        print(A)\n",
    "        S = str(strategy[A][1]) + \" \"\n",
    "        for B in range(len(strategy)):\n",
    "            if A == B: S += \"- \"\n",
    "            elif A < B:\n",
    "                S += str(full_results[A][B][stat][0]) + \" \"\n",
    "            else:\n",
    "                S += str(full_results[B][A][stat][1]) + \" \"\n",
    "        print(S)\n",
    "    \n",
    "for a in ANALYZE_STATS:\n",
    "    printMatrix(full_results, a)\n",
    "\n"
   ]
  },
  {
   "cell_type": "markdown",
   "source": [
    "# to już dodałem od siebie, tego nie ma w komparatorze!!!!\n",
    "tu jest fragment kodu który zrobi ranking, na podstawie czysto liczby zwycięstw"
   ],
   "metadata": {
    "collapsed": false
   }
  },
  {
   "cell_type": "code",
   "execution_count": 11,
   "outputs": [
    {
     "name": "stdout",
     "output_type": "stream",
     "text": [
      "RANKING GRACZY (według liczby wygranych):\n",
      "1. Kot_Second - 7510 wygranych\n",
      "2. Kot_Third - 7002 wygranych\n",
      "3. Kot_First - 6261 wygranych\n",
      "4. SimplePlayer - 5827 wygranych\n",
      "5. NoCheck - 5556 wygranych\n",
      "6. HonestPlayer - 5552 wygranych\n",
      "7. SecondCardCounter - 2376 wygranych\n",
      "8. AlwaysCheck - 1956 wygranych\n",
      "9. FirstCardCounter - 1936 wygranych\n",
      "10. RandomPlayer - 1024 wygranych\n"
     ]
    }
   ],
   "source": [
    "strategy = [\n",
    "            [\"Kot_First\", \"Kot_First\", MyFirstPlayer],\n",
    "            [\"RandomPlayer\", \"RANDOM\", RandomPlayer],\n",
    "            # # # # # # # # [\"Nazwisko\", \"Nazwisko\", Nazwisko], # ten jest zaimportowany, ale jest pusty praktycznie, jak drawPlayer\n",
    "            [\"SimplePlayer\", \"SimplePlayer\", SimplePlayer],\n",
    "            [\"NoCheck\", \"NoCheck\", SimpleNoCheck],\n",
    "            [\"AlwaysCheck\", \"AlwaysCheck\", SimpleAlwaysCheck],\n",
    "            [\"HonestPlayer\", \"HonestPlayer\", HonestPlayer],\n",
    "            # # # # # # # # [\"DrawPlayer\", \"DrawPlayer\", DrawPlayer], # no dobra, on jest zbyt chujowy by go brać pod uwagę ngl\n",
    "            [\"Kot_Second\", \"Kot_Second\", MySecondPlayer],\n",
    "            [\"Kot_Third\", \"Kot_Third\", MyThirdPlayer],\n",
    "            [\"FirstCardCounter\", \"FirstCardCounter\", FirstCardCounter],\n",
    "            [\"SecondCardCounter\", \"SecondCardCounter\", SecondCardCounter],\n",
    "           ]\n",
    "\n",
    "#%pdb on\n",
    "full_results = [[None for i in range(len(strategy))] for i in range(len(strategy))]\n",
    "\n",
    "for A in range(len(strategy)):\n",
    "    # print(\"==== \" + str(A), strategy[A][0])\n",
    "    for B in range(A+1,len(strategy)):\n",
    "        # print(B, strategy[B][0])\n",
    "        results = comparePlayers(strategy[A][2], strategy[B][2])\n",
    "        full_results[A][B] = results\n",
    "\n",
    "\n",
    "def generate_ranking(full_results, strategy):\n",
    "    n = len(strategy)\n",
    "    total_wins = [0 for _ in range(n)]\n",
    "\n",
    "    for i in range(n):\n",
    "        for j in range(n):\n",
    "            if i < j and full_results[i][j] is not None:\n",
    "                wins_i, wins_j = full_results[i][j][0]\n",
    "                total_wins[i] += wins_i\n",
    "                total_wins[j] += wins_j\n",
    "\n",
    "    # Sparuj nazwy z wynikami\n",
    "    ranking = list(zip([s[0] for s in strategy], total_wins))\n",
    "\n",
    "    # Posortuj malejąco\n",
    "    ranking.sort(key=lambda x: x[1], reverse=True)\n",
    "\n",
    "    print(\"RANKING GRACZY (według liczby wygranych):\")\n",
    "    for idx, (name, wins) in enumerate(ranking, 1):\n",
    "        print(f\"{idx}. {name} - {wins} wygranych\")\n",
    "\n",
    "    return ranking\n",
    "\n",
    "ranking = generate_ranking(full_results, strategy)"
   ],
   "metadata": {
    "collapsed": false
   }
  },
  {
   "cell_type": "code",
   "execution_count": 12,
   "outputs": [
    {
     "name": "stdout",
     "output_type": "stream",
     "text": [
      "MACIERZ WYGRANYCH:\n",
      "                   Kot_First  RandomPlayer  SimplePlayer  NoCheck  \\\n",
      "Kot_First                NaN         943.0         682.0    340.0   \n",
      "RandomPlayer            57.0           NaN         103.0    594.0   \n",
      "SimplePlayer           318.0         897.0           NaN    676.0   \n",
      "NoCheck                660.0         406.0         324.0      NaN   \n",
      "AlwaysCheck              0.0         984.0           5.0     84.0   \n",
      "HonestPlayer           285.0         984.0         689.0    274.0   \n",
      "Kot_Second             774.0         864.0         664.0    739.0   \n",
      "Kot_Third              645.0         914.0         680.0    582.0   \n",
      "FirstCardCounter         0.0         989.0          13.0     81.0   \n",
      "SecondCardCounter        0.0         995.0          13.0     74.0   \n",
      "\n",
      "                   AlwaysCheck  HonestPlayer  Kot_Second  Kot_Third  \\\n",
      "Kot_First               1000.0         715.0       226.0      355.0   \n",
      "RandomPlayer              16.0          16.0       136.0       86.0   \n",
      "SimplePlayer             995.0         311.0       336.0      320.0   \n",
      "NoCheck                  916.0         726.0       261.0      418.0   \n",
      "AlwaysCheck                NaN           0.0         9.0        0.0   \n",
      "HonestPlayer            1000.0           NaN       136.0      184.0   \n",
      "Kot_Second               991.0         864.0         NaN      632.0   \n",
      "Kot_Third               1000.0         816.0       368.0        NaN   \n",
      "FirstCardCounter         471.0           0.0        10.0        1.0   \n",
      "SecondCardCounter        655.0           0.0         8.0        2.0   \n",
      "\n",
      "                   FirstCardCounter  SecondCardCounter  \n",
      "Kot_First                    1000.0             1000.0  \n",
      "RandomPlayer                   11.0                5.0  \n",
      "SimplePlayer                  987.0              987.0  \n",
      "NoCheck                       919.0              926.0  \n",
      "AlwaysCheck                   529.0              345.0  \n",
      "HonestPlayer                 1000.0             1000.0  \n",
      "Kot_Second                    990.0              992.0  \n",
      "Kot_Third                     999.0              998.0  \n",
      "FirstCardCounter                NaN              371.0  \n",
      "SecondCardCounter             629.0                NaN  \n"
     ]
    }
   ],
   "source": [
    "import pandas as pd\n",
    "import numpy as np\n",
    "\n",
    "def create_win_matrix(full_results, strategy):\n",
    "    names = [s[0] for s in strategy]\n",
    "    n = len(names)\n",
    "    matrix = np.zeros((n, n))\n",
    "\n",
    "    for i in range(n):\n",
    "        for j in range(n):\n",
    "            if i == j:\n",
    "                matrix[i][j] = np.nan  # Brak pojedynków z samym sobą\n",
    "            elif i < j and full_results[i][j] is not None:\n",
    "                wins_i, wins_j = full_results[i][j][0]\n",
    "                matrix[i][j] = wins_i\n",
    "                matrix[j][i] = wins_j\n",
    "\n",
    "    df = pd.DataFrame(matrix, index=names, columns=names)\n",
    "    print(\"MACIERZ WYGRANYCH:\")\n",
    "    print(df.round(1))\n",
    "\n",
    "    return df\n",
    "\n",
    "\n",
    "df = create_win_matrix(full_results, strategy)"
   ],
   "metadata": {
    "collapsed": false
   }
  },
  {
   "cell_type": "code",
   "execution_count": 12,
   "outputs": [],
   "source": [
    "\n"
   ],
   "metadata": {
    "collapsed": false
   }
  }
 ],
 "metadata": {
  "kernelspec": {
   "display_name": "Python 3",
   "language": "python",
   "name": "python3"
  },
  "language_info": {
   "codemirror_mode": {
    "name": "ipython",
    "version": 3
   },
   "file_extension": ".py",
   "mimetype": "text/x-python",
   "name": "python",
   "nbconvert_exporter": "python",
   "pygments_lexer": "ipython3",
   "version": "3.8.8"
  },
  "widgets": {
   "state": {},
   "version": "1.1.2"
  }
 },
 "nbformat": 4,
 "nbformat_minor": 4
}
