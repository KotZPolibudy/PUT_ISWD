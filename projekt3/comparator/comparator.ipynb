{
 "cells": [
  {
   "cell_type": "code",
   "execution_count": 1,
   "metadata": {},
   "outputs": [],
   "source": [
    "%matplotlib inline\n",
    "import numpy as np\n",
    "import random\n",
    "import matplotlib.pyplot as plt\n",
    "import matplotlib.lines as mlines\n",
    "\n",
    "from game import Game\n",
    "from player import Player"
   ]
  },
  {
   "cell_type": "code",
   "execution_count": 2,
   "metadata": {},
   "outputs": [],
   "source": [
    "from nazwisko import Nazwisko\n",
    "from simplePlayer import SimplePlayer\n",
    "from simpleNoCheck import SimpleNoCheck\n",
    "from simpleAlwaysCheck import SimpleAlwaysCheck\n",
    "from drawPlayer import DrawPlayer\n",
    "from honestPlayer import HonestPlayer\n",
    "from MyFirstPlayer import MyFirstPlayer\n",
    "from MySecondPlayer import MySecondPlayer\n",
    "from MyThirdPlayer import MyThirdPlayer\n",
    "from cardCounter import FirstCardCounter\n",
    "from cardCounter_base2 import SecondCardCounter\n",
    "from SecondOptim import MySecondPlayerOptim"
   ]
  },
  {
   "cell_type": "code",
   "execution_count": 3,
   "metadata": {},
   "outputs": [
    {
     "name": "stdout",
     "output_type": "stream",
     "text": [
      "[(9, 0), (10, 0), (11, 0), (12, 0), (13, 0), (14, 0), (9, 1), (10, 1), (11, 1), (12, 1), (13, 1), (14, 1), (9, 2), (10, 2), (11, 2), (12, 2), (13, 2), (14, 2), (9, 3), (10, 3), (11, 3), (12, 3), (13, 3), (14, 3)]\n"
     ]
    }
   ],
   "source": [
    "### Generate cards from 9 to 14 (ace) for all colors/symbols (0, 1, 2, 3)\n",
    "def getDeck():\n",
    "    return [(number, color) for color in range(4) for number in range(9, 15)]\n",
    "    \n",
    "print(getDeck())"
   ]
  },
  {
   "cell_type": "code",
   "execution_count": 4,
   "metadata": {},
   "outputs": [
    {
     "name": "stdout",
     "output_type": "stream",
     "text": [
      "[(11, 1), (12, 1), (11, 0), (10, 1), (9, 2), (13, 0), (14, 3), (9, 1)]\n",
      "[(9, 0), (9, 3), (11, 3), (12, 3), (14, 0), (13, 3), (13, 2), (14, 2)]\n"
     ]
    }
   ],
   "source": [
    "### Shuffle the cards randomly. Each player gets 9 cards\n",
    "### (so one player cannot be certain which cards the other player has)\n",
    "\n",
    "def getShuffled(deck):\n",
    "    D = set(deck)\n",
    "    A = set(random.sample(deck, 8))\n",
    "    B = set(random.sample(list(D - A), 8))\n",
    "    C = D - A - B\n",
    "    if len(A.intersection(B)) > 0: print(\"Shuffle error 1\")\n",
    "    if len(A.intersection(B)) > 0: print(\"Shuffle error 2\")\n",
    "    if len(A.intersection(C)) > 0: print(\"Shuffle error 3\") \n",
    "    DS = A | B | C\n",
    "    if not DS == D: print(\"Shuffle error 4\")  \n",
    "    return list(A), list(B), list(C)\n",
    "\n",
    "p1, p2, notUsed, = getShuffled(getDeck())\n",
    "print(p1)\n",
    "print(p2)\n"
   ]
  },
  {
   "cell_type": "code",
   "execution_count": 5,
   "metadata": {},
   "outputs": [],
   "source": [
    "# Some examplary random player\n",
    "\n",
    "class RandomPlayer(Player):\n",
    "    \n",
    "    ### player's random strategy\n",
    "    def putCard(self, declared_card):\n",
    "        \n",
    "        ### check if must draw\n",
    "        if len(self.cards) == 1 and declared_card is not None and self.cards[0][0] < declared_card[0]:\n",
    "            return \"draw\"\n",
    "        \n",
    "        ### player randomly decides which card put on the table\n",
    "        card = random.choice(self.cards)\n",
    "        declaration = card\n",
    "        \n",
    "        ### player randomly decides whether to cheat or not\n",
    "        cheat = np.random.choice([True, False])\n",
    "       \n",
    "        ### if (s)he decides to cheat, (s)he randomly declares the card.\n",
    "        if cheat:\n",
    "            declaration = random.choice(self.cards)             \n",
    "            \n",
    "        ### Yet, declared card should be no worse than a card on the top of the pile . \n",
    "        if declared_card is not None and declaration[0] < declared_card[0]:\n",
    "            declaration = (min(declared_card[0]+1,14), declaration[1])\n",
    "\n",
    "        ### return the decision (true card) and declaration (player's declaration)\n",
    "        return card, declaration\n",
    "    \n",
    "    ### randomly decides whether to check or not\n",
    "    def checkCard(self, opponent_declaration):\n",
    "        return np.random.choice([True, False])\n",
    "    "
   ]
  },
  {
   "cell_type": "markdown",
   "metadata": {},
   "source": [
    "Analyze few moves..."
   ]
  },
  {
   "cell_type": "code",
   "execution_count": 6,
   "metadata": {},
   "outputs": [],
   "source": [
    "### Perform a full game 100 times\n",
    "STAT_NAMES = [\"Wins\", \"Draws\", \"Moves\", \"Cards\", \"Pile Size\", \"Checks\", \"Draw Decisions\", \"Cheats\", \"Errors\", \"Total errors\"]\n",
    "ANALYZE_STATS = [0, 1, 2, 3, 5, 6, 7, 8]\n",
    "\n",
    "def printResults(results):\n",
    "    print(\"Wins:\")\n",
    "    print(results[0])\n",
    "    print(\"Draws:\")\n",
    "    print(results[1])\n",
    "    print(\"Moves:\")\n",
    "    print(results[2])\n",
    "    print(\"Cards:\")\n",
    "    print(results[3])\n",
    "    print(\"Pile size:\")\n",
    "    print(results[4])\n",
    "    print(\"Checks:\")\n",
    "    print(results[5])\n",
    "    print(\"Draw decisions:\")\n",
    "    print(results[6])\n",
    "    print(\"Cheats:\")\n",
    "    print(results[7])\n",
    "    print(\"Errors:\")\n",
    "    print(results[8])\n",
    "    print(\"Total errors:\")\n",
    "    print(results[9])\n",
    "\n",
    "def comparePlayers(player1_class, player2_class):\n",
    "    stats_wins = [0, 0]\n",
    "    stats_draws = [0, 0]\n",
    "    stats_moves = [0, 0]\n",
    "    stats_cards = [0, 0]\n",
    "    stats_pile_size = 0\n",
    "    stats_checks = [0, 0]\n",
    "    stats_draw_decisions = [0, 0]\n",
    "    stats_cheats = [0, 0]\n",
    "    stats_errors = [0, 0]\n",
    "    \n",
    "    repeats = 1000\n",
    "    errors = 0\n",
    "    draws = 0\n",
    "\n",
    "    for t in range(repeats):\n",
    "        player1 = player1_class(\"\")\n",
    "        player2 = player2_class(\"\")\n",
    "        game = Game([player1, player2], log = False)\n",
    "    \n",
    "        error = False\n",
    "        draw = False\n",
    "        \n",
    "        while True:\n",
    "            valid, player = game.takeTurn(log = False)\n",
    "            if game.moves[0] > 100 or game.moves[1] > 100:\n",
    "                draws += 1\n",
    "                stats_draws[0] += 1\n",
    "                stats_draws[1] += 1\n",
    "                if (game.player_cards[0] < game.player_cards[1]):\n",
    "                    stats_wins[0] += 1\n",
    "                if (game.player_cards[0] > game.player_cards[1]):\n",
    "                    stats_wins[1] += 1\n",
    "                    \n",
    "                    \n",
    "                draw=True\n",
    "                # print(\"DRAW\")\n",
    "                break\n",
    "            if not valid:\n",
    "                error = True\n",
    "                stats_errors[player] += 1\n",
    "                errors += 1\n",
    "                break\n",
    "            if game.isFinished(log = False):\n",
    "                stats_wins[player] += 1\n",
    "                break\n",
    "            \n",
    "        stats_pile_size += len(game.pile)\n",
    "        if error: continue\n",
    "        #if draw: continue\n",
    "       \n",
    "        for j in range(2):\n",
    "            stats_moves[j] += game.moves[j]\n",
    "            stats_cheats[j] += game.cheats[j]\n",
    "            stats_checks[j] += game.checks[j]\n",
    "            stats_draw_decisions[j] += game.draw_decisions[j]\n",
    "            stats_cards[j] += len(game.player_cards[j])\n",
    "\n",
    "    div = repeats - errors\n",
    "    if div > 0:\n",
    "            \n",
    "        stats_pile_size /= div          \n",
    "        for j in range(2):\n",
    "            stats_moves[j] /= div\n",
    "            stats_cheats[j] /= div\n",
    "            stats_checks[j] /= div\n",
    "            stats_draw_decisions[j] /= div\n",
    "            stats_cards[j] /= div\n",
    "            \n",
    "    return [stats_wins, stats_draws, stats_moves, stats_cards, stats_pile_size, stats_checks, \n",
    "            stats_draw_decisions, stats_cheats, stats_errors, errors, draws]  \n"
   ]
  },
  {
   "cell_type": "markdown",
   "metadata": {},
   "source": [
    "# COMPARE"
   ]
  },
  {
   "cell_type": "code",
   "execution_count": 7,
   "metadata": {},
   "outputs": [],
   "source": [
    "strategy = [[\"RandomPlayer\", \"RANDOM\", RandomPlayer],\n",
    "            [\"Nazwisko\", \"Nazwisko\", Nazwisko],\n",
    "            [\"Kot1\", \"Kot1\", MyFirstPlayer]\n",
    "           ]"
   ]
  },
  {
   "cell_type": "code",
   "execution_count": 8,
   "metadata": {
    "scrolled": true
   },
   "outputs": [
    {
     "name": "stdout",
     "output_type": "stream",
     "text": [
      "==== 0 RandomPlayer\n",
      "1 Nazwisko\n",
      "2 Kot1\n",
      "==== 1 Nazwisko\n",
      "2 Kot1\n",
      "==== 2 Kot1\n"
     ]
    }
   ],
   "source": [
    "#%pdb on\n",
    "full_results = [[None for i in range(len(strategy))] for i in range(len(strategy))]\n",
    "\n",
    "for A in range(len(strategy)):\n",
    "    print(\"==== \" + str(A), strategy[A][0])\n",
    "    for B in range(A+1,len(strategy)):\n",
    "        print(B, strategy[B][0])\n",
    "        results = comparePlayers(strategy[A][2], strategy[B][2])\n",
    "        full_results[A][B] = results\n",
    "        \n"
   ]
  },
  {
   "cell_type": "code",
   "execution_count": 9,
   "metadata": {
    "scrolled": true,
    "tags": []
   },
   "outputs": [
    {
     "data": {
      "text/plain": "[[None,\n  [[1000, 0],\n   [0, 0],\n   [8.0, 7.501],\n   [0.0, 15.0],\n   1.0,\n   [0.0, 0.0],\n   [0.0, 7.501],\n   [2.594, 0.0],\n   [0, 0],\n   0,\n   0],\n  [[60, 940],\n   [0, 0],\n   [16.073, 16.506],\n   [12.865, 0.39],\n   2.745,\n   [7.991, 3.658],\n   [0.031, 0.591],\n   [9.174, 2.726],\n   [0, 0],\n   0,\n   0]],\n [None,\n  None,\n  [[0, 1000],\n   [0, 0],\n   [7.488, 8.0],\n   [15.0, 0.0],\n   1.0,\n   [0.0, 0.0],\n   [7.488, 0.0],\n   [0.0, 0.0],\n   [0, 0],\n   0,\n   0]],\n [None, None, None]]"
     },
     "execution_count": 9,
     "metadata": {},
     "output_type": "execute_result"
    }
   ],
   "source": [
    "full_results"
   ]
  },
  {
   "cell_type": "markdown",
   "metadata": {},
   "source": [
    "Simple stats"
   ]
  },
  {
   "cell_type": "code",
   "execution_count": 10,
   "metadata": {
    "scrolled": true,
    "tags": []
   },
   "outputs": [
    {
     "name": "stdout",
     "output_type": "stream",
     "text": [
      "Wins\n",
      " RANDOM Nazwisko Kot1 \n",
      "0\n",
      "RANDOM - 1000 60 \n",
      "1\n",
      "Nazwisko 0 - 0 \n",
      "2\n",
      "Kot1 940 1000 - \n",
      "Draws\n",
      " RANDOM Nazwisko Kot1 \n",
      "0\n",
      "RANDOM - 0 0 \n",
      "1\n",
      "Nazwisko 0 - 0 \n",
      "2\n",
      "Kot1 0 0 - \n",
      "Moves\n",
      " RANDOM Nazwisko Kot1 \n",
      "0\n",
      "RANDOM - 8.0 16.073 \n",
      "1\n",
      "Nazwisko 7.501 - 7.488 \n",
      "2\n",
      "Kot1 16.506 8.0 - \n",
      "Cards\n",
      " RANDOM Nazwisko Kot1 \n",
      "0\n",
      "RANDOM - 0.0 12.865 \n",
      "1\n",
      "Nazwisko 15.0 - 15.0 \n",
      "2\n",
      "Kot1 0.39 0.0 - \n",
      "Checks\n",
      " RANDOM Nazwisko Kot1 \n",
      "0\n",
      "RANDOM - 0.0 7.991 \n",
      "1\n",
      "Nazwisko 0.0 - 0.0 \n",
      "2\n",
      "Kot1 3.658 0.0 - \n",
      "Draw Decisions\n",
      " RANDOM Nazwisko Kot1 \n",
      "0\n",
      "RANDOM - 0.0 0.031 \n",
      "1\n",
      "Nazwisko 7.501 - 7.488 \n",
      "2\n",
      "Kot1 0.591 0.0 - \n",
      "Cheats\n",
      " RANDOM Nazwisko Kot1 \n",
      "0\n",
      "RANDOM - 2.594 9.174 \n",
      "1\n",
      "Nazwisko 0.0 - 0.0 \n",
      "2\n",
      "Kot1 2.726 0.0 - \n",
      "Errors\n",
      " RANDOM Nazwisko Kot1 \n",
      "0\n",
      "RANDOM - 0 0 \n",
      "1\n",
      "Nazwisko 0 - 0 \n",
      "2\n",
      "Kot1 0 0 - \n"
     ]
    }
   ],
   "source": [
    "def printMatrix(full_results, stat):\n",
    "    print(STAT_NAMES[stat])\n",
    "    S = \" \"\n",
    "    for s in strategy: S += (str(s[1]) + \" \" )\n",
    "    print(S)\n",
    "    for A in range(len(strategy)):\n",
    "        print(A)\n",
    "        S = str(strategy[A][1]) + \" \"\n",
    "        for B in range(len(strategy)):\n",
    "            if A == B: S += \"- \"\n",
    "            elif A < B:\n",
    "                S += str(full_results[A][B][stat][0]) + \" \"\n",
    "            else:\n",
    "                S += str(full_results[B][A][stat][1]) + \" \"\n",
    "        print(S)\n",
    "    \n",
    "for a in ANALYZE_STATS:\n",
    "    printMatrix(full_results, a)\n",
    "\n"
   ]
  },
  {
   "cell_type": "markdown",
   "source": [
    "# to już dodałem od siebie, tego nie ma w komparatorze!!!!\n",
    "tu jest fragment kodu który zrobi ranking, na podstawie czysto liczby zwycięstw"
   ],
   "metadata": {
    "collapsed": false
   }
  },
  {
   "cell_type": "code",
   "execution_count": 11,
   "outputs": [
    {
     "name": "stdout",
     "output_type": "stream",
     "text": [
      "RANKING GRACZY (według liczby wygranych):\n",
      "1. Mr.Ciekawostka - 9750 / 12000 wygranych\n",
      "2. Kot_Second - 9743 / 12000 wygranych\n",
      "3. Kot_Third - 9190 / 12000 wygranych\n",
      "4. Kot_First - 8382 / 12000 wygranych\n",
      "5. SimplePlayer - 8064 / 12000 wygranych\n",
      "6. HonestPlayer - 7769 / 12000 wygranych\n",
      "7. NoCheck - 6962 / 12000 wygranych\n",
      "8. SecondCardCounter - 4384 / 12000 wygranych\n",
      "9. FirstCardCounter - 3968 / 12000 wygranych\n",
      "10. AlwaysCheck - 3944 / 12000 wygranych\n",
      "11. RandomPlayer - 2602 / 12000 wygranych\n",
      "12. SecondPlayerOptim2 - 1634 / 12000 wygranych\n",
      "13. SecondPlayerOptim - 1608 / 12000 wygranych\n"
     ]
    }
   ],
   "source": [
    "strategy = [\n",
    "            [\"SecondPlayerOptim2\", \"SecondPlayerOptim2\", MySecondPlayerOptim],\n",
    "            [\"Kot_First\", \"Kot_First\", MyFirstPlayer],\n",
    "            [\"RandomPlayer\", \"RANDOM\", RandomPlayer],\n",
    "            # # # # # # # # [\"Nazwisko\", \"Nazwisko\", Nazwisko], # ten jest zaimportowany, ale jest pusty praktycznie, jak drawPlayer\n",
    "            [\"SimplePlayer\", \"SimplePlayer\", SimplePlayer],\n",
    "            [\"NoCheck\", \"NoCheck\", SimpleNoCheck],\n",
    "            [\"AlwaysCheck\", \"AlwaysCheck\", SimpleAlwaysCheck],\n",
    "            [\"HonestPlayer\", \"HonestPlayer\", HonestPlayer],\n",
    "            # # # # # # # # [\"DrawPlayer\", \"DrawPlayer\", DrawPlayer], # no dobra, on jest zbyt chujowy by go brać pod uwagę ngl\n",
    "            [\"Kot_Second\", \"Kot_Second\", MySecondPlayer],\n",
    "            [\"Kot_Third\", \"Kot_Third\", MyThirdPlayer],\n",
    "            [\"FirstCardCounter\", \"FirstCardCounter\", FirstCardCounter],\n",
    "            [\"SecondCardCounter\", \"SecondCardCounter\", SecondCardCounter],\n",
    "            [\"Mr.Ciekawostka\", \"Mr.Ciekawostka\", MySecondPlayer],\n",
    "            [\"SecondPlayerOptim\", \"SecondPlayerOptim\", MySecondPlayerOptim],\n",
    "           ]\n",
    "\n",
    "#%pdb on\n",
    "full_results = [[None for i in range(len(strategy))] for i in range(len(strategy))]\n",
    "\n",
    "for A in range(len(strategy)):\n",
    "    # print(\"==== \" + str(A), strategy[A][0])\n",
    "    for B in range(A+1,len(strategy)):\n",
    "        # print(B, strategy[B][0])\n",
    "        results = comparePlayers(strategy[A][2], strategy[B][2])\n",
    "        full_results[A][B] = results\n",
    "\n",
    "\n",
    "def generate_ranking(full_results, strategy):\n",
    "    n = len(strategy)\n",
    "    total_wins = [0 for _ in range(n)]\n",
    "\n",
    "    for i in range(n):\n",
    "        for j in range(n):\n",
    "            if i < j and full_results[i][j] is not None:\n",
    "                wins_i, wins_j = full_results[i][j][0]\n",
    "                total_wins[i] += wins_i\n",
    "                total_wins[j] += wins_j\n",
    "\n",
    "    # Sparuj nazwy z wynikami\n",
    "    ranking = list(zip([s[0] for s in strategy], total_wins))\n",
    "\n",
    "    # Posortuj malejąco\n",
    "    ranking.sort(key=lambda x: x[1], reverse=True)\n",
    "\n",
    "    maxxx = (len(strategy) -1) * 1000\n",
    "\n",
    "    print(\"RANKING GRACZY (według liczby wygranych):\")\n",
    "    for idx, (name, wins) in enumerate(ranking, 1):\n",
    "        print(f\"{idx}. {name} - {wins} / {maxxx} wygranych\")\n",
    "\n",
    "    return ranking\n",
    "\n",
    "ranking = generate_ranking(full_results, strategy)"
   ],
   "metadata": {
    "collapsed": false
   }
  },
  {
   "cell_type": "code",
   "execution_count": 12,
   "outputs": [
    {
     "name": "stdout",
     "output_type": "stream",
     "text": [
      "MACIERZ WYGRANYCH:\n",
      "                    SecondPlayerOptim2  Kot_First  RandomPlayer  SimplePlayer  \\\n",
      "SecondPlayerOptim2                 NaN       17.0         246.0          59.0   \n",
      "Kot_First                        983.0        NaN         957.0         669.0   \n",
      "RandomPlayer                     754.0       43.0           NaN         103.0   \n",
      "SimplePlayer                     941.0      331.0         897.0           NaN   \n",
      "NoCheck                          552.0      684.0         422.0         328.0   \n",
      "AlwaysCheck                     1000.0        0.0         997.0           6.0   \n",
      "HonestPlayer                     986.0      320.0         989.0         684.0   \n",
      "Kot_Second                       864.0      753.0         871.0         693.0   \n",
      "Kot_Third                        915.0      654.0         905.0         659.0   \n",
      "FirstCardCounter                1000.0        0.0         991.0           5.0   \n",
      "SecondCardCounter                999.0        0.0         991.0          11.0   \n",
      "Mr.Ciekawostka                   868.0      785.0         872.0         665.0   \n",
      "SecondPlayerOptim                504.0       31.0         260.0          54.0   \n",
      "\n",
      "                    NoCheck  AlwaysCheck  HonestPlayer  Kot_Second  Kot_Third  \\\n",
      "SecondPlayerOptim2    448.0          0.0          14.0       136.0       85.0   \n",
      "Kot_First             316.0       1000.0         680.0       247.0      346.0   \n",
      "RandomPlayer          578.0          3.0          11.0       129.0       95.0   \n",
      "SimplePlayer          672.0        994.0         316.0       307.0      341.0   \n",
      "NoCheck                 NaN        901.0         709.0       231.0      422.0   \n",
      "AlwaysCheck            99.0          NaN           0.0         5.0        1.0   \n",
      "HonestPlayer          291.0       1000.0           NaN       143.0      208.0   \n",
      "Kot_Second            769.0        995.0         857.0         NaN      603.0   \n",
      "Kot_Third             578.0        999.0         792.0       397.0        NaN   \n",
      "FirstCardCounter       83.0        511.0           0.0        10.0        3.0   \n",
      "SecondCardCounter      63.0        661.0           0.0         6.0        0.0   \n",
      "Mr.Ciekawostka        737.0        992.0         846.0       519.0      620.0   \n",
      "SecondPlayerOptim     404.0          0.0           6.0       127.0       86.0   \n",
      "\n",
      "                    FirstCardCounter  SecondCardCounter  Mr.Ciekawostka  \\\n",
      "SecondPlayerOptim2               0.0                1.0           132.0   \n",
      "Kot_First                     1000.0             1000.0           215.0   \n",
      "RandomPlayer                     9.0                9.0           128.0   \n",
      "SimplePlayer                   995.0              989.0           335.0   \n",
      "NoCheck                        917.0              937.0           263.0   \n",
      "AlwaysCheck                    489.0              339.0             8.0   \n",
      "HonestPlayer                  1000.0             1000.0           154.0   \n",
      "Kot_Second                     990.0              994.0           481.0   \n",
      "Kot_Third                      997.0             1000.0           380.0   \n",
      "FirstCardCounter                 NaN              357.0             8.0   \n",
      "SecondCardCounter              643.0                NaN            10.0   \n",
      "Mr.Ciekawostka                 992.0              990.0             NaN   \n",
      "SecondPlayerOptim                0.0                0.0           136.0   \n",
      "\n",
      "                    SecondPlayerOptim  \n",
      "SecondPlayerOptim2              496.0  \n",
      "Kot_First                       969.0  \n",
      "RandomPlayer                    740.0  \n",
      "SimplePlayer                    946.0  \n",
      "NoCheck                         596.0  \n",
      "AlwaysCheck                    1000.0  \n",
      "HonestPlayer                    994.0  \n",
      "Kot_Second                      873.0  \n",
      "Kot_Third                       914.0  \n",
      "FirstCardCounter               1000.0  \n",
      "SecondCardCounter              1000.0  \n",
      "Mr.Ciekawostka                  864.0  \n",
      "SecondPlayerOptim                 NaN  \n"
     ]
    }
   ],
   "source": [
    "import pandas as pd\n",
    "import numpy as np\n",
    "\n",
    "def create_win_matrix(full_results, strategy):\n",
    "    names = [s[0] for s in strategy]\n",
    "    n = len(names)\n",
    "    matrix = np.zeros((n, n))\n",
    "\n",
    "    for i in range(n):\n",
    "        for j in range(n):\n",
    "            if i == j:\n",
    "                matrix[i][j] = np.nan  # Brak pojedynków z samym sobą\n",
    "            elif i < j and full_results[i][j] is not None:\n",
    "                wins_i, wins_j = full_results[i][j][0]\n",
    "                matrix[i][j] = wins_i\n",
    "                matrix[j][i] = wins_j\n",
    "\n",
    "    df = pd.DataFrame(matrix, index=names, columns=names)\n",
    "    print(\"MACIERZ WYGRANYCH:\")\n",
    "    print(df.round(1))\n",
    "\n",
    "    return df\n",
    "\n",
    "\n",
    "df = create_win_matrix(full_results, strategy)"
   ],
   "metadata": {
    "collapsed": false
   }
  },
  {
   "cell_type": "code",
   "execution_count": 12,
   "outputs": [],
   "source": [
    "\n"
   ],
   "metadata": {
    "collapsed": false
   }
  }
 ],
 "metadata": {
  "kernelspec": {
   "display_name": "Python 3",
   "language": "python",
   "name": "python3"
  },
  "language_info": {
   "codemirror_mode": {
    "name": "ipython",
    "version": 3
   },
   "file_extension": ".py",
   "mimetype": "text/x-python",
   "name": "python",
   "nbconvert_exporter": "python",
   "pygments_lexer": "ipython3",
   "version": "3.8.8"
  },
  "widgets": {
   "state": {},
   "version": "1.1.2"
  }
 },
 "nbformat": 4,
 "nbformat_minor": 4
}
