{
 "cells": [
  {
   "cell_type": "code",
   "execution_count": 15,
   "metadata": {},
   "outputs": [],
   "source": [
    "%matplotlib inline\n",
    "import numpy as np\n",
    "import random\n",
    "import matplotlib.pyplot as plt\n",
    "import matplotlib.lines as mlines\n",
    "\n",
    "from game import Game\n",
    "from player import Player"
   ]
  },
  {
   "cell_type": "code",
   "execution_count": 16,
   "metadata": {},
   "outputs": [],
   "source": [
    "from nazwisko import Nazwisko\n",
    "from MyFirstPlayer import MyFirstPlayer"
   ]
  },
  {
   "cell_type": "code",
   "execution_count": 17,
   "metadata": {},
   "outputs": [
    {
     "name": "stdout",
     "output_type": "stream",
     "text": [
      "[(9, 0), (10, 0), (11, 0), (12, 0), (13, 0), (14, 0), (9, 1), (10, 1), (11, 1), (12, 1), (13, 1), (14, 1), (9, 2), (10, 2), (11, 2), (12, 2), (13, 2), (14, 2), (9, 3), (10, 3), (11, 3), (12, 3), (13, 3), (14, 3)]\n"
     ]
    }
   ],
   "source": [
    "### Generate cards from 9 to 14 (ace) for all colors/symbols (0, 1, 2, 3)\n",
    "def getDeck():\n",
    "    return [(number, color) for color in range(4) for number in range(9, 15)]\n",
    "    \n",
    "print(getDeck())"
   ]
  },
  {
   "cell_type": "code",
   "execution_count": 18,
   "metadata": {},
   "outputs": [
    {
     "name": "stdout",
     "output_type": "stream",
     "text": [
      "[(12, 1), (11, 0), (12, 0), (13, 3), (14, 3), (10, 0), (12, 2), (10, 2)]\n",
      "[(9, 3), (10, 1), (13, 0), (14, 0), (11, 2), (13, 2), (14, 2), (9, 1)]\n"
     ]
    }
   ],
   "source": [
    "### Shuffle the cards randomly. Each player gets 9 cards\n",
    "### (so one player cannot be certain which cards the other player has)\n",
    "\n",
    "def getShuffled(deck):\n",
    "    D = set(deck)\n",
    "    A = set(random.sample(deck, 8))\n",
    "    B = set(random.sample(list(D - A), 8))\n",
    "    C = D - A - B\n",
    "    if len(A.intersection(B)) > 0: print(\"Shuffle error 1\")\n",
    "    if len(A.intersection(B)) > 0: print(\"Shuffle error 2\")\n",
    "    if len(A.intersection(C)) > 0: print(\"Shuffle error 3\") \n",
    "    DS = A | B | C\n",
    "    if not DS == D: print(\"Shuffle error 4\")  \n",
    "    return list(A), list(B), list(C)\n",
    "\n",
    "p1, p2, notUsed, = getShuffled(getDeck())\n",
    "print(p1)\n",
    "print(p2)\n"
   ]
  },
  {
   "cell_type": "code",
   "execution_count": 19,
   "metadata": {},
   "outputs": [],
   "source": [
    "# Some examplary random player\n",
    "\n",
    "class RandomPlayer(Player):\n",
    "    \n",
    "    ### player's random strategy\n",
    "    def putCard(self, declared_card):\n",
    "        \n",
    "        ### check if must draw\n",
    "        if len(self.cards) == 1 and declared_card is not None and self.cards[0][0] < declared_card[0]:\n",
    "            return \"draw\"\n",
    "        \n",
    "        ### player randomly decides which card put on the table\n",
    "        card = random.choice(self.cards)\n",
    "        declaration = card\n",
    "        \n",
    "        ### player randomly decides whether to cheat or not\n",
    "        cheat = np.random.choice([True, False])\n",
    "       \n",
    "        ### if (s)he decides to cheat, (s)he randomly declares the card.\n",
    "        if cheat:\n",
    "            declaration = random.choice(self.cards)             \n",
    "            \n",
    "        ### Yet, declared card should be no worse than a card on the top of the pile . \n",
    "        if declared_card is not None and declaration[0] < declared_card[0]:\n",
    "            declaration = (min(declared_card[0]+1,14), declaration[1])\n",
    "\n",
    "        ### return the decision (true card) and declaration (player's declaration)\n",
    "        return card, declaration\n",
    "    \n",
    "    ### randomly decides whether to check or not\n",
    "    def checkCard(self, opponent_declaration):\n",
    "        return np.random.choice([True, False])\n",
    "    "
   ]
  },
  {
   "cell_type": "markdown",
   "metadata": {},
   "source": [
    "Analyze few moves..."
   ]
  },
  {
   "cell_type": "code",
   "execution_count": 20,
   "metadata": {},
   "outputs": [],
   "source": [
    "### Perform a full game 100 times\n",
    "STAT_NAMES = [\"Wins\", \"Draws\", \"Moves\", \"Cards\", \"Pile Size\", \"Checks\", \"Draw Decisions\", \"Cheats\", \"Errors\", \"Total errors\"]\n",
    "ANALYZE_STATS = [0, 1, 2, 3, 5, 6, 7, 8]\n",
    "\n",
    "def printResults(results):\n",
    "    print(\"Wins:\")\n",
    "    print(results[0])\n",
    "    print(\"Draws:\")\n",
    "    print(results[1])\n",
    "    print(\"Moves:\")\n",
    "    print(results[2])\n",
    "    print(\"Cards:\")\n",
    "    print(results[3])\n",
    "    print(\"Pile size:\")\n",
    "    print(results[4])\n",
    "    print(\"Checks:\")\n",
    "    print(results[5])\n",
    "    print(\"Draw decisions:\")\n",
    "    print(results[6])\n",
    "    print(\"Cheats:\")\n",
    "    print(results[7])\n",
    "    print(\"Errors:\")\n",
    "    print(results[8])\n",
    "    print(\"Total errors:\")\n",
    "    print(results[9])\n",
    "\n",
    "def comparePlayers(player1_class, player2_class):\n",
    "    stats_wins = [0, 0]\n",
    "    stats_draws = [0, 0]\n",
    "    stats_moves = [0, 0]\n",
    "    stats_cards = [0, 0]\n",
    "    stats_pile_size = 0\n",
    "    stats_checks = [0, 0]\n",
    "    stats_draw_decisions = [0, 0]\n",
    "    stats_cheats = [0, 0]\n",
    "    stats_errors = [0, 0]\n",
    "    \n",
    "    repeats = 1000\n",
    "    errors = 0\n",
    "    draws = 0\n",
    "\n",
    "    for t in range(repeats):\n",
    "        player1 = player1_class(\"\")\n",
    "        player2 = player2_class(\"\")\n",
    "        game = Game([player1, player2], log = False)\n",
    "    \n",
    "        error = False\n",
    "        draw = False\n",
    "        \n",
    "        while True:\n",
    "            valid, player = game.takeTurn(log = False)\n",
    "            if game.moves[0] > 100 or game.moves[1] > 100:\n",
    "                draws += 1\n",
    "                stats_draws[0] += 1\n",
    "                stats_draws[1] += 1\n",
    "                if (game.player_cards[0] < game.player_cards[1]):\n",
    "                    stats_wins[0] += 1\n",
    "                if (game.player_cards[0] > game.player_cards[1]):\n",
    "                    stats_wins[1] += 1\n",
    "                    \n",
    "                    \n",
    "                draw=True\n",
    "                print(\"DRAW\")\n",
    "                break\n",
    "            if not valid:\n",
    "                error = True\n",
    "                stats_errors[player] += 1\n",
    "                errors += 1\n",
    "                break\n",
    "            if game.isFinished(log = False):\n",
    "                stats_wins[player] += 1\n",
    "                break\n",
    "            \n",
    "        stats_pile_size += len(game.pile)\n",
    "        if error: continue\n",
    "        #if draw: continue\n",
    "       \n",
    "        for j in range(2):\n",
    "            stats_moves[j] += game.moves[j]\n",
    "            stats_cheats[j] += game.cheats[j]\n",
    "            stats_checks[j] += game.checks[j]\n",
    "            stats_draw_decisions[j] += game.draw_decisions[j]\n",
    "            stats_cards[j] += len(game.player_cards[j])\n",
    "\n",
    "    div = repeats - errors\n",
    "    if div > 0:\n",
    "            \n",
    "        stats_pile_size /= div          \n",
    "        for j in range(2):\n",
    "            stats_moves[j] /= div\n",
    "            stats_cheats[j] /= div\n",
    "            stats_checks[j] /= div\n",
    "            stats_draw_decisions[j] /= div\n",
    "            stats_cards[j] /= div\n",
    "            \n",
    "    return [stats_wins, stats_draws, stats_moves, stats_cards, stats_pile_size, stats_checks, \n",
    "            stats_draw_decisions, stats_cheats, stats_errors, errors, draws]  \n"
   ]
  },
  {
   "cell_type": "markdown",
   "metadata": {},
   "source": [
    "# COMPARE"
   ]
  },
  {
   "cell_type": "code",
   "execution_count": 21,
   "metadata": {},
   "outputs": [],
   "source": [
    "strategy = [[\"RandomPlayer\", \"RANDOM\", RandomPlayer],\n",
    "            [\"Nazwisko\", \"Nazwisko\", Nazwisko],\n",
    "            [\"Kot1\", \"Kot1\", MyFirstPlayer]\n",
    "           ]"
   ]
  },
  {
   "cell_type": "code",
   "execution_count": 22,
   "metadata": {
    "scrolled": true
   },
   "outputs": [
    {
     "name": "stdout",
     "output_type": "stream",
     "text": [
      "==== 0 RandomPlayer\n",
      "1 Nazwisko\n",
      "2 Kot1\n",
      "==== 1 Nazwisko\n",
      "2 Kot1\n",
      "==== 2 Kot1\n"
     ]
    }
   ],
   "source": [
    "#%pdb on\n",
    "full_results = [[None for i in range(len(strategy))] for i in range(len(strategy))]\n",
    "\n",
    "for A in range(len(strategy)):\n",
    "    print(\"==== \" + str(A), strategy[A][0])\n",
    "    for B in range(A+1,len(strategy)):\n",
    "        print(B, strategy[B][0])\n",
    "        results = comparePlayers(strategy[A][2], strategy[B][2])\n",
    "        full_results[A][B] = results\n",
    "        \n"
   ]
  },
  {
   "cell_type": "code",
   "execution_count": 23,
   "metadata": {
    "scrolled": true,
    "tags": []
   },
   "outputs": [
    {
     "data": {
      "text/plain": "[[None,\n  [[1000, 0],\n   [0, 0],\n   [8.0, 7.506],\n   [0.0, 15.0],\n   1.0,\n   [0.0, 0.0],\n   [0.0, 7.506],\n   [2.594, 0.0],\n   [0, 0],\n   0,\n   0],\n  [[47, 953],\n   [0, 0],\n   [15.987, 16.455],\n   [12.982, 0.295],\n   2.723,\n   [7.957, 3.706],\n   [0.032, 0.612],\n   [9.242, 2.691],\n   [0, 0],\n   0,\n   0]],\n [None,\n  None,\n  [[0, 1000],\n   [0, 0],\n   [7.499, 8.0],\n   [15.0, 0.0],\n   1.0,\n   [0.0, 0.0],\n   [7.499, 0.0],\n   [0.0, 0.0],\n   [0, 0],\n   0,\n   0]],\n [None, None, None]]"
     },
     "execution_count": 23,
     "metadata": {},
     "output_type": "execute_result"
    }
   ],
   "source": [
    "full_results"
   ]
  },
  {
   "cell_type": "markdown",
   "metadata": {},
   "source": [
    "Simple stats"
   ]
  },
  {
   "cell_type": "code",
   "execution_count": 24,
   "metadata": {
    "scrolled": true,
    "tags": []
   },
   "outputs": [
    {
     "name": "stdout",
     "output_type": "stream",
     "text": [
      "Wins\n",
      " RANDOM Nazwisko Kot1 \n",
      "0\n",
      "RANDOM - 1000 47 \n",
      "1\n",
      "Nazwisko 0 - 0 \n",
      "2\n",
      "Kot1 953 1000 - \n",
      "Draws\n",
      " RANDOM Nazwisko Kot1 \n",
      "0\n",
      "RANDOM - 0 0 \n",
      "1\n",
      "Nazwisko 0 - 0 \n",
      "2\n",
      "Kot1 0 0 - \n",
      "Moves\n",
      " RANDOM Nazwisko Kot1 \n",
      "0\n",
      "RANDOM - 8.0 15.987 \n",
      "1\n",
      "Nazwisko 7.506 - 7.499 \n",
      "2\n",
      "Kot1 16.455 8.0 - \n",
      "Cards\n",
      " RANDOM Nazwisko Kot1 \n",
      "0\n",
      "RANDOM - 0.0 12.982 \n",
      "1\n",
      "Nazwisko 15.0 - 15.0 \n",
      "2\n",
      "Kot1 0.295 0.0 - \n",
      "Checks\n",
      " RANDOM Nazwisko Kot1 \n",
      "0\n",
      "RANDOM - 0.0 7.957 \n",
      "1\n",
      "Nazwisko 0.0 - 0.0 \n",
      "2\n",
      "Kot1 3.706 0.0 - \n",
      "Draw Decisions\n",
      " RANDOM Nazwisko Kot1 \n",
      "0\n",
      "RANDOM - 0.0 0.032 \n",
      "1\n",
      "Nazwisko 7.506 - 7.499 \n",
      "2\n",
      "Kot1 0.612 0.0 - \n",
      "Cheats\n",
      " RANDOM Nazwisko Kot1 \n",
      "0\n",
      "RANDOM - 2.594 9.242 \n",
      "1\n",
      "Nazwisko 0.0 - 0.0 \n",
      "2\n",
      "Kot1 2.691 0.0 - \n",
      "Errors\n",
      " RANDOM Nazwisko Kot1 \n",
      "0\n",
      "RANDOM - 0 0 \n",
      "1\n",
      "Nazwisko 0 - 0 \n",
      "2\n",
      "Kot1 0 0 - \n"
     ]
    }
   ],
   "source": [
    "def printMatrix(full_results, stat):\n",
    "    print(STAT_NAMES[stat])\n",
    "    S = \" \"\n",
    "    for s in strategy: S += (str(s[1]) + \" \" )\n",
    "    print(S)\n",
    "    for A in range(len(strategy)):\n",
    "        print(A)\n",
    "        S = str(strategy[A][1]) + \" \"\n",
    "        for B in range(len(strategy)):\n",
    "            if A == B: S += \"- \"\n",
    "            elif A < B:\n",
    "                S += str(full_results[A][B][stat][0]) + \" \"\n",
    "            else:\n",
    "                S += str(full_results[B][A][stat][1]) + \" \"\n",
    "        print(S)\n",
    "    \n",
    "for a in ANALYZE_STATS:\n",
    "    printMatrix(full_results, a)\n",
    "\n"
   ]
  },
  {
   "cell_type": "markdown",
   "source": [
    "# to już dodałem od siebie, tego nie ma w komparatorze!!!!\n",
    "tu jest fragment kodu który zrobi ranking, na podstawie czysto liczby zwycięstw"
   ],
   "metadata": {
    "collapsed": false
   }
  },
  {
   "cell_type": "code",
   "execution_count": 28,
   "outputs": [
    {
     "name": "stdout",
     "output_type": "stream",
     "text": [
      "RANKING GRACZY (według liczby wygranych):\n",
      "1. Kot7 - 4980 wygranych\n",
      "2. Kot5 - 4977 wygranych\n",
      "3. Kot3 - 4957 wygranych\n",
      "4. Kot6 - 4948 wygranych\n",
      "5. Kot1 - 4921 wygranych\n",
      "6. Kot4 - 4910 wygranych\n",
      "7. Kot2 - 4890 wygranych\n",
      "8. RandomPlayer - 1417 wygranych\n",
      "9. Nazwisko - 0 wygranych\n"
     ]
    }
   ],
   "source": [
    "strategy = [[\"RandomPlayer\", \"RANDOM\", RandomPlayer],\n",
    "            [\"Nazwisko\", \"Nazwisko\", Nazwisko],\n",
    "            [\"Kot1\", \"Kot1\", MyFirstPlayer],\n",
    "            [\"Kot2\", \"Kot1\", MyFirstPlayer],\n",
    "            [\"Kot3\", \"Kot1\", MyFirstPlayer],\n",
    "            [\"Kot4\", \"Kot1\", MyFirstPlayer],\n",
    "            [\"Kot5\", \"Kot1\", MyFirstPlayer],\n",
    "            [\"Kot6\", \"Kot1\", MyFirstPlayer],\n",
    "            [\"Kot7\", \"Kot1\", MyFirstPlayer],\n",
    "           ]\n",
    "\n",
    "#%pdb on\n",
    "full_results = [[None for i in range(len(strategy))] for i in range(len(strategy))]\n",
    "\n",
    "for A in range(len(strategy)):\n",
    "    # print(\"==== \" + str(A), strategy[A][0])\n",
    "    for B in range(A+1,len(strategy)):\n",
    "        # print(B, strategy[B][0])\n",
    "        results = comparePlayers(strategy[A][2], strategy[B][2])\n",
    "        full_results[A][B] = results\n",
    "\n",
    "\n",
    "def generate_ranking(full_results, strategy):\n",
    "    n = len(strategy)\n",
    "    total_wins = [0 for _ in range(n)]\n",
    "\n",
    "    for i in range(n):\n",
    "        for j in range(n):\n",
    "            if i < j and full_results[i][j] is not None:\n",
    "                wins_i, wins_j = full_results[i][j][0]\n",
    "                total_wins[i] += wins_i\n",
    "                total_wins[j] += wins_j\n",
    "\n",
    "    # Sparuj nazwy z wynikami\n",
    "    ranking = list(zip([s[0] for s in strategy], total_wins))\n",
    "\n",
    "    # Posortuj malejąco\n",
    "    ranking.sort(key=lambda x: x[1], reverse=True)\n",
    "\n",
    "    print(\"RANKING GRACZY (według liczby wygranych):\")\n",
    "    for idx, (name, wins) in enumerate(ranking, 1):\n",
    "        print(f\"{idx}. {name} - {wins} wygranych\")\n",
    "\n",
    "    return ranking\n",
    "\n",
    "ranking = generate_ranking(full_results, strategy)\n"
   ],
   "metadata": {
    "collapsed": false
   }
  },
  {
   "cell_type": "code",
   "execution_count": null,
   "outputs": [],
   "source": [],
   "metadata": {
    "collapsed": false
   }
  }
 ],
 "metadata": {
  "kernelspec": {
   "display_name": "Python 3",
   "language": "python",
   "name": "python3"
  },
  "language_info": {
   "codemirror_mode": {
    "name": "ipython",
    "version": 3
   },
   "file_extension": ".py",
   "mimetype": "text/x-python",
   "name": "python",
   "nbconvert_exporter": "python",
   "pygments_lexer": "ipython3",
   "version": "3.8.8"
  },
  "widgets": {
   "state": {},
   "version": "1.1.2"
  }
 },
 "nbformat": 4,
 "nbformat_minor": 4
}
