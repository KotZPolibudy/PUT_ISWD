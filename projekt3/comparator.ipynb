{
 "cells": [
  {
   "cell_type": "code",
   "execution_count": 14,
   "metadata": {},
   "outputs": [],
   "source": [
    "%matplotlib inline\n",
    "import numpy as np\n",
    "import random\n",
    "import matplotlib.pyplot as plt\n",
    "import matplotlib.lines as mlines\n",
    "\n",
    "from basegame.game import Game\n",
    "from basegame.player import Player"
   ]
  },
  {
   "cell_type": "code",
   "execution_count": 15,
   "metadata": {},
   "outputs": [],
   "source": [
    "from basegame.nazwisko import Nazwisko\n",
    "from benchmarks.simplePlayer import SimplePlayer\n",
    "from benchmarks.simpleNoCheck import SimpleNoCheck\n",
    "from benchmarks.simpleAlwaysCheck import SimpleAlwaysCheck\n",
    "from absolutnie_do_wywalenia.drawPlayer import DrawPlayer\n",
    "from benchmarks.honestPlayer import HonestPlayer\n",
    "\n",
    "from moje_dzieci.MyFirstPlayer import MyFirstPlayer\n",
    "from moje_dzieci.MySecondPlayer import MySecondPlayer\n",
    "from moje_dzieci.MyThirdPlayer import MyThirdPlayer\n",
    "from absolutnie_do_wywalenia.cardCounter import FirstCardCounter\n",
    "from absolutnie_do_wywalenia.cardCounter_base2 import SecondCardCounter\n",
    "from moje_dzieci.SecondOptim import MySecondPlayerOptim\n",
    "from czyje.Kondys_Dabrowski import Kondys_Dabrowski\n",
    "from ostatnie_pokolenie.Kotterek3 import Kotterek3\n",
    "from czyje.Rafalek import Rafalek"
   ]
  },
  {
   "cell_type": "code",
   "execution_count": 16,
   "metadata": {},
   "outputs": [
    {
     "name": "stdout",
     "output_type": "stream",
     "text": [
      "[(9, 0), (10, 0), (11, 0), (12, 0), (13, 0), (14, 0), (9, 1), (10, 1), (11, 1), (12, 1), (13, 1), (14, 1), (9, 2), (10, 2), (11, 2), (12, 2), (13, 2), (14, 2), (9, 3), (10, 3), (11, 3), (12, 3), (13, 3), (14, 3)]\n"
     ]
    }
   ],
   "source": [
    "### Generate cards from 9 to 14 (ace) for all colors/symbols (0, 1, 2, 3)\n",
    "def getDeck():\n",
    "    return [(number, color) for color in range(4) for number in range(9, 15)]\n",
    "    \n",
    "print(getDeck())"
   ]
  },
  {
   "cell_type": "code",
   "execution_count": 17,
   "metadata": {},
   "outputs": [
    {
     "name": "stdout",
     "output_type": "stream",
     "text": [
      "[(13, 1), (11, 3), (9, 2), (12, 3), (13, 3), (14, 3), (9, 1), (10, 2)]\n",
      "[(11, 1), (9, 0), (12, 1), (11, 0), (14, 1), (12, 0), (13, 0), (10, 0)]\n"
     ]
    }
   ],
   "source": [
    "### Shuffle the cards randomly. Each player gets 9 cards\n",
    "### (so one player cannot be certain which cards the other player has)\n",
    "\n",
    "def getShuffled(deck):\n",
    "    D = set(deck)\n",
    "    A = set(random.sample(deck, 8))\n",
    "    B = set(random.sample(list(D - A), 8))\n",
    "    C = D - A - B\n",
    "    if len(A.intersection(B)) > 0: print(\"Shuffle error 1\")\n",
    "    if len(A.intersection(B)) > 0: print(\"Shuffle error 2\")\n",
    "    if len(A.intersection(C)) > 0: print(\"Shuffle error 3\") \n",
    "    DS = A | B | C\n",
    "    if not DS == D: print(\"Shuffle error 4\")  \n",
    "    return list(A), list(B), list(C)\n",
    "\n",
    "p1, p2, notUsed, = getShuffled(getDeck())\n",
    "print(p1)\n",
    "print(p2)\n"
   ]
  },
  {
   "cell_type": "code",
   "execution_count": 18,
   "metadata": {},
   "outputs": [],
   "source": [
    "# Some examplary random player\n",
    "\n",
    "class RandomPlayer(Player):\n",
    "    \n",
    "    ### player's random strategy\n",
    "    def putCard(self, declared_card):\n",
    "        \n",
    "        ### check if must draw\n",
    "        if len(self.cards) == 1 and declared_card is not None and self.cards[0][0] < declared_card[0]:\n",
    "            return \"draw\"\n",
    "        \n",
    "        ### player randomly decides which card put on the table\n",
    "        card = random.choice(self.cards)\n",
    "        declaration = card\n",
    "        \n",
    "        ### player randomly decides whether to cheat or not\n",
    "        cheat = np.random.choice([True, False])\n",
    "       \n",
    "        ### if (s)he decides to cheat, (s)he randomly declares the card.\n",
    "        if cheat:\n",
    "            declaration = random.choice(self.cards)             \n",
    "            \n",
    "        ### Yet, declared card should be no worse than a card on the top of the pile . \n",
    "        if declared_card is not None and declaration[0] < declared_card[0]:\n",
    "            declaration = (min(declared_card[0]+1,14), declaration[1])\n",
    "\n",
    "        ### return the decision (true card) and declaration (player's declaration)\n",
    "        return card, declaration\n",
    "    \n",
    "    ### randomly decides whether to check or not\n",
    "    def checkCard(self, opponent_declaration):\n",
    "        return np.random.choice([True, False])\n",
    "    "
   ]
  },
  {
   "cell_type": "markdown",
   "metadata": {},
   "source": [
    "Analyze few moves..."
   ]
  },
  {
   "cell_type": "code",
   "execution_count": 19,
   "metadata": {},
   "outputs": [],
   "source": [
    "### Perform a full game 100 times\n",
    "STAT_NAMES = [\"Wins\", \"Draws\", \"Moves\", \"Cards\", \"Pile Size\", \"Checks\", \"Draw Decisions\", \"Cheats\", \"Errors\", \"Total errors\"]\n",
    "ANALYZE_STATS = [0, 1, 2, 3, 5, 6, 7, 8]\n",
    "\n",
    "def printResults(results):\n",
    "    print(\"Wins:\")\n",
    "    print(results[0])\n",
    "    print(\"Draws:\")\n",
    "    print(results[1])\n",
    "    print(\"Moves:\")\n",
    "    print(results[2])\n",
    "    print(\"Cards:\")\n",
    "    print(results[3])\n",
    "    print(\"Pile size:\")\n",
    "    print(results[4])\n",
    "    print(\"Checks:\")\n",
    "    print(results[5])\n",
    "    print(\"Draw decisions:\")\n",
    "    print(results[6])\n",
    "    print(\"Cheats:\")\n",
    "    print(results[7])\n",
    "    print(\"Errors:\")\n",
    "    print(results[8])\n",
    "    print(\"Total errors:\")\n",
    "    print(results[9])\n",
    "\n",
    "def comparePlayers(player1_class, player2_class):\n",
    "    stats_wins = [0, 0]\n",
    "    stats_draws = [0, 0]\n",
    "    stats_moves = [0, 0]\n",
    "    stats_cards = [0, 0]\n",
    "    stats_pile_size = 0\n",
    "    stats_checks = [0, 0]\n",
    "    stats_draw_decisions = [0, 0]\n",
    "    stats_cheats = [0, 0]\n",
    "    stats_errors = [0, 0]\n",
    "    \n",
    "    repeats = 1000\n",
    "    errors = 0\n",
    "    draws = 0\n",
    "\n",
    "    for t in range(repeats):\n",
    "        player1 = player1_class(\"\")\n",
    "        player2 = player2_class(\"\")\n",
    "        game = Game([player1, player2], log = False)\n",
    "    \n",
    "        error = False\n",
    "        draw = False\n",
    "        \n",
    "        while True:\n",
    "            valid, player = game.takeTurn(log = False)\n",
    "            if game.moves[0] > 100 or game.moves[1] > 100:\n",
    "                draws += 1\n",
    "                stats_draws[0] += 1\n",
    "                stats_draws[1] += 1\n",
    "                if (game.player_cards[0] < game.player_cards[1]):\n",
    "                    stats_wins[0] += 1\n",
    "                if (game.player_cards[0] > game.player_cards[1]):\n",
    "                    stats_wins[1] += 1\n",
    "                    \n",
    "                    \n",
    "                draw=True\n",
    "                # print(\"DRAW\")\n",
    "                break\n",
    "            if not valid:\n",
    "                error = True\n",
    "                stats_errors[player] += 1\n",
    "                errors += 1\n",
    "                break\n",
    "            if game.isFinished(log = False):\n",
    "                stats_wins[player] += 1\n",
    "                break\n",
    "            \n",
    "        stats_pile_size += len(game.pile)\n",
    "        if error: continue\n",
    "        #if draw: continue\n",
    "       \n",
    "        for j in range(2):\n",
    "            stats_moves[j] += game.moves[j]\n",
    "            stats_cheats[j] += game.cheats[j]\n",
    "            stats_checks[j] += game.checks[j]\n",
    "            stats_draw_decisions[j] += game.draw_decisions[j]\n",
    "            stats_cards[j] += len(game.player_cards[j])\n",
    "\n",
    "    div = repeats - errors\n",
    "    if div > 0:\n",
    "            \n",
    "        stats_pile_size /= div          \n",
    "        for j in range(2):\n",
    "            stats_moves[j] /= div\n",
    "            stats_cheats[j] /= div\n",
    "            stats_checks[j] /= div\n",
    "            stats_draw_decisions[j] /= div\n",
    "            stats_cards[j] /= div\n",
    "            \n",
    "    return [stats_wins, stats_draws, stats_moves, stats_cards, stats_pile_size, stats_checks, \n",
    "            stats_draw_decisions, stats_cheats, stats_errors, errors, draws]  \n"
   ]
  },
  {
   "cell_type": "markdown",
   "metadata": {},
   "source": [
    "# COMPARE"
   ]
  },
  {
   "cell_type": "code",
   "execution_count": 20,
   "metadata": {},
   "outputs": [
    {
     "data": {
      "text/plain": "'strategy = [[\"RandomPlayer\", \"RANDOM\", RandomPlayer],\\n            [\"Nazwisko\", \"Nazwisko\", Nazwisko],\\n            [\"Kot1\", \"Kot1\", MyFirstPlayer]\\n           ]\\n           '"
     },
     "execution_count": 20,
     "metadata": {},
     "output_type": "execute_result"
    }
   ],
   "source": [
    "strategy = [[\"RandomPlayer\", \"RANDOM\", RandomPlayer],\n",
    "            [\"Rafalek\", \"Rafalek\", Rafalek],\n",
    "            [\"Kot\", \"Kot\", Kotterek3]\n",
    "           ]\n"
   ]
  },
  {
   "cell_type": "code",
   "execution_count": 21,
   "metadata": {
    "scrolled": true
   },
   "outputs": [
    {
     "data": {
      "text/plain": "'\\nfull_results = [[None for i in range(len(strategy))] for i in range(len(strategy))]\\n\\nfor A in range(len(strategy)):\\n    print(\"==== \" + str(A), strategy[A][0])\\n    for B in range(A+1,len(strategy)):\\n        print(B, strategy[B][0])\\n        results = comparePlayers(strategy[A][2], strategy[B][2])\\n        full_results[A][B] = results\\n\\n'"
     },
     "execution_count": 21,
     "metadata": {},
     "output_type": "execute_result"
    }
   ],
   "source": [
    "#%pdb on\n",
    "\n",
    "full_results = [[None for i in range(len(strategy))] for i in range(len(strategy))]\n",
    "\n",
    "for A in range(len(strategy)):\n",
    "    print(\"==== \" + str(A), strategy[A][0])\n",
    "    for B in range(A+1,len(strategy)):\n",
    "        print(B, strategy[B][0])\n",
    "        results = comparePlayers(strategy[A][2], strategy[B][2])\n",
    "        full_results[A][B] = results\n",
    "        \n"
   ]
  },
  {
   "cell_type": "code",
   "execution_count": 22,
   "metadata": {
    "scrolled": true,
    "tags": []
   },
   "outputs": [],
   "source": [
    "full_results"
   ]
  },
  {
   "cell_type": "markdown",
   "metadata": {},
   "source": [
    "Simple stats"
   ]
  },
  {
   "cell_type": "code",
   "execution_count": 23,
   "metadata": {
    "scrolled": true,
    "tags": []
   },
   "outputs": [
    {
     "data": {
      "text/plain": "'def printMatrix(full_results, stat):\\n    print(STAT_NAMES[stat])\\n    S = \" \"\\n    for s in strategy: S += (str(s[1]) + \" \" )\\n    print(S)\\n    for A in range(len(strategy)):\\n        print(A)\\n        S = str(strategy[A][1]) + \" \"\\n        for B in range(len(strategy)):\\n            if A == B: S += \"- \"\\n            elif A < B:\\n                S += str(full_results[A][B][stat][0]) + \" \"\\n            else:\\n                S += str(full_results[B][A][stat][1]) + \" \"\\n        print(S)\\n\\nfor a in ANALYZE_STATS:\\n    printMatrix(full_results, a)\\n'"
     },
     "execution_count": 23,
     "metadata": {},
     "output_type": "execute_result"
    }
   ],
   "source": [
    "def printMatrix(full_results, stat):\n",
    "    print(STAT_NAMES[stat])\n",
    "    S = \" \"\n",
    "    for s in strategy: S += (str(s[1]) + \" \" )\n",
    "    print(S)\n",
    "    for A in range(len(strategy)):\n",
    "        print(A)\n",
    "        S = str(strategy[A][1]) + \" \"\n",
    "        for B in range(len(strategy)):\n",
    "            if A == B: S += \"- \"\n",
    "            elif A < B:\n",
    "                S += str(full_results[A][B][stat][0]) + \" \"\n",
    "            else:\n",
    "                S += str(full_results[B][A][stat][1]) + \" \"\n",
    "        print(S)\n",
    "    \n",
    "for a in ANALYZE_STATS:\n",
    "    printMatrix(full_results, a)\n",
    "\n"
   ]
  },
  {
   "cell_type": "markdown",
   "source": [
    "# to już dodałem od siebie, tego nie ma w komparatorze!!!!\n",
    "tu jest fragment kodu który zrobi ranking, na podstawie czysto liczby zwycięstw"
   ],
   "metadata": {
    "collapsed": false
   }
  },
  {
   "cell_type": "code",
   "execution_count": 24,
   "outputs": [],
   "source": [
    "from moje_dzieci.Kot_4 import Kot4\n",
    "from moje_dzieci.Kot_5 import Kot5\n",
    "from moje_dzieci.Kot_6 import Kot6"
   ],
   "metadata": {
    "collapsed": false
   }
  },
  {
   "cell_type": "code",
   "execution_count": 25,
   "outputs": [
    {
     "name": "stdout",
     "output_type": "stream",
     "text": [
      "RANKING GRACZY (według liczby wygranych):\n",
      "1. Kondys_Dabrowski - 11672 / 14000 wygranych\n",
      "2. Kot4 - 10224 / 14000 wygranych\n",
      "3. Kot_Second - 9871 / 14000 wygranych\n",
      "4. Mr.Ciekawostka - 9842 / 14000 wygranych\n",
      "5. Kot5 - 9494 / 14000 wygranych\n",
      "6. Kot_Third - 9200 / 14000 wygranych\n",
      "7. Kot_First - 8006 / 14000 wygranych\n",
      "8. SimplePlayer - 7531 / 14000 wygranych\n",
      "9. NoCheck - 7531 / 14000 wygranych\n",
      "10. Kot6 - 6744 / 14000 wygranych\n",
      "11. HonestPlayer - 6722 / 14000 wygranych\n",
      "12. SecondCardCounter - 2462 / 14000 wygranych\n",
      "13. AlwaysCheck - 1948 / 14000 wygranych\n",
      "14. FirstCardCounter - 1941 / 14000 wygranych\n",
      "15. RandomPlayer - 1812 / 14000 wygranych\n"
     ]
    }
   ],
   "source": [
    "strategy = [\n",
    "    # [\"SecondPlayerOptim2\", \"SecondPlayerOptim2\", MySecondPlayerOptim],\n",
    "    [\"Kot_First\", \"Kot_First\", MyFirstPlayer],\n",
    "    [\"RandomPlayer\", \"RANDOM\", RandomPlayer],\n",
    "    # # # # # # # # [\"Nazwisko\", \"Nazwisko\", Nazwisko], # ten jest zaimportowany, ale jest pusty praktycznie, jak drawPlayer\n",
    "    [\"SimplePlayer\", \"SimplePlayer\", SimplePlayer],\n",
    "    [\"NoCheck\", \"NoCheck\", SimpleNoCheck],\n",
    "    [\"AlwaysCheck\", \"AlwaysCheck\", SimpleAlwaysCheck],\n",
    "    [\"HonestPlayer\", \"HonestPlayer\", HonestPlayer],\n",
    "    # # # # # # # # [\"DrawPlayer\", \"DrawPlayer\", DrawPlayer], # no dobra, on jest zbyt chujowy by go brać pod uwagę ngl\n",
    "    [\"Kot_Second\", \"Kot_Second\", MySecondPlayer],\n",
    "    [\"Kot_Third\", \"Kot_Third\", MyThirdPlayer],\n",
    "    [\"FirstCardCounter\", \"FirstCardCounter\", FirstCardCounter],\n",
    "    [\"SecondCardCounter\", \"SecondCardCounter\", SecondCardCounter],\n",
    "    [\"Mr.Ciekawostka\", \"Mr.Ciekawostka\", MySecondPlayer],\n",
    "    # [\"SecondPlayerOptim\", \"SecondPlayerOptim\", MySecondPlayerOptim],\n",
    "    [\"Kondys_Dabrowski\",\"Kondys_Dabrowski\",Kondys_Dabrowski],\n",
    "    [\"Kot4\",\"Kot4\", Kot4],\n",
    "    [\"Kot5\",\"Kot5\", Kot5],\n",
    "    [\"Kot6\",\"Kot6\", Kot6]\n",
    "   ]\n",
    "\n",
    "#%pdb on\n",
    "full_results = [[None for i in range(len(strategy))] for i in range(len(strategy))]\n",
    "\n",
    "for A in range(len(strategy)):\n",
    "    # print(\"==== \" + str(A), strategy[A][0])\n",
    "    for B in range(A+1,len(strategy)):\n",
    "        # print(B, strategy[B][0])\n",
    "        results = comparePlayers(strategy[A][2], strategy[B][2])\n",
    "        full_results[A][B] = results\n",
    "\n",
    "\n",
    "def generate_ranking(full_results, strategy):\n",
    "    n = len(strategy)\n",
    "    total_wins = [0 for _ in range(n)]\n",
    "\n",
    "    for i in range(n):\n",
    "        for j in range(n):\n",
    "            if i < j and full_results[i][j] is not None:\n",
    "                wins_i, wins_j = full_results[i][j][0]\n",
    "                total_wins[i] += wins_i\n",
    "                total_wins[j] += wins_j\n",
    "\n",
    "    # Sparuj nazwy z wynikami\n",
    "    ranking = list(zip([s[0] for s in strategy], total_wins))\n",
    "\n",
    "    # Posortuj malejąco\n",
    "    ranking.sort(key=lambda x: x[1], reverse=True)\n",
    "\n",
    "    maxxx = (len(strategy) -1) * 1000\n",
    "\n",
    "    print(\"RANKING GRACZY (według liczby wygranych):\")\n",
    "    for idx, (name, wins) in enumerate(ranking, 1):\n",
    "        print(f\"{idx}. {name} - {wins} / {maxxx} wygranych\")\n",
    "\n",
    "    return ranking\n",
    "\n",
    "ranking = generate_ranking(full_results, strategy)"
   ],
   "metadata": {
    "collapsed": false
   }
  },
  {
   "cell_type": "code",
   "execution_count": 26,
   "outputs": [
    {
     "name": "stdout",
     "output_type": "stream",
     "text": [
      "MACIERZ WYGRANYCH:\n",
      "                   Kot_First  RandomPlayer  SimplePlayer  NoCheck  \\\n",
      "Kot_First                NaN         940.0         697.0    319.0   \n",
      "RandomPlayer            60.0           NaN         102.0    613.0   \n",
      "SimplePlayer           303.0         898.0           NaN    651.0   \n",
      "NoCheck                681.0         387.0         349.0      NaN   \n",
      "AlwaysCheck              0.0         987.0          10.0     75.0   \n",
      "HonestPlayer           297.0         989.0         652.0    244.0   \n",
      "Kot_Second             756.0         870.0         685.0    758.0   \n",
      "Kot_Third              671.0         891.0         715.0    583.0   \n",
      "FirstCardCounter         0.0         988.0           3.0     71.0   \n",
      "SecondCardCounter        0.0         993.0          11.0     88.0   \n",
      "Mr.Ciekawostka         781.0         887.0         669.0    726.0   \n",
      "Kondys_Dabrowski       654.0        1000.0         932.0    585.0   \n",
      "Kot4                   800.0         875.0         738.0    770.0   \n",
      "Kot5                   598.0         859.0         635.0    552.0   \n",
      "Kot6                   393.0         624.0         271.0    434.0   \n",
      "\n",
      "                   AlwaysCheck  HonestPlayer  Kot_Second  Kot_Third  \\\n",
      "Kot_First               1000.0         703.0       244.0      329.0   \n",
      "RandomPlayer              13.0          11.0       130.0      109.0   \n",
      "SimplePlayer             990.0         348.0       315.0      285.0   \n",
      "NoCheck                  925.0         756.0       242.0      417.0   \n",
      "AlwaysCheck                NaN           0.0        10.0        0.0   \n",
      "HonestPlayer            1000.0           NaN       157.0      189.0   \n",
      "Kot_Second               990.0         843.0         NaN      636.0   \n",
      "Kot_Third               1000.0         811.0       364.0        NaN   \n",
      "FirstCardCounter         501.0           0.0         8.0        1.0   \n",
      "SecondCardCounter        663.0           0.0         8.0        2.0   \n",
      "Mr.Ciekawostka           997.0         834.0       516.0      613.0   \n",
      "Kondys_Dabrowski        1000.0         838.0       840.0      692.0   \n",
      "Kot4                     987.0         865.0       543.0      660.0   \n",
      "Kot5                    1000.0         677.0       542.0      559.0   \n",
      "Kot6                     986.0         592.0       210.0      308.0   \n",
      "\n",
      "                   FirstCardCounter  SecondCardCounter  Mr.Ciekawostka  \\\n",
      "Kot_First                    1000.0             1000.0           219.0   \n",
      "RandomPlayer                   12.0                7.0           113.0   \n",
      "SimplePlayer                  997.0              989.0           331.0   \n",
      "NoCheck                       929.0              912.0           274.0   \n",
      "AlwaysCheck                   499.0              337.0             3.0   \n",
      "HonestPlayer                 1000.0             1000.0           166.0   \n",
      "Kot_Second                    992.0              992.0           484.0   \n",
      "Kot_Third                     999.0              998.0           387.0   \n",
      "FirstCardCounter                NaN              334.0             9.0   \n",
      "SecondCardCounter             666.0                NaN            11.0   \n",
      "Mr.Ciekawostka                991.0              989.0             NaN   \n",
      "Kondys_Dabrowski             1000.0             1000.0           839.0   \n",
      "Kot4                          988.0              988.0           537.0   \n",
      "Kot5                         1000.0             1000.0           579.0   \n",
      "Kot6                          986.0              992.0           206.0   \n",
      "\n",
      "                   Kondys_Dabrowski   Kot4   Kot5   Kot6  \n",
      "Kot_First                     346.0  200.0  402.0  607.0  \n",
      "RandomPlayer                    0.0  125.0  141.0  376.0  \n",
      "SimplePlayer                   68.0  262.0  365.0  729.0  \n",
      "NoCheck                       415.0  230.0  448.0  566.0  \n",
      "AlwaysCheck                     0.0   13.0    0.0   14.0  \n",
      "HonestPlayer                  162.0  135.0  323.0  408.0  \n",
      "Kot_Second                    160.0  457.0  458.0  790.0  \n",
      "Kot_Third                     308.0  340.0  441.0  692.0  \n",
      "FirstCardCounter                0.0   12.0    0.0   14.0  \n",
      "SecondCardCounter               0.0   12.0    0.0    8.0  \n",
      "Mr.Ciekawostka                161.0  463.0  421.0  794.0  \n",
      "Kondys_Dabrowski                NaN  810.0  723.0  759.0  \n",
      "Kot4                          190.0    NaN  498.0  785.0  \n",
      "Kot5                          277.0  502.0    NaN  714.0  \n",
      "Kot6                          241.0  215.0  286.0    NaN  \n"
     ]
    }
   ],
   "source": [
    "import pandas as pd\n",
    "import numpy as np\n",
    "\n",
    "def create_win_matrix(full_results, strategy):\n",
    "    names = [s[0] for s in strategy]\n",
    "    n = len(names)\n",
    "    matrix = np.zeros((n, n))\n",
    "\n",
    "    for i in range(n):\n",
    "        for j in range(n):\n",
    "            if i == j:\n",
    "                matrix[i][j] = np.nan  # Brak pojedynków z samym sobą\n",
    "            elif i < j and full_results[i][j] is not None:\n",
    "                wins_i, wins_j = full_results[i][j][0]\n",
    "                matrix[i][j] = wins_i\n",
    "                matrix[j][i] = wins_j\n",
    "\n",
    "    df = pd.DataFrame(matrix, index=names, columns=names)\n",
    "    print(\"MACIERZ WYGRANYCH:\")\n",
    "    print(df.round(1))\n",
    "\n",
    "    return df\n",
    "\n",
    "\n",
    "df = create_win_matrix(full_results, strategy)"
   ],
   "metadata": {
    "collapsed": false
   }
  },
  {
   "cell_type": "code",
   "execution_count": 26,
   "outputs": [],
   "source": [
    "\n"
   ],
   "metadata": {
    "collapsed": false
   }
  }
 ],
 "metadata": {
  "kernelspec": {
   "display_name": "Python 3",
   "language": "python",
   "name": "python3"
  },
  "language_info": {
   "codemirror_mode": {
    "name": "ipython",
    "version": 3
   },
   "file_extension": ".py",
   "mimetype": "text/x-python",
   "name": "python",
   "nbconvert_exporter": "python",
   "pygments_lexer": "ipython3",
   "version": "3.8.8"
  },
  "widgets": {
   "state": {},
   "version": "1.1.2"
  }
 },
 "nbformat": 4,
 "nbformat_minor": 4
}
