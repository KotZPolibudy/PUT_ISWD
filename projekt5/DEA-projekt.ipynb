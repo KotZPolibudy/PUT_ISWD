{
 "cells": [
  {
   "cell_type": "markdown",
   "source": [
    "Projekt - DEA - Graniczna Analiza Danych"
   ],
   "metadata": {
    "collapsed": false
   }
  },
  {
   "cell_type": "code",
   "execution_count": 1,
   "outputs": [],
   "source": [
    "# importy i input\n",
    "import pandas as pd\n",
    "import numpy as np\n",
    "import seaborn as sns\n",
    "import matplotlib.pyplot as plt\n",
    "from pulp import *\n",
    "from tabulate import tabulate\n",
    "\n",
    "inputs = pd.read_csv('inputs.csv', index_col=0, delimiter=';')\n",
    "outputs = pd.read_csv('outputs.csv', index_col=0, delimiter=';')\n",
    "samples = pd.read_csv('samples_homework.csv', delimiter=';')"
   ],
   "metadata": {
    "collapsed": false
   }
  },
  {
   "cell_type": "code",
   "execution_count": 2,
   "outputs": [],
   "source": [
    "efficiency_scores = {}\n",
    "reference_units = {}\n",
    "adjustments = {}\n",
    "super_efficiency_scores = {}\n",
    "cross_efficiency_scores = {DMU: [] for DMU in inputs.index}\n",
    "expected_efficiency = {}"
   ],
   "metadata": {
    "collapsed": false
   }
  },
  {
   "cell_type": "code",
   "execution_count": 13,
   "outputs": [
    {
     "name": "stdout",
     "output_type": "stream",
     "text": [
      "Warning: Superefektywność dla WAW < 1 (0.439) — to nie powinno się zdarzyć!\n",
      "Warning: Superefektywność dla KRK < 1 (0.890) — to nie powinno się zdarzyć!\n",
      "Warning: Superefektywność dla WRO < 1 (0.962) — to nie powinno się zdarzyć!\n",
      "Warning: Superefektywność dla GDN < 1 (0.500) — to nie powinno się zdarzyć!\n",
      "Warning: Superefektywność dla BZG < 1 (0.573) — to nie powinno się zdarzyć!\n"
     ]
    }
   ],
   "source": [
    "# Obliczanie efektywności i superefektywności - poprawione?\n",
    "for DMUo in inputs.index:\n",
    "    # Model klasyczny (efektywność)\n",
    "    problem = LpProblem(f\"Efficiency_{DMUo}\", LpMinimize)\n",
    "    lambdas = LpVariable.dicts(\"Lambda\", (i for i in inputs.index), lowBound=0)\n",
    "    theta = LpVariable(\"theta\", lowBound=0, upBound=1)\n",
    "\n",
    "    problem += theta\n",
    "\n",
    "    for input_metric in inputs.columns:\n",
    "        problem += lpSum([lambdas[i] * inputs.loc[i, input_metric] for i in inputs.index]) <= theta * inputs.loc[DMUo, input_metric]\n",
    "\n",
    "    for output_metric in outputs.columns:\n",
    "        problem += lpSum([lambdas[i] * outputs.loc[i, output_metric] for i in inputs.index]) >= outputs.loc[DMUo, output_metric]\n",
    "\n",
    "    problem.solve(PULP_CBC_CMD(msg=False))\n",
    "\n",
    "    if LpStatus[problem.status] == 'Optimal':\n",
    "        efficiency_score = value(theta)\n",
    "        efficiency_scores[DMUo] = efficiency_score\n",
    "\n",
    "        if efficiency_score < 1:\n",
    "            # Zapisz jednostki odniesienia (HCU)\n",
    "            reference_units[DMUo] = {}\n",
    "            adjustments[DMUo] = {}\n",
    "            for i in inputs.index:\n",
    "                if lambdas[i].varValue > 0:\n",
    "                    reference_units[DMUo][i] = lambdas[i].varValue\n",
    "\n",
    "            # Oblicz poprawki\n",
    "            for input_metric in inputs.columns:\n",
    "                optimal_input = sum(lambdas[i].varValue * inputs.loc[i, input_metric] for i in inputs.index)\n",
    "                adjustments[DMUo][input_metric] = inputs.loc[DMUo, input_metric] - optimal_input\n",
    "\n",
    "            # Superefektywność = efektywność (dla nieefektywnych jednostek)\n",
    "            super_efficiency_scores[DMUo] = efficiency_score\n",
    "\n",
    "        else:\n",
    "            # Model superefektywności (tylko dla efektywnych jednostek)\n",
    "            super_problem = LpProblem(f\"SuperEfficiency_{DMUo}\", LpMinimize)\n",
    "            # tylko inne jednostki\n",
    "            peer_dmus = [i for i in inputs.index if i != DMUo]\n",
    "            super_lambdas = LpVariable.dicts(\"SuperLambda\", peer_dmus, lowBound=0)\n",
    "            super_theta = LpVariable(\"super_theta\", lowBound=0)\n",
    "\n",
    "            super_problem += super_theta\n",
    "\n",
    "            # Ograniczenia: wejścia — pomnóż wejścia peerów przez lambdy, ale pomiń DMUo!\n",
    "            for input_metric in inputs.columns:\n",
    "                super_problem += lpSum([\n",
    "                    super_lambdas[i] * inputs.loc[i, input_metric] for i in peer_dmus\n",
    "                ]) <= super_theta * inputs.loc[DMUo, input_metric]\n",
    "\n",
    "            # Ograniczenia: wyjścia — peerzy muszą osiągać co najmniej to co DMUo\n",
    "            for output_metric in outputs.columns:\n",
    "                super_problem += lpSum([\n",
    "                    super_lambdas[i] * outputs.loc[i, output_metric] for i in peer_dmus\n",
    "                ]) >= outputs.loc[DMUo, output_metric]\n",
    "\n",
    "            super_problem.solve(PULP_CBC_CMD(msg=False))\n",
    "\n",
    "            if LpStatus[super_problem.status] == 'Optimal':\n",
    "                theta_val = value(super_theta)\n",
    "                if theta_val and theta_val > 1e-6:\n",
    "                    super_eff = 1 / theta_val\n",
    "                    if super_eff >= 1:\n",
    "                        super_efficiency_scores[DMUo] = super_eff\n",
    "                    else:\n",
    "                        print(f\"Warning: Superefektywność dla {DMUo} < 1 ({super_eff:.3f}) — to nie powinno się zdarzyć!\")\n",
    "                        super_efficiency_scores[DMUo] = np.nan\n",
    "                else:\n",
    "                    super_efficiency_scores[DMUo] = np.nan\n",
    "            else:\n",
    "                print(f\"Superefektywność: problem dla {DMUo} jest nierozwiązywalny\")\n",
    "    else:\n",
    "        print(f\"Efektywność: problem dla {DMUo} jest nierozwiązywalny\")\n"
   ],
   "metadata": {
    "collapsed": false
   }
  },
  {
   "cell_type": "code",
   "execution_count": 4,
   "outputs": [
    {
     "name": "stdout",
     "output_type": "stream",
     "text": [
      "Tabela efektywności:\n",
      "|    | Lotnisko   |   Efektywność |\n",
      "|----|------------|---------------|\n",
      "|  0 | WAW        |      1        |\n",
      "|  1 | KRK        |      1        |\n",
      "|  2 | KAT        |      0.591209 |\n",
      "|  3 | WRO        |      1        |\n",
      "|  4 | POZ        |      0.799801 |\n",
      "|  5 | LCJ        |      0.300036 |\n",
      "|  6 | GDN        |      1        |\n",
      "|  7 | SZZ        |      0.270787 |\n",
      "|  8 | BZG        |      1        |\n",
      "|  9 | RZE        |      0.409183 |\n",
      "| 10 | IEG        |      0.258475 |\n",
      "\n",
      "Tabela superefektywności:\n",
      "|    | Lotnisko   |   Superefektywność |\n",
      "|----|------------|--------------------|\n",
      "|  0 | WAW        |         nan        |\n",
      "|  1 | KRK        |         nan        |\n",
      "|  2 | KAT        |           0.591209 |\n",
      "|  3 | WRO        |         nan        |\n",
      "|  4 | POZ        |           0.799801 |\n",
      "|  5 | LCJ        |           0.300036 |\n",
      "|  6 | GDN        |         nan        |\n",
      "|  7 | SZZ        |           0.270787 |\n",
      "|  8 | BZG        |         nan        |\n",
      "|  9 | RZE        |           0.409183 |\n",
      "| 10 | IEG        |           0.258475 |\n",
      "\n",
      "Tabela jednostek odniesienia (HCU):\n",
      "|    | Lotnisko   |    i1_HCU |    i2_HCU |   i3_HCU |    i4_HCU |\n",
      "|----|------------|-----------|-----------|----------|-----------|\n",
      "|  0 | KAT        | 2.12835   | 18.9187   | 33.9354  | 4.39648   |\n",
      "|  1 | POZ        | 1.1997    |  7.99801  | 19.1952  | 1.92843   |\n",
      "|  2 | LCJ        | 0.180022  |  2.78302  |  7.20087 | 0.474862  |\n",
      "|  3 | SZZ        | 0.189551  |  2.70787  |  6.95923 | 0.465305  |\n",
      "|  4 | RZE        | 0.24551   |  2.4551   |  4.62377 | 0.53653   |\n",
      "|  5 | IEG        | 0.0258475 |  0.387712 |  1.10886 | 0.0646186 |\n",
      "\n",
      "Tabela poprawek:\n",
      "|    | Lotnisko   |      i1_Δ |     i2_Δ |     i3_Δ |    i4_Δ |\n",
      "|----|------------|-----------|----------|----------|---------|\n",
      "|  0 | KAT        | 1.47165   | 13.0813  | 23.4646  | 6.10352 |\n",
      "|  1 | POZ        | 0.300299  |  2.00199 |  4.80478 | 2.07157 |\n",
      "|  2 | LCJ        | 0.419978  |  9.21698 | 16.7991  | 3.42514 |\n",
      "|  3 | SZZ        | 0.510449  |  7.29213 | 18.7408  | 1.43469 |\n",
      "|  4 | RZE        | 0.35449   |  3.5449  |  6.67623 | 2.16347 |\n",
      "|  5 | IEG        | 0.0741525 |  9.61229 | 62.2911  | 2.93538 |\n",
      "\n",
      "Tabela HCU i poprawki:\n",
      "|    | Lotnisko   |    i1_HCU |    i2_HCU |   i3_HCU |    i4_HCU |      i1_Δ |     i2_Δ |     i3_Δ |    i4_Δ |\n",
      "|----|------------|-----------|-----------|----------|-----------|-----------|----------|----------|---------|\n",
      "|  0 | KAT        | 2.12835   | 18.9187   | 33.9354  | 4.39648   | 1.47165   | 13.0813  | 23.4646  | 6.10352 |\n",
      "|  1 | POZ        | 1.1997    |  7.99801  | 19.1952  | 1.92843   | 0.300299  |  2.00199 |  4.80478 | 2.07157 |\n",
      "|  2 | LCJ        | 0.180022  |  2.78302  |  7.20087 | 0.474862  | 0.419978  |  9.21698 | 16.7991  | 3.42514 |\n",
      "|  3 | SZZ        | 0.189551  |  2.70787  |  6.95923 | 0.465305  | 0.510449  |  7.29213 | 18.7408  | 1.43469 |\n",
      "|  4 | RZE        | 0.24551   |  2.4551   |  4.62377 | 0.53653   | 0.35449   |  3.5449  |  6.67623 | 2.16347 |\n",
      "|  5 | IEG        | 0.0258475 |  0.387712 |  1.10886 | 0.0646186 | 0.0741525 |  9.61229 | 62.2911  | 2.93538 |\n"
     ]
    }
   ],
   "source": [
    "# Tabela efektywności\n",
    "df_efficiency = pd.DataFrame.from_dict(efficiency_scores, orient='index', columns=['Efektywność'])\n",
    "df_efficiency.index.name = 'Lotnisko'\n",
    "\n",
    "# Tabela superefektywności\n",
    "df_super = pd.DataFrame.from_dict(super_efficiency_scores, orient='index', columns=['Superefektywność'])\n",
    "df_super.index.name = 'Lotnisko'\n",
    "\n",
    "# Tabela poprawek (adjustments)\n",
    "df_adjustments = pd.DataFrame.from_dict(adjustments, orient='index')\n",
    "df_adjustments.index.name = 'Lotnisko'\n",
    "\n",
    "# Oblicz rzeczywiste wartości wejściowe dla HCU (hipotetycznej jednostki odniesienia)\n",
    "hcu_inputs = {}\n",
    "\n",
    "for dmu, lambda_dict in reference_units.items():\n",
    "    hcu_inputs[dmu] = {}\n",
    "    for input_metric in inputs.columns:\n",
    "        hcu_inputs[dmu][input_metric] = sum(\n",
    "            lambda_dict.get(k, 0) * inputs.loc[k, input_metric] for k in inputs.index\n",
    "        )\n",
    "\n",
    "# Przekształć do DataFrame\n",
    "df_hcu_inputs = pd.DataFrame.from_dict(hcu_inputs, orient='index')\n",
    "df_hcu_inputs.index.name = \"Lotnisko\"\n",
    "df_hcu_inputs.columns = [f\"{col}_HCU\" for col in df_hcu_inputs.columns]\n",
    "df_adjustments.columns = [f\"{col}_Δ\" for col in df_adjustments.columns]\n",
    "\n",
    "# Połącz dane\n",
    "df_hcu_full = df_hcu_inputs.join(df_adjustments, how=\"left\")\n",
    "\n",
    "\n",
    "# Złączenie efektywności i superefektywności\n",
    "df_zad2 = df_hcu_inputs.join(df_adjustments, how='left')\n",
    "\n",
    "\n",
    "# Wyświetlenie\n",
    "print(\"Tabela efektywności:\")\n",
    "print(tabulate(df_efficiency.reset_index(), headers='keys', tablefmt='github'))\n",
    "\n",
    "print(\"\\nTabela superefektywności:\")\n",
    "print(tabulate(df_super.reset_index(), headers='keys', tablefmt='github'))\n",
    "\n",
    "print(\"\\nTabela jednostek odniesienia (HCU):\")\n",
    "print(tabulate(df_hcu_inputs.reset_index(), headers='keys', tablefmt='github'))\n",
    "\n",
    "print(\"\\nTabela poprawek:\")\n",
    "print(tabulate(df_adjustments.reset_index(), headers='keys', tablefmt='github'))\n",
    "\n",
    "print(\"\\nTabela HCU i poprawki:\")\n",
    "print(tabulate(df_zad2.reset_index(), headers='keys', tablefmt='github'))"
   ],
   "metadata": {
    "collapsed": false
   }
  },
  {
   "cell_type": "code",
   "execution_count": 5,
   "outputs": [
    {
     "name": "stdout",
     "output_type": "stream",
     "text": [
      "\\begin{tabular}{c|c}\n",
      "\\toprule\n",
      " & Efektywność \\\\\n",
      "Lotnisko &  \\\\\n",
      "\\midrule\n",
      "WAW & 1.000 \\\\\n",
      "KRK & 1.000 \\\\\n",
      "KAT & 0.591 \\\\\n",
      "WRO & 1.000 \\\\\n",
      "POZ & 0.800 \\\\\n",
      "LCJ & 0.300 \\\\\n",
      "GDN & 1.000 \\\\\n",
      "SZZ & 0.271 \\\\\n",
      "BZG & 1.000 \\\\\n",
      "RZE & 0.409 \\\\\n",
      "IEG & 0.258 \\\\\n",
      "\\bottomrule\n",
      "\\end{tabular}\n",
      "\n"
     ]
    }
   ],
   "source": [
    "# importy do LaTeXa do sprawka ;)\n",
    "print(df_efficiency.to_latex(\n",
    "    header=[\"Efektywność\"],\n",
    "    index_names=True,\n",
    "    column_format=\"c|c\",\n",
    "    float_format=\"%.3f\"\n",
    "))"
   ],
   "metadata": {
    "collapsed": false
   }
  },
  {
   "cell_type": "code",
   "execution_count": 6,
   "outputs": [
    {
     "name": "stdout",
     "output_type": "stream",
     "text": [
      "\\begin{tabular}{c|cccccccc}\n",
      "\\hline\n",
      " & i1_HCU & i2_HCU & i3_HCU & i4_HCU & i1_Δ & i2_Δ & i3_Δ & i4_Δ \\\\\n",
      "Lotnisko &  &  &  &  &  &  &  &  \\\\\n",
      "\\hline\n",
      "KAT & 2.13 & 18.92 & 33.94 & 4.40 & 1.47 & 13.08 & 23.46 & 6.10 \\\\\n",
      "POZ & 1.20 & 8.00 & 19.20 & 1.93 & 0.30 & 2.00 & 4.80 & 2.07 \\\\\n",
      "LCJ & 0.18 & 2.78 & 7.20 & 0.47 & 0.42 & 9.22 & 16.80 & 3.43 \\\\\n",
      "SZZ & 0.19 & 2.71 & 6.96 & 0.47 & 0.51 & 7.29 & 18.74 & 1.43 \\\\\n",
      "RZE & 0.25 & 2.46 & 4.62 & 0.54 & 0.35 & 3.54 & 6.68 & 2.16 \\\\\n",
      "IEG & 0.03 & 0.39 & 1.11 & 0.06 & 0.07 & 9.61 & 62.29 & 2.94 \\\\\n",
      "\\hline\n",
      "\\end{tabular}\n",
      "\n"
     ]
    }
   ],
   "source": [
    "print(df_zad2.to_latex(\n",
    "    index_names=True,\n",
    "    column_format=\"c|\" + \"c\" * len(df_zad2.columns),\n",
    "    float_format=\"%.2f\"\n",
    ").replace(\"\\\\toprule\", \"\\\\hline\")\n",
    " .replace(\"\\\\midrule\", \"\\\\hline\")\n",
    " .replace(\"\\\\bottomrule\", \"\\\\hline\"))\n"
   ],
   "metadata": {
    "collapsed": false
   }
  },
  {
   "cell_type": "code",
   "execution_count": 7,
   "outputs": [
    {
     "name": "stdout",
     "output_type": "stream",
     "text": [
      "\\begin{tabular}{c|c}\n",
      "\\toprule\n",
      " & Superefektywność \\\\\n",
      "Lotnisko &  \\\\\n",
      "\\midrule\n",
      "WAW & NaN \\\\\n",
      "KRK & NaN \\\\\n",
      "KAT & 0.591 \\\\\n",
      "WRO & NaN \\\\\n",
      "POZ & 0.800 \\\\\n",
      "LCJ & 0.300 \\\\\n",
      "GDN & NaN \\\\\n",
      "SZZ & 0.271 \\\\\n",
      "BZG & NaN \\\\\n",
      "RZE & 0.409 \\\\\n",
      "IEG & 0.258 \\\\\n",
      "\\bottomrule\n",
      "\\end{tabular}\n",
      "\n"
     ]
    }
   ],
   "source": [
    "print(df_super.to_latex(\n",
    "    header=[\"Superefektywność\"],\n",
    "    index_names=True,\n",
    "    column_format=\"c|c\",\n",
    "    float_format=\"%.3f\"\n",
    "))\n"
   ],
   "metadata": {
    "collapsed": false
   }
  },
  {
   "cell_type": "code",
   "execution_count": 8,
   "outputs": [
    {
     "name": "stdout",
     "output_type": "stream",
     "text": [
      "| index   |      WAW |      KRK |      KAT |      WRO |      POZ |      LCJ |      GDN |      SZZ |      BZG |      RZE |      IEG |    CRavg |\n",
      "|:--------|---------:|---------:|---------:|---------:|---------:|---------:|---------:|---------:|---------:|---------:|---------:|---------:|\n",
      "| WAW     | 1        | 1        | 1        | 1        | 1        | 1        | 1        | 1        | 1        | 1        | 1        | 1        |\n",
      "| KRK     | 1        | 1        | 1        | 1        | 1        | 1        | 1        | 1        | 1        | 1        | 1        | 1        |\n",
      "| KAT     | 0.591209 | 0.591209 | 1        | 0.591209 | 0.591209 | 0.591209 | 0.591209 | 0.591209 | 0.591209 | 0.591209 | 0.591209 | 0.628372 |\n",
      "| WRO     | 1        | 1        | 1        | 1        | 1        | 1        | 1        | 1        | 1        | 1        | 1        | 1        |\n",
      "| POZ     | 0.799801 | 0.799801 | 0.799801 | 0.799801 | 1        | 0.799801 | 0.799801 | 0.799801 | 0.799801 | 0.799801 | 0.799801 | 0.818001 |\n",
      "| LCJ     | 0.300036 | 0.300036 | 0.300036 | 0.300036 | 0.300036 | 1        | 0.300036 | 0.300036 | 0.300036 | 0.300036 | 0.300036 | 0.363669 |\n",
      "| GDN     | 1        | 1        | 1        | 1        | 1        | 1        | 1        | 1        | 1        | 1        | 1        | 1        |\n",
      "| SZZ     | 0.270787 | 0.270787 | 0.270787 | 0.270787 | 0.270787 | 0.270787 | 0.270787 | 1        | 0.270787 | 0.270787 | 0.270787 | 0.337079 |\n",
      "| BZG     | 1        | 1        | 1        | 1        | 1        | 1        | 1        | 1        | 1        | 1        | 1        | 1        |\n",
      "| RZE     | 0.409183 | 0.409183 | 0.409183 | 0.409183 | 0.409183 | 0.409183 | 0.409183 | 0.409183 | 0.409183 | 1        | 0.409183 | 0.462894 |\n",
      "| IEG     | 0.258475 | 0.258475 | 0.258475 | 0.258475 | 0.258475 | 0.258475 | 0.258475 | 0.258475 | 0.258475 | 0.258475 | 1        | 0.325886 |\n"
     ]
    }
   ],
   "source": [
    "# Assuming the necessary data frames 'inputs' and 'outputs' are already defined\n",
    "samples = pd.read_csv('samples_homework.csv')\n",
    "cross_efficiency_matrix = pd.DataFrame(index=inputs.index, columns=inputs.index)\n",
    "\n",
    "# Calculate cross-efficiency for each DMU\n",
    "# TODO - daje inne wyniki niż B&B\n",
    "for DMUo in inputs.index:\n",
    "    for DMU in inputs.index:\n",
    "        if DMU != DMUo:\n",
    "            problem = LpProblem(f\"CrossEfficiency_{DMUo}_using_{DMU}\", LpMinimize)\n",
    "            lambdas = LpVariable.dicts(\"Lambda\", (i for i in inputs.index), lowBound=0)\n",
    "            theta = LpVariable(\"theta\", lowBound=0, upBound=1)\n",
    "\n",
    "            problem += theta\n",
    "\n",
    "            for input_metric in inputs.columns:\n",
    "                problem += lpSum([lambdas[i] * inputs.loc[i, input_metric] for i in inputs.index]) <= theta * inputs.loc[DMUo, input_metric]\n",
    "\n",
    "            for output_metric in outputs.columns:\n",
    "                problem += lpSum([lambdas[i] * outputs.loc[i, output_metric] for i in inputs.index]) >= outputs.loc[DMUo, output_metric]\n",
    "\n",
    "            problem.solve(PULP_CBC_CMD(msg=False))\n",
    "\n",
    "            if LpStatus[problem.status] == 'Optimal':\n",
    "                cross_efficiency_matrix.loc[DMUo, DMU] = value(theta)\n",
    "        else:\n",
    "            cross_efficiency_matrix.loc[DMUo, DMU] = 1  # Self-evaluation is always 1\n",
    "\n",
    "# Calculate average cross-efficiency\n",
    "cross_efficiency_matrix['CRavg'] = cross_efficiency_matrix.mean(axis=1)\n",
    "\n",
    "# # Display the cross-efficiency matrix\n",
    "# print(\"Cross-Efficiency Matrix:\")\n",
    "# print(cross_efficiency_matrix)\n",
    "\n",
    "# Save the cross-efficiency matrix to a CSV file (optional)\n",
    "cross_efficiency_matrix.to_csv('cross_efficiency_matrix.csv', index=True)\n",
    "\n",
    "# Format the table for display\n",
    "table_format = cross_efficiency_matrix.reset_index().to_markdown(index=False)\n",
    "print(table_format)\n"
   ],
   "metadata": {
    "collapsed": false
   }
  },
  {
   "cell_type": "code",
   "execution_count": 10,
   "outputs": [
    {
     "name": "stdout",
     "output_type": "stream",
     "text": [
      "Superefektywność: POZ ≻ KAT ≻ RZE ≻ LCJ ≻ SZZ ≻ IEG ≻ WAW ≻ KRK ≻ WRO ≻ GDN ≻ BZG\n",
      "Średnia efektywność krzyżowa: WAW ≻ KRK ≻ WRO ≻ GDN ≻ BZG ≻ POZ ≻ KAT ≻ RZE ≻ LCJ ≻ SZZ ≻ IEG\n",
      "Oczekiwana wartość efektywności: WAW ≻ KRK ≻ KAT ≻ WRO ≻ POZ ≻ LCJ ≻ GDN ≻ SZZ ≻ BZG ≻ RZE ≻ IEG\n"
     ]
    }
   ],
   "source": [
    "# TODO - ten kod jest zajebany, inne dataframe'y powinny być raczej, więc grubo do sprawdzenia\n",
    "# TODO - i też dopiero po poprawie SuperEff do wzięcia pod uwagę imo\n",
    "\n",
    "# Create DataFrame for ranking\n",
    "results_df = pd.DataFrame({\n",
    "    'Efficiency': pd.Series(efficiency_scores),\n",
    "    'SuperEfficiency': pd.Series(super_efficiency_scores),\n",
    "    'ExpectedEfficiency': pd.Series(expected_efficiency)\n",
    "})\n",
    "\n",
    "# Rank units\n",
    "results_df['EfficiencyRank'] = results_df['Efficiency'].rank(ascending=False)\n",
    "results_df['SuperEfficiencyRank'] = results_df['SuperEfficiency'].rank(ascending=False)\n",
    "results_df['ExpectedEfficiencyRank'] = results_df['ExpectedEfficiency'].rank(ascending=False)\n",
    "\n",
    "# Sort DataFrame by ranks\n",
    "efficiency_ranking = results_df.sort_values(by='EfficiencyRank').index.tolist()\n",
    "super_efficiency_ranking = results_df.sort_values(by='SuperEfficiencyRank').index.tolist()\n",
    "expected_efficiency_ranking = results_df.sort_values(by='ExpectedEfficiencyRank').index.tolist()\n",
    "\n",
    "# Format rankings into the desired output\n",
    "super_efficiency_str = \" ≻ \".join(super_efficiency_ranking)\n",
    "average_efficiency_str = \" ≻ \".join(efficiency_ranking)\n",
    "expected_efficiency_str = \" ≻ \".join(expected_efficiency_ranking)\n",
    "\n",
    "# Print the formatted rankings\n",
    "print(f\"Superefektywność: {super_efficiency_str}\")\n",
    "print(f\"Średnia efektywność krzyżowa: {average_efficiency_str}\")\n",
    "print(f\"Oczekiwana wartość efektywności: {expected_efficiency_str}\")"
   ],
   "metadata": {
    "collapsed": false
   }
  },
  {
   "cell_type": "code",
   "execution_count": null,
   "outputs": [],
   "source": [],
   "metadata": {
    "collapsed": false
   }
  }
 ],
 "metadata": {
  "kernelspec": {
   "display_name": "Python 3",
   "language": "python",
   "name": "python3"
  },
  "language_info": {
   "codemirror_mode": {
    "name": "ipython",
    "version": 2
   },
   "file_extension": ".py",
   "mimetype": "text/x-python",
   "name": "python",
   "nbconvert_exporter": "python",
   "pygments_lexer": "ipython2",
   "version": "2.7.6"
  }
 },
 "nbformat": 4,
 "nbformat_minor": 0
}
