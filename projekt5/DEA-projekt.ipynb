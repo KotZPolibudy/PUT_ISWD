{
 "cells": [
  {
   "cell_type": "markdown",
   "source": [
    "Projekt - DEA - Graniczna Analiza Danych"
   ],
   "metadata": {
    "collapsed": false
   }
  },
  {
   "cell_type": "code",
   "execution_count": 1,
   "outputs": [],
   "source": [
    "# importy i input\n",
    "import pandas as pd\n",
    "import numpy as np\n",
    "import seaborn as sns\n",
    "import matplotlib.pyplot as plt\n",
    "from pulp import *\n",
    "from tabulate import tabulate\n",
    "\n",
    "inputs = pd.read_csv('inputs.csv', index_col=0, delimiter=';')\n",
    "outputs = pd.read_csv('outputs.csv', index_col=0, delimiter=';')\n",
    "samples = pd.read_csv('samples_homework.csv', delimiter=';')"
   ],
   "metadata": {
    "collapsed": false
   }
  },
  {
   "cell_type": "code",
   "execution_count": 2,
   "outputs": [],
   "source": [
    "efficiency_scores = {}\n",
    "reference_units = {}\n",
    "adjustments = {}\n",
    "super_efficiency_scores = {}\n",
    "cross_efficiency_scores = {DMU: [] for DMU in inputs.index}\n",
    "expected_efficiency = {}"
   ],
   "metadata": {
    "collapsed": false
   }
  },
  {
   "cell_type": "code",
   "execution_count": 3,
   "outputs": [
    {
     "name": "stdout",
     "output_type": "stream",
     "text": [
      "Warning: Superefektywność dla WAW < 1 (0.439) — to nie powinno się zdarzyć! - fix w następnej komórce\n",
      "Warning: Superefektywność dla KRK < 1 (0.890) — to nie powinno się zdarzyć! - fix w następnej komórce\n",
      "Warning: Superefektywność dla WRO < 1 (0.962) — to nie powinno się zdarzyć! - fix w następnej komórce\n",
      "Warning: Superefektywność dla GDN < 1 (0.500) — to nie powinno się zdarzyć! - fix w następnej komórce\n",
      "Warning: Superefektywność dla BZG < 1 (0.573) — to nie powinno się zdarzyć! - fix w następnej komórce\n"
     ]
    }
   ],
   "source": [
    "# Obliczanie efektywności i superefektywności oraz HCU\n",
    "for DMUo in inputs.index:\n",
    "    # Model klasyczny (efektywność)\n",
    "    problem = LpProblem(f\"Efficiency_{DMUo}\", LpMinimize)\n",
    "    lambdas = LpVariable.dicts(\"Lambda\", (i for i in inputs.index), lowBound=0)\n",
    "    theta = LpVariable(\"theta\", lowBound=0, upBound=1)\n",
    "\n",
    "    problem += theta\n",
    "\n",
    "    for input_metric in inputs.columns:\n",
    "        problem += lpSum([lambdas[i] * inputs.loc[i, input_metric] for i in inputs.index]) <= theta * inputs.loc[DMUo, input_metric]\n",
    "\n",
    "    for output_metric in outputs.columns:\n",
    "        problem += lpSum([lambdas[i] * outputs.loc[i, output_metric] for i in inputs.index]) >= outputs.loc[DMUo, output_metric]\n",
    "\n",
    "    problem.solve(PULP_CBC_CMD(msg=False))\n",
    "\n",
    "    if LpStatus[problem.status] == 'Optimal':\n",
    "        efficiency_score = value(theta)\n",
    "        efficiency_scores[DMUo] = efficiency_score\n",
    "\n",
    "        if efficiency_score < 1:\n",
    "            # Zapisz jednostki odniesienia (HCU)\n",
    "            reference_units[DMUo] = {}\n",
    "            adjustments[DMUo] = {}\n",
    "            for i in inputs.index:\n",
    "                if lambdas[i].varValue > 0:\n",
    "                    reference_units[DMUo][i] = lambdas[i].varValue\n",
    "\n",
    "            # Oblicz poprawki\n",
    "            for input_metric in inputs.columns:\n",
    "                optimal_input = sum(lambdas[i].varValue * inputs.loc[i, input_metric] for i in inputs.index)\n",
    "                adjustments[DMUo][input_metric] = inputs.loc[DMUo, input_metric] - optimal_input\n",
    "\n",
    "            # Superefektywność = efektywność (dla nieefektywnych jednostek)\n",
    "            super_efficiency_scores[DMUo] = efficiency_score\n",
    "\n",
    "        else:\n",
    "            # Model superefektywności (tylko dla efektywnych jednostek)\n",
    "            super_problem = LpProblem(f\"SuperEfficiency_{DMUo}\", LpMinimize)\n",
    "            # tylko inne jednostki\n",
    "            peer_dmus = [i for i in inputs.index if i != DMUo]\n",
    "            super_lambdas = LpVariable.dicts(\"SuperLambda\", peer_dmus, lowBound=0)\n",
    "            super_theta = LpVariable(\"super_theta\", lowBound=0)\n",
    "\n",
    "            super_problem += super_theta\n",
    "\n",
    "            # Ograniczenia: wejścia — pomnóż wejścia peerów przez lambdy, ale pomiń DMUo!\n",
    "            for input_metric in inputs.columns:\n",
    "                super_problem += lpSum([\n",
    "                    super_lambdas[i] * inputs.loc[i, input_metric] for i in peer_dmus\n",
    "                ]) <= super_theta * inputs.loc[DMUo, input_metric]\n",
    "\n",
    "            # Ograniczenia: wyjścia — peerzy muszą osiągać co najmniej to co DMUo\n",
    "            for output_metric in outputs.columns:\n",
    "                super_problem += lpSum([\n",
    "                    super_lambdas[i] * outputs.loc[i, output_metric] for i in peer_dmus\n",
    "                ]) >= outputs.loc[DMUo, output_metric]\n",
    "\n",
    "            super_problem.solve(PULP_CBC_CMD(msg=False))\n",
    "\n",
    "            if LpStatus[super_problem.status] == 'Optimal':\n",
    "                theta_val = value(super_theta)\n",
    "                if theta_val and theta_val > 1e-6:\n",
    "                    super_eff = 1 / theta_val\n",
    "                    if super_eff >= 1:\n",
    "                        super_efficiency_scores[DMUo] = super_eff\n",
    "                    else:\n",
    "                        print(f\"Warning: Superefektywność dla {DMUo} < 1 ({super_eff:.3f}) — to nie powinno się zdarzyć! - fix w następnej komórce\")\n",
    "                        super_efficiency_scores[DMUo] = np.nan\n",
    "                else:\n",
    "                    super_efficiency_scores[DMUo] = np.nan\n",
    "            else:\n",
    "                print(f\"Superefektywność: problem dla {DMUo} jest nierozwiązywalny\")\n",
    "    else:\n",
    "        print(f\"Efektywność: problem dla {DMUo} jest nierozwiązywalny\")"
   ],
   "metadata": {
    "collapsed": false
   }
  },
  {
   "cell_type": "code",
   "execution_count": 4,
   "outputs": [],
   "source": [
    "# Obliczanie superefektywności - poprawione?\n",
    "for DMUo in inputs.index:\n",
    "    super_problem = LpProblem(f\"SEfficiency_{DMUo}\", LpMinimize)\n",
    "\n",
    "    # Usuwamy DMUo z danych referencyjnych\n",
    "    super_inputs = inputs.drop(index=DMUo)\n",
    "    super_outputs = outputs.drop(index=DMUo)\n",
    "\n",
    "    # Zmienna decyzyjna: lambda tylko dla pozostałych\n",
    "    s_lambdas = LpVariable.dicts(\"Lambda\", super_inputs.index, lowBound=0)\n",
    "    s_theta = LpVariable(\"theta\", lowBound=0)\n",
    "\n",
    "    super_problem += s_theta  # minimalizacja theta\n",
    "\n",
    "    # Ograniczenia wejściowe\n",
    "    for input_metric in super_inputs.columns:\n",
    "        super_problem += lpSum([s_lambdas[i] * super_inputs.loc[i, input_metric] for i in super_inputs.index]) <= s_theta * inputs.loc[DMUo, input_metric]\n",
    "\n",
    "    # Ograniczenia wyjściowe\n",
    "    for output_metric in super_outputs.columns:\n",
    "        super_problem += lpSum([s_lambdas[i] * super_outputs.loc[i, output_metric] for i in super_outputs.index]) >= outputs.loc[DMUo, output_metric]\n",
    "\n",
    "    # Rozwiązanie\n",
    "    super_problem.solve(PULP_CBC_CMD(msg=False))\n",
    "\n",
    "    if LpStatus[super_problem.status] == 'Optimal':\n",
    "        super_efficiency_score = value(s_theta)\n",
    "        super_efficiency_scores[DMUo] = super_efficiency_score\n",
    "    else:\n",
    "        print(f\"Superefektywność: problem dla {DMUo} jest nierozwiązywalny\")\n"
   ],
   "metadata": {
    "collapsed": false
   }
  },
  {
   "cell_type": "code",
   "execution_count": 5,
   "outputs": [
    {
     "name": "stdout",
     "output_type": "stream",
     "text": [
      "Tabela efektywności:\n",
      "|    | Lotnisko   |   Efektywność |\n",
      "|----|------------|---------------|\n",
      "|  0 | WAW        |      1        |\n",
      "|  1 | KRK        |      1        |\n",
      "|  2 | KAT        |      0.591209 |\n",
      "|  3 | WRO        |      1        |\n",
      "|  4 | POZ        |      0.799801 |\n",
      "|  5 | LCJ        |      0.300036 |\n",
      "|  6 | GDN        |      1        |\n",
      "|  7 | SZZ        |      0.270787 |\n",
      "|  8 | BZG        |      1        |\n",
      "|  9 | RZE        |      0.409183 |\n",
      "| 10 | IEG        |      0.258475 |\n",
      "\n",
      "Tabela superefektywności:\n",
      "|    | Lotnisko   |   Superefektywność |\n",
      "|----|------------|--------------------|\n",
      "|  0 | WAW        |           2.27795  |\n",
      "|  1 | KRK        |           1.12378  |\n",
      "|  2 | KAT        |           0.591209 |\n",
      "|  3 | WRO        |           1.03995  |\n",
      "|  4 | POZ        |           0.799801 |\n",
      "|  5 | LCJ        |           0.300036 |\n",
      "|  6 | GDN        |           2        |\n",
      "|  7 | SZZ        |           0.270787 |\n",
      "|  8 | BZG        |           1.74593  |\n",
      "|  9 | RZE        |           0.409183 |\n",
      "| 10 | IEG        |           0.258475 |\n",
      "\n",
      "Tabela jednostek odniesienia (HCU):\n",
      "|    | Lotnisko   |    i1_HCU |    i2_HCU |   i3_HCU |    i4_HCU |\n",
      "|----|------------|-----------|-----------|----------|-----------|\n",
      "|  0 | KAT        | 2.12835   | 18.9187   | 33.9354  | 4.39648   |\n",
      "|  1 | POZ        | 1.1997    |  7.99801  | 19.1952  | 1.92843   |\n",
      "|  2 | LCJ        | 0.180022  |  2.78302  |  7.20087 | 0.474862  |\n",
      "|  3 | SZZ        | 0.189551  |  2.70787  |  6.95923 | 0.465305  |\n",
      "|  4 | RZE        | 0.24551   |  2.4551   |  4.62377 | 0.53653   |\n",
      "|  5 | IEG        | 0.0258475 |  0.387712 |  1.10886 | 0.0646186 |\n",
      "\n",
      "Tabela poprawek:\n",
      "|    | Lotnisko   |      i1_Δ |     i2_Δ |     i3_Δ |    i4_Δ |\n",
      "|----|------------|-----------|----------|----------|---------|\n",
      "|  0 | KAT        | 1.47165   | 13.0813  | 23.4646  | 6.10352 |\n",
      "|  1 | POZ        | 0.300299  |  2.00199 |  4.80478 | 2.07157 |\n",
      "|  2 | LCJ        | 0.419978  |  9.21698 | 16.7991  | 3.42514 |\n",
      "|  3 | SZZ        | 0.510449  |  7.29213 | 18.7408  | 1.43469 |\n",
      "|  4 | RZE        | 0.35449   |  3.5449  |  6.67623 | 2.16347 |\n",
      "|  5 | IEG        | 0.0741525 |  9.61229 | 62.2911  | 2.93538 |\n",
      "\n",
      "Tabela HCU i poprawki:\n",
      "|    | Lotnisko   |    i1_HCU |    i2_HCU |   i3_HCU |    i4_HCU |      i1_Δ |     i2_Δ |     i3_Δ |    i4_Δ |\n",
      "|----|------------|-----------|-----------|----------|-----------|-----------|----------|----------|---------|\n",
      "|  0 | KAT        | 2.12835   | 18.9187   | 33.9354  | 4.39648   | 1.47165   | 13.0813  | 23.4646  | 6.10352 |\n",
      "|  1 | POZ        | 1.1997    |  7.99801  | 19.1952  | 1.92843   | 0.300299  |  2.00199 |  4.80478 | 2.07157 |\n",
      "|  2 | LCJ        | 0.180022  |  2.78302  |  7.20087 | 0.474862  | 0.419978  |  9.21698 | 16.7991  | 3.42514 |\n",
      "|  3 | SZZ        | 0.189551  |  2.70787  |  6.95923 | 0.465305  | 0.510449  |  7.29213 | 18.7408  | 1.43469 |\n",
      "|  4 | RZE        | 0.24551   |  2.4551   |  4.62377 | 0.53653   | 0.35449   |  3.5449  |  6.67623 | 2.16347 |\n",
      "|  5 | IEG        | 0.0258475 |  0.387712 |  1.10886 | 0.0646186 | 0.0741525 |  9.61229 | 62.2911  | 2.93538 |\n"
     ]
    }
   ],
   "source": [
    "# Tutaj robię tabelki z tego wyżej i wyświetlam tak, żeby to wygodnie importować do sprawka.\n",
    "# Tabela efektywności\n",
    "df_efficiency = pd.DataFrame.from_dict(efficiency_scores, orient='index', columns=['Efektywność'])\n",
    "df_efficiency.index.name = 'Lotnisko'\n",
    "\n",
    "# Tabela superefektywności\n",
    "df_super = pd.DataFrame.from_dict(super_efficiency_scores, orient='index', columns=['Superefektywność'])\n",
    "df_super.index.name = 'Lotnisko'\n",
    "\n",
    "# Tabela poprawek (adjustments)\n",
    "df_adjustments = pd.DataFrame.from_dict(adjustments, orient='index')\n",
    "df_adjustments.index.name = 'Lotnisko'\n",
    "\n",
    "# Oblicz rzeczywiste wartości wejściowe dla HCU (hipotetycznej jednostki odniesienia)\n",
    "hcu_inputs = {}\n",
    "\n",
    "for dmu, lambda_dict in reference_units.items():\n",
    "    hcu_inputs[dmu] = {}\n",
    "    for input_metric in inputs.columns:\n",
    "        hcu_inputs[dmu][input_metric] = sum(\n",
    "            lambda_dict.get(k, 0) * inputs.loc[k, input_metric] for k in inputs.index\n",
    "        )\n",
    "\n",
    "# Przekształć do DataFrame\n",
    "df_hcu_inputs = pd.DataFrame.from_dict(hcu_inputs, orient='index')\n",
    "df_hcu_inputs.index.name = \"Lotnisko\"\n",
    "df_hcu_inputs.columns = [f\"{col}_HCU\" for col in df_hcu_inputs.columns]\n",
    "df_adjustments.columns = [f\"{col}_Δ\" for col in df_adjustments.columns]\n",
    "\n",
    "# Połącz dane\n",
    "df_hcu_full = df_hcu_inputs.join(df_adjustments, how=\"left\")\n",
    "\n",
    "\n",
    "# Złączenie efektywności i superefektywności\n",
    "df_zad2 = df_hcu_inputs.join(df_adjustments, how='left')\n",
    "\n",
    "\n",
    "# Wyświetlenie\n",
    "print(\"Tabela efektywności:\")\n",
    "print(tabulate(df_efficiency.reset_index(), headers='keys', tablefmt='github'))\n",
    "\n",
    "print(\"\\nTabela superefektywności:\")\n",
    "print(tabulate(df_super.reset_index(), headers='keys', tablefmt='github'))\n",
    "\n",
    "print(\"\\nTabela jednostek odniesienia (HCU):\")\n",
    "print(tabulate(df_hcu_inputs.reset_index(), headers='keys', tablefmt='github'))\n",
    "\n",
    "print(\"\\nTabela poprawek:\")\n",
    "print(tabulate(df_adjustments.reset_index(), headers='keys', tablefmt='github'))\n",
    "\n",
    "print(\"\\nTabela HCU i poprawki:\")\n",
    "print(tabulate(df_zad2.reset_index(), headers='keys', tablefmt='github'))"
   ],
   "metadata": {
    "collapsed": false
   }
  },
  {
   "cell_type": "code",
   "execution_count": 6,
   "outputs": [
    {
     "name": "stdout",
     "output_type": "stream",
     "text": [
      "\\begin{tabular}{c|c}\n",
      "\\toprule\n",
      " & Efektywność \\\\\n",
      "Lotnisko &  \\\\\n",
      "\\midrule\n",
      "WAW & 1.000 \\\\\n",
      "KRK & 1.000 \\\\\n",
      "KAT & 0.591 \\\\\n",
      "WRO & 1.000 \\\\\n",
      "POZ & 0.800 \\\\\n",
      "LCJ & 0.300 \\\\\n",
      "GDN & 1.000 \\\\\n",
      "SZZ & 0.271 \\\\\n",
      "BZG & 1.000 \\\\\n",
      "RZE & 0.409 \\\\\n",
      "IEG & 0.258 \\\\\n",
      "\\bottomrule\n",
      "\\end{tabular}\n",
      "\n"
     ]
    }
   ],
   "source": [
    "# importy do LaTeXa do sprawka ;)\n",
    "print(df_efficiency.to_latex(\n",
    "    header=[\"Efektywność\"],\n",
    "    index_names=True,\n",
    "    column_format=\"c|c\",\n",
    "    float_format=\"%.3f\"\n",
    "))"
   ],
   "metadata": {
    "collapsed": false
   }
  },
  {
   "cell_type": "code",
   "execution_count": 7,
   "outputs": [
    {
     "name": "stdout",
     "output_type": "stream",
     "text": [
      "\\begin{tabular}{c|cccccccc}\n",
      "\\hline\n",
      " & i1_HCU & i2_HCU & i3_HCU & i4_HCU & i1_Δ & i2_Δ & i3_Δ & i4_Δ \\\\\n",
      "Lotnisko &  &  &  &  &  &  &  &  \\\\\n",
      "\\hline\n",
      "KAT & 2.13 & 18.92 & 33.94 & 4.40 & 1.47 & 13.08 & 23.46 & 6.10 \\\\\n",
      "POZ & 1.20 & 8.00 & 19.20 & 1.93 & 0.30 & 2.00 & 4.80 & 2.07 \\\\\n",
      "LCJ & 0.18 & 2.78 & 7.20 & 0.47 & 0.42 & 9.22 & 16.80 & 3.43 \\\\\n",
      "SZZ & 0.19 & 2.71 & 6.96 & 0.47 & 0.51 & 7.29 & 18.74 & 1.43 \\\\\n",
      "RZE & 0.25 & 2.46 & 4.62 & 0.54 & 0.35 & 3.54 & 6.68 & 2.16 \\\\\n",
      "IEG & 0.03 & 0.39 & 1.11 & 0.06 & 0.07 & 9.61 & 62.29 & 2.94 \\\\\n",
      "\\hline\n",
      "\\end{tabular}\n",
      "\n"
     ]
    }
   ],
   "source": [
    "print(df_zad2.to_latex(\n",
    "    index_names=True,\n",
    "    column_format=\"c|\" + \"c\" * len(df_zad2.columns),\n",
    "    float_format=\"%.2f\"\n",
    ").replace(\"\\\\toprule\", \"\\\\hline\")\n",
    " .replace(\"\\\\midrule\", \"\\\\hline\")\n",
    " .replace(\"\\\\bottomrule\", \"\\\\hline\"))\n"
   ],
   "metadata": {
    "collapsed": false
   }
  },
  {
   "cell_type": "code",
   "execution_count": 8,
   "outputs": [
    {
     "name": "stdout",
     "output_type": "stream",
     "text": [
      "\\begin{tabular}{c|c}\n",
      "\\toprule\n",
      " & Superefektywność \\\\\n",
      "Lotnisko &  \\\\\n",
      "\\midrule\n",
      "WAW & 2.278 \\\\\n",
      "KRK & 1.124 \\\\\n",
      "KAT & 0.591 \\\\\n",
      "WRO & 1.040 \\\\\n",
      "POZ & 0.800 \\\\\n",
      "LCJ & 0.300 \\\\\n",
      "GDN & 2.000 \\\\\n",
      "SZZ & 0.271 \\\\\n",
      "BZG & 1.746 \\\\\n",
      "RZE & 0.409 \\\\\n",
      "IEG & 0.258 \\\\\n",
      "\\bottomrule\n",
      "\\end{tabular}\n",
      "\n"
     ]
    }
   ],
   "source": [
    "print(df_super.to_latex(\n",
    "    header=[\"Superefektywność\"],\n",
    "    index_names=True,\n",
    "    column_format=\"c|c\",\n",
    "    float_format=\"%.3f\"\n",
    "))\n"
   ],
   "metadata": {
    "collapsed": false
   }
  },
  {
   "cell_type": "code",
   "execution_count": 9,
   "outputs": [
    {
     "name": "stdout",
     "output_type": "stream",
     "text": [
      "| index   |        WAW |        KRK |        KAT |        WRO |        POZ |       LCJ |      GDN |       SZZ |       BZG |        RZE |      IEG |    CRavg |\n",
      "|:--------|-----------:|-----------:|-----------:|-----------:|-----------:|----------:|---------:|----------:|----------:|-----------:|---------:|---------:|\n",
      "| WAW     | 1          | 1          | 0.912758   | 1          | 1          | 0.595046  | 0.452381 | 1         | 0.595046  | 0.902747   | 0.523406 | 0.816489 |\n",
      "| KRK     | 0.806201   | 1          | 1          | 1          | 1          | 0.49107   | 0.467742 | 0.755486  | 0.49107   | 0.996316   | 0.427829 | 0.766883 |\n",
      "| KAT     | 0.468961   | 0.575065   | 0.591209   | 0.562943   | 0.562943   | 0.277842  | 0.333333 | 0.371452  | 0.277842  | 0.591203   | 0.248352 | 0.441922 |\n",
      "| WRO     | 0.747692   | 0.964851   | 1          | 1          | 1          | 0.604639  | 0.5      | 0.856267  | 0.604639  | 1          | 0.531073 | 0.800833 |\n",
      "| POZ     | 0.715515   | 0.793061   | 0.77369    | 0.799801   | 0.799801   | 0.511841  | 0.433333 | 0.737176  | 0.511841  | 0.770046   | 0.457627 | 0.663976 |\n",
      "| LCJ     | 0.202163   | 0.240128   | 0.259124   | 0.254844   | 0.254844   | 0.300036  | 0.25     | 0.272842  | 0.300036  | 0.260934   | 0.29661  | 0.262869 |\n",
      "| GDN     | 1          | 1          | 1          | 1          | 1          | 1         | 1        | 1         | 1         | 1          | 1        | 1        |\n",
      "| SZZ     | 0.221783   | 0.234438   | 0.237744   | 0.243064   | 0.243064   | 0.260584  | 0.214286 | 0.270787  | 0.260584  | 0.237958   | 0.254237 | 0.243503 |\n",
      "| BZG     | 0.404326   | 0.721237   | 0.972046   | 0.909116   | 0.909116   | 1         | 0.5      | 1         | 1         | 1          | 0.875706 | 0.844686 |\n",
      "| RZE     | 0.327493   | 0.395785   | 0.408825   | 0.403187   | 0.403187   | 0.27305   | 0.25     | 0.346177  | 0.27305   | 0.409183   | 0.247175 | 0.339738 |\n",
      "| IEG     | 0.00497747 | 0.00263993 | 0.00238927 | 0.00622855 | 0.00622855 | 0.0776793 | 0.025    | 0.0358807 | 0.0776793 | 0.00237613 | 0.258475 | 0.045414 |\n"
     ]
    }
   ],
   "source": [
    "# Assuming the necessary data frames 'inputs' and 'outputs' are already defined\n",
    "cross_eff_matrix = pd.DataFrame(index=inputs.index, columns=inputs.index, dtype=float)\n",
    "\n",
    "# Oblicz efektywność krzyżową\n",
    "for evaluator in inputs.index:  # DMU optymalizujący swoje wagi (dostarczający je innym)\n",
    "    # Zmienna decyzyjna: wagi dla wyjść i wejść\n",
    "    u = LpVariable.dicts(\"u\", outputs.columns, lowBound=0)\n",
    "    v = LpVariable.dicts(\"v\", inputs.columns, lowBound=0)\n",
    "\n",
    "    # Problem maksymalizacji (dualny model CCR - input-oriented)\n",
    "    prob = LpProblem(f\"Efficiency_{evaluator}\", LpMaximize)\n",
    "\n",
    "    # Funkcja celu: suma ważonych wyjść DMU oceniającego\n",
    "    prob += lpSum([u[r] * outputs.loc[evaluator, r] for r in outputs.columns])\n",
    "\n",
    "    # Ograniczenie: suma ważonych wejść = 1\n",
    "    prob += lpSum([v[i] * inputs.loc[evaluator, i] for i in inputs.columns]) == 1\n",
    "\n",
    "    # Ograniczenia dla pozostałych DMU – efektywność nie może przekraczać 1 przy tych wagach\n",
    "    for dmu in inputs.index:\n",
    "        prob += lpSum([u[r] * outputs.loc[dmu, r] for r in outputs.columns]) <= lpSum([v[i] * inputs.loc[dmu, i] for i in inputs.columns])\n",
    "\n",
    "    # Rozwiązanie\n",
    "    prob.solve(PULP_CBC_CMD(msg=False))\n",
    "\n",
    "    if LpStatus[prob.status] == 'Optimal':\n",
    "        for evaluated in inputs.index:  # DMU oceniane przy wagach z evaluator\n",
    "            numerator = sum(value(u[r]) * outputs.loc[evaluated, r] for r in outputs.columns)\n",
    "            denominator = sum(value(v[i]) * inputs.loc[evaluated, i] for i in inputs.columns)\n",
    "            cross_eff_matrix.loc[evaluated, evaluator] = numerator / denominator\n",
    "    else:\n",
    "        print(f\"Problem dla {evaluator} nie jest rozwiązywalny.\")\n",
    "\n",
    "# Obliczenie średnich ocen krzyżowych\n",
    "cross_eff_matrix['CRavg'] = cross_eff_matrix.mean(axis=1)\n",
    "\n",
    "# Format the table for display\n",
    "table_format = cross_eff_matrix.reset_index().to_markdown(index=False)\n",
    "print(table_format)\n"
   ],
   "metadata": {
    "collapsed": false
   }
  },
  {
   "cell_type": "code",
   "execution_count": 10,
   "outputs": [
    {
     "name": "stdout",
     "output_type": "stream",
     "text": [
      "\\begin{tabular}{c|cccccccccccc}\n",
      "\\toprule\n",
      " & WAW & KRK & KAT & WRO & POZ & LCJ & GDN & SZZ & BZG & RZE & IEG & CRavg \\\\\n",
      "\\midrule\n",
      "WAW & 1.000 & 1.000 & 0.913 & 1.000 & 1.000 & 0.595 & 0.452 & 1.000 & 0.595 & 0.903 & 0.523 & 0.816 \\\\\n",
      "KRK & 0.806 & 1.000 & 1.000 & 1.000 & 1.000 & 0.491 & 0.468 & 0.755 & 0.491 & 0.996 & 0.428 & 0.767 \\\\\n",
      "KAT & 0.469 & 0.575 & 0.591 & 0.563 & 0.563 & 0.278 & 0.333 & 0.371 & 0.278 & 0.591 & 0.248 & 0.442 \\\\\n",
      "WRO & 0.748 & 0.965 & 1.000 & 1.000 & 1.000 & 0.605 & 0.500 & 0.856 & 0.605 & 1.000 & 0.531 & 0.801 \\\\\n",
      "POZ & 0.716 & 0.793 & 0.774 & 0.800 & 0.800 & 0.512 & 0.433 & 0.737 & 0.512 & 0.770 & 0.458 & 0.664 \\\\\n",
      "LCJ & 0.202 & 0.240 & 0.259 & 0.255 & 0.255 & 0.300 & 0.250 & 0.273 & 0.300 & 0.261 & 0.297 & 0.263 \\\\\n",
      "GDN & 1.000 & 1.000 & 1.000 & 1.000 & 1.000 & 1.000 & 1.000 & 1.000 & 1.000 & 1.000 & 1.000 & 1.000 \\\\\n",
      "SZZ & 0.222 & 0.234 & 0.238 & 0.243 & 0.243 & 0.261 & 0.214 & 0.271 & 0.261 & 0.238 & 0.254 & 0.244 \\\\\n",
      "BZG & 0.404 & 0.721 & 0.972 & 0.909 & 0.909 & 1.000 & 0.500 & 1.000 & 1.000 & 1.000 & 0.876 & 0.845 \\\\\n",
      "RZE & 0.327 & 0.396 & 0.409 & 0.403 & 0.403 & 0.273 & 0.250 & 0.346 & 0.273 & 0.409 & 0.247 & 0.340 \\\\\n",
      "IEG & 0.005 & 0.003 & 0.002 & 0.006 & 0.006 & 0.078 & 0.025 & 0.036 & 0.078 & 0.002 & 0.258 & 0.045 \\\\\n",
      "\\bottomrule\n",
      "\\end{tabular}\n",
      "\n"
     ]
    }
   ],
   "source": [
    "print(cross_eff_matrix.round(3).to_latex(\n",
    "    header=True,\n",
    "    index_names=True,\n",
    "    column_format='c|' + 'c' * (len(cross_eff_matrix.columns)),\n",
    "    float_format=\"%.3f\"\n",
    "))\n"
   ],
   "metadata": {
    "collapsed": false
   }
  },
  {
   "cell_type": "code",
   "execution_count": 11,
   "outputs": [
    {
     "name": "stdout",
     "output_type": "stream",
     "text": [
      "|    | index   |   [0-0.2) |   [0.2-0.4) |   [0.4-0.6) |   [0.6-0.8) |   [0.8-1.0] |   EE |\n",
      "|----|---------|-----------|-------------|-------------|-------------|-------------|------|\n",
      "|  0 | WAW     |      0.00 |        0.00 |        0.36 |        0.00 |        0.64 | 0.80 |\n",
      "|  1 | KRK     |      0.00 |        0.00 |        0.36 |        0.18 |        0.45 | 0.75 |\n",
      "|  2 | KAT     |      0.00 |        0.45 |        0.55 |        0.00 |        0.00 | 0.43 |\n",
      "|  3 | WRO     |      0.00 |        0.00 |        0.18 |        0.27 |        0.55 | 0.78 |\n",
      "|  4 | POZ     |      0.00 |        0.00 |        0.36 |        0.64 |        0.00 | 0.65 |\n",
      "|  5 | LCJ     |      0.00 |        1.00 |        0.00 |        0.00 |        0.00 | 0.26 |\n",
      "|  6 | GDN     |      0.00 |        0.00 |        0.00 |        0.00 |        1.00 | 1.00 |\n",
      "|  7 | SZZ     |      0.00 |        1.00 |        0.00 |        0.00 |        0.00 | 0.24 |\n",
      "|  8 | BZG     |      0.00 |        0.00 |        0.18 |        0.09 |        0.73 | 0.83 |\n",
      "|  9 | RZE     |      0.00 |        0.73 |        0.27 |        0.00 |        0.00 | 0.33 |\n",
      "| 10 | IEG     |      1.00 |        0.00 |        0.00 |        0.00 |        0.00 | 0.03 |\n"
     ]
    }
   ],
   "source": [
    "bins = [0.0, 0.2, 0.4, 0.6, 0.8, 1.01]  # 1.01 by objąć dokładnie 1.0\n",
    "labels = ['[0-0.2)', '[0.2-0.4)', '[0.4-0.6)', '[0.6-0.8)', '[0.8-1.0]']\n",
    "\n",
    "cross_dist = pd.DataFrame(index=cross_eff_matrix.index, columns=labels + ['EE'])\n",
    "\n",
    "for dmu in cross_eff_matrix.index:\n",
    "    # Pomijamy self-evaluation\n",
    "    others = cross_eff_matrix.loc[dmu].drop(index=dmu)\n",
    "\n",
    "    # Przypisujemy przedziały\n",
    "    bins_assigned = pd.cut(others, bins=bins, labels=labels, right=False)\n",
    "\n",
    "    # Obliczamy udziały (czyli % ocen wpadających do danego przedziału)\n",
    "    distribution = bins_assigned.value_counts(normalize=True, sort=False)\n",
    "\n",
    "    # Wypełniamy wartości\n",
    "    for label in labels:\n",
    "        cross_dist.loc[dmu, label] = round(distribution.get(label, 0), 2)\n",
    "\n",
    "    # Dodajemy średnią efektywność (EE = CRavg)\n",
    "    cross_dist.loc[dmu, 'EE'] = round(cross_eff_matrix.loc[dmu].drop(index=dmu).mean(), 3)\n",
    "\n",
    "# Ustawiamy typy float do prezentacji\n",
    "cross_dist = cross_dist.astype(float)\n",
    "\n",
    "print(tabulate(cross_dist.reset_index(), headers='keys', tablefmt='github', floatfmt=\".2f\"))\n"
   ],
   "metadata": {
    "collapsed": false
   }
  },
  {
   "cell_type": "code",
   "execution_count": 12,
   "outputs": [
    {
     "name": "stdout",
     "output_type": "stream",
     "text": [
      "\\begin{tabular}{c|ccccc|c}\n",
      "\\toprule\n",
      " & [0-0.2) & [0.2-0.4) & [0.4-0.6) & [0.6-0.8) & [0.8-1.0] & EE \\\\\n",
      "\\midrule\n",
      "WAW & 0.00 & 0.00 & 0.36 & 0.00 & 0.64 & 0.80 \\\\\n",
      "KRK & 0.00 & 0.00 & 0.36 & 0.18 & 0.45 & 0.75 \\\\\n",
      "KAT & 0.00 & 0.45 & 0.55 & 0.00 & 0.00 & 0.43 \\\\\n",
      "WRO & 0.00 & 0.00 & 0.18 & 0.27 & 0.55 & 0.78 \\\\\n",
      "POZ & 0.00 & 0.00 & 0.36 & 0.64 & 0.00 & 0.65 \\\\\n",
      "LCJ & 0.00 & 1.00 & 0.00 & 0.00 & 0.00 & 0.26 \\\\\n",
      "GDN & 0.00 & 0.00 & 0.00 & 0.00 & 1.00 & 1.00 \\\\\n",
      "SZZ & 0.00 & 1.00 & 0.00 & 0.00 & 0.00 & 0.24 \\\\\n",
      "BZG & 0.00 & 0.00 & 0.18 & 0.09 & 0.73 & 0.83 \\\\\n",
      "RZE & 0.00 & 0.73 & 0.27 & 0.00 & 0.00 & 0.33 \\\\\n",
      "IEG & 1.00 & 0.00 & 0.00 & 0.00 & 0.00 & 0.03 \\\\\n",
      "\\bottomrule\n",
      "\\end{tabular}\n",
      "\n"
     ]
    }
   ],
   "source": [
    "print(cross_dist.to_latex(index=True, column_format=\"c|\" + \"c\"*5 + \"|c\", float_format=\"%.2f\"))"
   ],
   "metadata": {
    "collapsed": false
   }
  },
  {
   "cell_type": "code",
   "execution_count": 13,
   "outputs": [
    {
     "name": "stdout",
     "output_type": "stream",
     "text": [
      "Ranking superefektywności:\n",
      "WAW > GDN > BZG > KRK > WRO > POZ > KAT > RZE > LCJ > SZZ > IEG\n",
      "\n",
      "Ranking średniej efektywności krzyżowej:\n",
      "GDN > BZG > WAW > WRO > KRK > POZ > KAT > RZE > LCJ > SZZ > IEG\n",
      "\n",
      "Ranking oczekiwanej wartości efektywności:\n",
      "WAW > KRK > WRO > BZG > GDN > POZ > KAT > RZE > LCJ > SZZ > IEG\n"
     ]
    }
   ],
   "source": [
    "rank_superef = sorted(super_efficiency_scores.items(), key=lambda x: x[1], reverse=True)\n",
    "rank_cross = cross_eff_matrix['CRavg'].sort_values(ascending=False)\n",
    "rank_ee = df_efficiency['Efektywność'].sort_values(ascending=False)\n",
    "\n",
    "print(\"Ranking superefektywności:\")\n",
    "print(\" > \".join([dmu for dmu, score in rank_superef]))\n",
    "\n",
    "print(\"\\nRanking średniej efektywności krzyżowej:\")\n",
    "print(\" > \".join(rank_cross.index))\n",
    "\n",
    "print(\"\\nRanking oczekiwanej wartości efektywności:\")\n",
    "print(\" > \".join(rank_ee.index))\n"
   ],
   "metadata": {
    "collapsed": false
   }
  },
  {
   "cell_type": "code",
   "execution_count": 15,
   "outputs": [
    {
     "name": "stdout",
     "output_type": "stream",
     "text": [
      "Ranking superefektywności:\n",
      "WAW \\succ GDN \\succ BZG \\succ KRK \\succ WRO \\succ POZ \\succ KAT \\succ RZE \\succ LCJ \\succ SZZ \\succ IEG\n",
      "\n",
      "Ranking średniej efektywności krzyżowej:\n",
      "GDN \\succ BZG \\succ WAW \\succ WRO \\succ KRK \\succ POZ \\succ KAT \\succ RZE \\succ LCJ \\succ SZZ \\succ IEG\n",
      "\n",
      "Ranking oczekiwanej wartości efektywności:\n",
      "WAW \\succ KRK \\succ WRO \\succ BZG \\succ GDN \\succ POZ \\succ KAT \\succ RZE \\succ LCJ \\succ SZZ \\succ IEG\n"
     ]
    }
   ],
   "source": [
    "print(\"Ranking superefektywności:\")\n",
    "print(\" \\\\succ \".join([dmu for dmu, score in rank_superef]))\n",
    "\n",
    "print(\"\\nRanking średniej efektywności krzyżowej:\")\n",
    "print(\" \\\\succ \".join(rank_cross.index))\n",
    "\n",
    "print(\"\\nRanking oczekiwanej wartości efektywności:\")\n",
    "print(\" \\\\succ \".join(rank_ee.index))"
   ],
   "metadata": {
    "collapsed": false
   }
  },
  {
   "cell_type": "code",
   "execution_count": null,
   "outputs": [],
   "source": [],
   "metadata": {
    "collapsed": false
   }
  }
 ],
 "metadata": {
  "kernelspec": {
   "display_name": "Python 3",
   "language": "python",
   "name": "python3"
  },
  "language_info": {
   "codemirror_mode": {
    "name": "ipython",
    "version": 2
   },
   "file_extension": ".py",
   "mimetype": "text/x-python",
   "name": "python",
   "nbconvert_exporter": "python",
   "pygments_lexer": "ipython2",
   "version": "2.7.6"
  }
 },
 "nbformat": 4,
 "nbformat_minor": 0
}
